{
 "cells": [
  {
   "cell_type": "markdown",
   "id": "1a0b2f06",
   "metadata": {},
   "source": [
    "# 📊 **Cross-Validation for All Models**\n",
    "\n",
    "This notebook performs 5-fold cross-validation to evaluate the stability and generalization performance of multiple classification models. The models being evaluated include:\n",
    "- **Discipline Classifier** (Logistic Regression model for predicting disciplines: CS, IS, IT)\n",
    "- **Subfield Classifiers** (Logistic Regression models for predicting subfields within CS, IS, and IT)\n",
    "- **Methodology Classifier** (Logistic Regression model for predicting research methodologies)\n",
    "\n",
    "Each model is evaluated using cross-validation to ensure robust performance and to avoid overfitting to any specific data split. The goal is to compare these models' performance across different subsets of the dataset."
   ]
  },
  {
   "cell_type": "code",
   "execution_count": 2,
   "id": "059f2bdb",
   "metadata": {},
   "outputs": [],
   "source": [
    "# Data handling\n",
    "import pandas as pd\n",
    "import numpy as np\n",
    "\n",
    "# Machine Learning models and evaluation\n",
    "from sklearn.linear_model import LogisticRegression\n",
    "from sklearn.model_selection import cross_val_score\n",
    "from sklearn.feature_extraction.text import TfidfVectorizer\n",
    "from sklearn.pipeline import make_pipeline\n",
    "\n",
    "# Loading pre-trained models\n",
    "import joblib\n",
    "\n",
    "# Visualization (optional, if you want to plot cross-validation results)\n",
    "import matplotlib.pyplot as plt"
   ]
  },
  {
   "cell_type": "code",
   "execution_count": 3,
   "id": "01ea1572",
   "metadata": {},
   "outputs": [
    {
     "data": {
      "text/html": [
       "<div>\n",
       "<style scoped>\n",
       "    .dataframe tbody tr th:only-of-type {\n",
       "        vertical-align: middle;\n",
       "    }\n",
       "\n",
       "    .dataframe tbody tr th {\n",
       "        vertical-align: top;\n",
       "    }\n",
       "\n",
       "    .dataframe thead th {\n",
       "        text-align: right;\n",
       "    }\n",
       "</style>\n",
       "<table border=\"1\" class=\"dataframe\">\n",
       "  <thead>\n",
       "    <tr style=\"text-align: right;\">\n",
       "      <th></th>\n",
       "      <th>ID</th>\n",
       "      <th>Discipline</th>\n",
       "      <th>Subfield</th>\n",
       "      <th>Methodology</th>\n",
       "      <th>Abstract</th>\n",
       "    </tr>\n",
       "  </thead>\n",
       "  <tbody>\n",
       "    <tr>\n",
       "      <th>0</th>\n",
       "      <td>1</td>\n",
       "      <td>CS</td>\n",
       "      <td>CYB</td>\n",
       "      <td>QLT</td>\n",
       "      <td>Large Language Models (LLMs), such as ChatGPT ...</td>\n",
       "    </tr>\n",
       "    <tr>\n",
       "      <th>1</th>\n",
       "      <td>2</td>\n",
       "      <td>CS</td>\n",
       "      <td>CV</td>\n",
       "      <td>QNT</td>\n",
       "      <td>Despite the success of deep learning in close-...</td>\n",
       "    </tr>\n",
       "    <tr>\n",
       "      <th>2</th>\n",
       "      <td>3</td>\n",
       "      <td>CS</td>\n",
       "      <td>ML</td>\n",
       "      <td>QLT</td>\n",
       "      <td>Data analysis plays an indispensable role for ...</td>\n",
       "    </tr>\n",
       "    <tr>\n",
       "      <th>3</th>\n",
       "      <td>4</td>\n",
       "      <td>CS</td>\n",
       "      <td>CV</td>\n",
       "      <td>QNT</td>\n",
       "      <td>We present a method to analyze daily activitie...</td>\n",
       "    </tr>\n",
       "    <tr>\n",
       "      <th>4</th>\n",
       "      <td>5</td>\n",
       "      <td>CS</td>\n",
       "      <td>CYB</td>\n",
       "      <td>QNT</td>\n",
       "      <td>Elliptic curve cryptosystems are considered an...</td>\n",
       "    </tr>\n",
       "  </tbody>\n",
       "</table>\n",
       "</div>"
      ],
      "text/plain": [
       "   ID Discipline Subfield Methodology  \\\n",
       "0   1         CS      CYB         QLT   \n",
       "1   2         CS       CV         QNT   \n",
       "2   3         CS       ML         QLT   \n",
       "3   4         CS       CV         QNT   \n",
       "4   5         CS      CYB         QNT   \n",
       "\n",
       "                                            Abstract  \n",
       "0  Large Language Models (LLMs), such as ChatGPT ...  \n",
       "1  Despite the success of deep learning in close-...  \n",
       "2  Data analysis plays an indispensable role for ...  \n",
       "3  We present a method to analyze daily activitie...  \n",
       "4  Elliptic curve cryptosystems are considered an...  "
      ]
     },
     "execution_count": 3,
     "metadata": {},
     "output_type": "execute_result"
    }
   ],
   "source": [
    "# Load the dataset that includes Discipline, Subfield, and Methodology labels\n",
    "data = pd.read_csv('NLP_Abstract_Dataset (Method)(105).csv')\n",
    "X = data['Abstract']  # The text data\n",
    "y_discipline = data['Discipline']  # Discipline labels (CS, IS, IT)\n",
    "y_subfield = data['Subfield']  # Subfield labels (AI, ML, etc.)\n",
    "y_methodology = data['Methodology']  # Methodology labels\n",
    "data.head()  # Check if the dataset has loaded correctly"
   ]
  },
  {
   "cell_type": "markdown",
   "id": "3e07445d",
   "metadata": {},
   "source": [
    "## 2. 🧹 Load Pre-Trained TF-IDF Vectorizer and Logistic Regression Models\n",
    "\n",
    "In this section, we load the **pre-trained TF-IDF vectorizer** and the **Logistic Regression models** that were previously trained on the original dataset. These models include:\n",
    "- **Discipline Classifier**\n",
    "- **Subfield Classifiers** for CS, IS, and IT\n",
    "- **Methodology Classifier**"
   ]
  },
  {
   "cell_type": "code",
   "execution_count": 11,
   "id": "2aa698ac",
   "metadata": {},
   "outputs": [],
   "source": [
    "import joblib\n",
    "\n",
    "# Load TF-IDF vectorizer\n",
    "tfidf_vectorizer = joblib.load('Artefacts/tfidf_vectorizer.pkl')\n",
    "\n",
    "# Load Discipline classifier model\n",
    "discipline_model = joblib.load('Artefacts/discipline_classifier_logreg.pkl')"
   ]
  },
  {
   "cell_type": "markdown",
   "id": "bc9bf4e0",
   "metadata": {},
   "source": [
    "## 3. 🔍 Perform 5-Fold Cross-Validation for Discipline Model\n",
    "\n",
    "This section performs 5-fold cross-validation to evaluate the **Discipline Classifier** (Logistic Regression model for predicting disciplines: CS, IS, IT). The cross-validation results will provide an estimate of the model's performance and stability across different subsets of the dataset."
   ]
  },
  {
   "cell_type": "code",
   "execution_count": 12,
   "id": "78db4f65",
   "metadata": {},
   "outputs": [
    {
     "name": "stdout",
     "output_type": "stream",
     "text": [
      "Discipline Model - Cross-validation scores: [0.76190476 0.80952381 0.71428571 0.85714286 0.66666667]\n",
      "Average accuracy: 0.7619047619047619\n",
      "Standard deviation: 0.06734350297014738\n"
     ]
    }
   ],
   "source": [
    "from sklearn.model_selection import cross_val_score\n",
    "\n",
    "# Perform cross-validation for Discipline model\n",
    "discipline_cv_scores = cross_val_score(discipline_model, tfidf_vectorizer.transform(X), y_discipline, cv=5, scoring='accuracy')\n",
    "\n",
    "# Display results\n",
    "print(f\"Discipline Model - Cross-validation scores: {discipline_cv_scores}\")\n",
    "print(f\"Average accuracy: {discipline_cv_scores.mean()}\")\n",
    "print(f\"Standard deviation: {discipline_cv_scores.std()}\")"
   ]
  },
  {
   "cell_type": "markdown",
   "id": "ef012d62",
   "metadata": {},
   "source": [
    "### **4. Perform 5-Fold Cross-Validation for CS, IS, and IT Subfield Classifiers**\n",
    "\n",
    "This section performs **5-fold cross-validation** to evaluate the performance of the **CS Subfield Classifier**, **IS Subfield Classifier**, and **IT Subfield Classifier**.\n",
    "\n",
    "#### **Expected Outcome**:\n",
    "- The **CS Subfield Classifier** predicts subfields like **AI**, **ML**, **CV**, and **CYB** within **Computer Science**.\n",
    "- The **IS Subfield Classifier** predicts subfields like **BSP**, **DSA**, **ENT** within **Information Systems**.\n",
    "- The **IT Subfield Classifier** predicts subfields like **CLD**, **IOTNET**, **OPS** within **Information Technology**.\n",
    "\n",
    "#### **Cross-validation Process**:\n",
    "1. **Data Split**: The dataset is split into 5 subsets (folds).\n",
    "2. **Model Training**: For each fold, the model is trained on 4 of the subsets and tested on the remaining fold.\n",
    "3. **Performance Evaluation**: The accuracy for each fold is recorded, and the average performance is calculated.\n",
    "\n",
    "The cross-validation results will provide an estimate of the model’s stability and generalization ability across different subsets of the dataset."
   ]
  },
  {
   "cell_type": "markdown",
   "id": "bc43a5e6",
   "metadata": {},
   "source": [
    "# Load Pre-trained TF-IDF Vectorizers and Classifiers"
   ]
  },
  {
   "cell_type": "code",
   "execution_count": 13,
   "id": "34a62cc1",
   "metadata": {},
   "outputs": [],
   "source": [
    "# Load CS Subfield Models\n",
    "cs_vectorizer = joblib.load('Artefacts/tfidf_vectorizer_cs.pkl')\n",
    "cs_classifier = joblib.load('Artefacts/subfield_classifier_logreg_cs.pkl')\n",
    "\n",
    "# Load IS Subfield Models\n",
    "is_vectorizer = joblib.load('Artefacts/tfidf_vectorizer_is.pkl')\n",
    "is_classifier = joblib.load('Artefacts/subfield_classifier_logreg_is.pkl')\n",
    "\n",
    "# Load IT Subfield Models\n",
    "it_vectorizer = joblib.load('Artefacts/tfidf_vectorizer_it.pkl')\n",
    "it_classifier = joblib.load('Artefacts/subfield_classifier_logreg_it.pkl')"
   ]
  },
  {
   "cell_type": "markdown",
   "id": "1951e4bd",
   "metadata": {},
   "source": [
    "# Split Dataset into CS, IS, and IT Subsets"
   ]
  },
  {
   "cell_type": "code",
   "execution_count": 14,
   "id": "2bb5b74c",
   "metadata": {},
   "outputs": [],
   "source": [
    "# Subsets based on Discipline\n",
    "cs_data = data[data['Discipline'] == 'CS']\n",
    "is_data = data[data['Discipline'] == 'IS']\n",
    "it_data = data[data['Discipline'] == 'IT']\n",
    "\n",
    "# Texts and Labels for each subset\n",
    "X_cs = cs_data['Abstract']\n",
    "y_cs = cs_data['Subfield']\n",
    "\n",
    "X_is = is_data['Abstract']\n",
    "y_is = is_data['Subfield']\n",
    "\n",
    "X_it = it_data['Abstract']\n",
    "y_it = it_data['Subfield']"
   ]
  },
  {
   "cell_type": "markdown",
   "id": "88dd1e2e",
   "metadata": {},
   "source": [
    "# Create Pipelines (Vectorizer + Classifier for Each Subfield)"
   ]
  },
  {
   "cell_type": "code",
   "execution_count": 15,
   "id": "32f41fb1",
   "metadata": {},
   "outputs": [],
   "source": [
    "# CS Subfield Pipeline\n",
    "cs_pipeline = make_pipeline(cs_vectorizer, cs_classifier)\n",
    "\n",
    "# IS Subfield Pipeline\n",
    "is_pipeline = make_pipeline(is_vectorizer, is_classifier)\n",
    "\n",
    "# IT Subfield Pipeline\n",
    "it_pipeline = make_pipeline(it_vectorizer, it_classifier)"
   ]
  },
  {
   "cell_type": "markdown",
   "id": "bd3c46c3",
   "metadata": {},
   "source": [
    "# Perform 5-Fold Cross-Validation for Each Subfield Classifier"
   ]
  },
  {
   "cell_type": "code",
   "execution_count": 16,
   "id": "ad0d0c92",
   "metadata": {},
   "outputs": [
    {
     "name": "stdout",
     "output_type": "stream",
     "text": [
      "CS Subfield Classifier - Cross-validation scores: [0.14285714 0.57142857 0.42857143 0.14285714 0.14285714]\n",
      "Average accuracy: 0.2857142857142857\n",
      "Standard deviation: 0.18070158058105024\n",
      "\n",
      "IS Subfield Classifier - Cross-validation scores: [0.42857143 0.28571429 0.57142857 0.42857143 0.28571429]\n",
      "Average accuracy: 0.4\n",
      "Standard deviation: 0.10690449676496976\n",
      "\n",
      "IT Subfield Classifier - Cross-validation scores: [0.42857143 0.42857143 0.28571429 0.71428571 0.28571429]\n",
      "Average accuracy: 0.42857142857142855\n",
      "Standard deviation: 0.15649215928719032\n"
     ]
    }
   ],
   "source": [
    "# Cross-Validation for CS Subfield Classifier\n",
    "cs_scores = cross_val_score(cs_pipeline, X_cs, y_cs, cv=5)\n",
    "print(\"CS Subfield Classifier - Cross-validation scores:\", cs_scores)\n",
    "print(\"Average accuracy:\", np.mean(cs_scores))\n",
    "print(\"Standard deviation:\", np.std(cs_scores))\n",
    "\n",
    "# Cross-Validation for IS Subfield Classifier\n",
    "is_scores = cross_val_score(is_pipeline, X_is, y_is, cv=5)\n",
    "print(\"\\nIS Subfield Classifier - Cross-validation scores:\", is_scores)\n",
    "print(\"Average accuracy:\", np.mean(is_scores))\n",
    "print(\"Standard deviation:\", np.std(is_scores))\n",
    "\n",
    "# Cross-Validation for IT Subfield Classifier\n",
    "it_scores = cross_val_score(it_pipeline, X_it, y_it, cv=5)\n",
    "print(\"\\nIT Subfield Classifier - Cross-validation scores:\", it_scores)\n",
    "print(\"Average accuracy:\", np.mean(it_scores))\n",
    "print(\"Standard deviation:\", np.std(it_scores))"
   ]
  },
  {
   "cell_type": "markdown",
   "id": "4fc1e5d9",
   "metadata": {},
   "source": [
    "# 📊 Interpretation of 5-Fold Cross-Validation Results for Subfield Classifiers\n",
    "\n",
    "### Overview:\n",
    "We performed 5-fold cross-validation to evaluate the stability and generalization performance of the CS, IS, and IT Subfield Classifiers. The models were evaluated based on their average accuracy across the 5 folds and the standard deviation of these scores.\n",
    "\n",
    "---\n",
    "\n",
    "### CS Subfield Classifier:\n",
    "- **Cross-validation scores:** [0.14285714, 0.57142857, 0.42857143, 0.14285714, 0.14285714]\n",
    "- **Average accuracy:** 28.57%\n",
    "- **Standard deviation:** 18.07%\n",
    "\n",
    "**Interpretation:**\n",
    "- The CS subfield classifier shows **high variance** between folds.\n",
    "- Some folds achieve moderate accuracy (~57%), but others drop to very low values (~14%).\n",
    "- The model appears **unstable** and struggles to generalize consistently across different data splits.\n",
    "\n",
    "---\n",
    "\n",
    "### IS Subfield Classifier:\n",
    "- **Cross-validation scores:** [0.42857143, 0.28571429, 0.57142857, 0.42857143, 0.28571429]\n",
    "- **Average accuracy:** 40.00%\n",
    "- **Standard deviation:** 10.69%\n",
    "\n",
    "**Interpretation:**\n",
    "- The IS subfield classifier performs slightly better than the CS classifier, with a **higher average accuracy**.\n",
    "- The **variance is lower**, suggesting **slightly more stable** predictions across folds.\n",
    "- However, overall accuracy is still quite low, indicating difficulty in subclassifying IS abstracts reliably.\n",
    "\n",
    "---\n",
    "\n",
    "### IT Subfield Classifier:\n",
    "- **Cross-validation scores:** [0.42857143, 0.42857143, 0.28571429, 0.71428571, 0.28571429]\n",
    "- **Average accuracy:** 42.86%\n",
    "- **Standard deviation:** 15.65%\n",
    "\n",
    "**Interpretation:**\n",
    "- The IT subfield classifier achieved the **highest average accuracy** among the three models.\n",
    "- However, the standard deviation remains moderately high, showing **inconsistency** across different splits.\n",
    "- This model is relatively better but still exhibits significant variability.\n",
    "\n",
    "---\n",
    "\n",
    "### Key Takeaways:\n",
    "- **All three subfield classifiers show limited generalization** when trained on small datasets (35 records each for CS, IS, and IT).\n",
    "- **High variance** suggests **sensitivity to data splits**, which is expected given the small sample size.\n",
    "- **Future work** could involve:\n",
    "  - Increasing dataset size.\n",
    "  - Exploring more regularized models.\n",
    "  - Using stratified folds or group-based splitting to preserve label balance.\n",
    "\n",
    "---"
   ]
  },
  {
   "cell_type": "markdown",
   "id": "aa4ea128",
   "metadata": {},
   "source": [
    "## 5. Methodology Classification - Cross-Validation\n",
    "\n",
    "In this section, we evaluate the performance of the Methodology classification model using 5-fold stratified cross-validation.  \n",
    "We load the pre-trained TF-IDF vectorizer and Logistic Regression model for Methodology classification from the Artefacts folder.\n",
    "\n",
    "The dataset of research abstracts is transformed using the TF-IDF vectorizer, and cross-validation is performed on the transformed features.  \n",
    "Accuracy scores for each fold are recorded, along with the overall average accuracy and standard deviation.\n",
    "\n",
    "This provides insight into the model's generalization ability across different subsets of the data."
   ]
  },
  {
   "cell_type": "code",
   "execution_count": 17,
   "id": "7975fea6",
   "metadata": {},
   "outputs": [
    {
     "name": "stdout",
     "output_type": "stream",
     "text": [
      "Methodology Model - Cross-validation scores: [0.57142857 0.57142857 0.76190476 0.57142857 0.61904762]\n",
      "Average accuracy: 0.6190\n",
      "Standard deviation: 0.0738\n"
     ]
    }
   ],
   "source": [
    "# Load the Methodology vectorizer and classifier\n",
    "methodology_vectorizer = joblib.load('Artefacts/tfidf_vectorizer_methodology.pkl')\n",
    "methodology_model = joblib.load('Artefacts/methodology_classifier_logreg.pkl')\n",
    "\n",
    "# Transform the abstracts\n",
    "X_methodology = methodology_vectorizer.transform(X)  \n",
    "y_methodology = y_methodology  \n",
    "\n",
    "# Cross-validation\n",
    "methodology_cv_scores = cross_val_score(methodology_model, X_methodology, y_methodology, cv=5, scoring='accuracy')\n",
    "\n",
    "# Display results\n",
    "print(f\"Methodology Model - Cross-validation scores: {methodology_cv_scores}\")\n",
    "print(f\"Average accuracy: {methodology_cv_scores.mean():.4f}\")\n",
    "print(f\"Standard deviation: {methodology_cv_scores.std():.4f}\")"
   ]
  },
  {
   "cell_type": "markdown",
   "id": "e23dbd3c",
   "metadata": {},
   "source": [
    "### Methodology Classification - Cross-Validation Results\n",
    "\n",
    "- **Average Accuracy**: 0.6190\n",
    "- **Standard Deviation**: 0.0738\n",
    "\n",
    "---\n",
    "\n",
    "### Interpretation\n",
    "\n",
    "The Methodology classification model achieved an average accuracy of **61.9%** across 5 folds.  \n",
    "The standard deviation of accuracies was **0.0738**, indicating moderate variance across different folds.  \n",
    "The performance is lower compared to Discipline classification, which is expected due to the higher difficulty of distinguishing research methodologies from abstracts.  \n",
    "The model demonstrates reasonable generalization given the dataset size and task complexity."
   ]
  },
  {
   "cell_type": "code",
   "execution_count": null,
   "id": "167634e0",
   "metadata": {},
   "outputs": [],
   "source": []
  }
 ],
 "metadata": {
  "kernelspec": {
   "display_name": "Python 3 (ipykernel)",
   "language": "python",
   "name": "python3"
  },
  "language_info": {
   "codemirror_mode": {
    "name": "ipython",
    "version": 3
   },
   "file_extension": ".py",
   "mimetype": "text/x-python",
   "name": "python",
   "nbconvert_exporter": "python",
   "pygments_lexer": "ipython3",
   "version": "3.9.12"
  }
 },
 "nbformat": 4,
 "nbformat_minor": 5
}
