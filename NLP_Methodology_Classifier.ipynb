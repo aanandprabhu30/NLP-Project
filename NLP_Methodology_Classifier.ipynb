{
 "cells": [
  {
   "cell_type": "markdown",
   "id": "d63a60b4",
   "metadata": {},
   "source": [
    "# 📚 NLP Project – Research Methodology Classification\n",
    "This notebook trains a Logistic Regression model to classify research paper abstracts into Methodology categories (QLT, QNT, M) using TF-IDF features.\n",
    "\n",
    "Dataset: 105 abstracts labeled with Methodology.  \n",
    "Model: Logistic Regression with `class_weight='balanced'` to handle class imbalance."
   ]
  },
  {
   "cell_type": "markdown",
   "id": "6952f3cd",
   "metadata": {},
   "source": [
    "## 🛠️ Step 1: Import Required Libraries"
   ]
  },
  {
   "cell_type": "code",
   "execution_count": 1,
   "id": "89273a80",
   "metadata": {},
   "outputs": [],
   "source": [
    "import pandas as pd\n",
    "import numpy as np\n",
    "from sklearn.model_selection import train_test_split\n",
    "from sklearn.feature_extraction.text import TfidfVectorizer\n",
    "from sklearn.linear_model import LogisticRegression\n",
    "from sklearn.metrics import classification_report, confusion_matrix\n",
    "import joblib"
   ]
  },
  {
   "cell_type": "code",
   "execution_count": null,
   "id": "901f9fb2",
   "metadata": {},
   "outputs": [],
   "source": []
  }
 ],
 "metadata": {
  "kernelspec": {
   "display_name": "Python 3 (ipykernel)",
   "language": "python",
   "name": "python3"
  },
  "language_info": {
   "codemirror_mode": {
    "name": "ipython",
    "version": 3
   },
   "file_extension": ".py",
   "mimetype": "text/x-python",
   "name": "python",
   "nbconvert_exporter": "python",
   "pygments_lexer": "ipython3",
   "version": "3.9.12"
  }
 },
 "nbformat": 4,
 "nbformat_minor": 5
}
