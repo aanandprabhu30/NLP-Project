{
 "cells": [
  {
   "cell_type": "markdown",
   "id": "dfb9fab2-50e4-40eb-8851-3cfc8cf1bea7",
   "metadata": {},
   "source": [
    "# Methodology Classifier (v2.3 & v2.4): SPECTER + XGBoost\n",
    "\n",
    "- This notebook builds a methodology classifier using:\n",
    "\t- SPECTER on Title + Abstract\n",
    "\t- SMOTE oversampling to address class imbalance\n",
    "\t- XGBoost classifier"
   ]
  },
  {
   "cell_type": "markdown",
   "id": "32a05e9c-f524-4350-9dd9-c3830e98e305",
   "metadata": {},
   "source": [
    "### 1. Load and Prepare Methodology Dataset"
   ]
  },
  {
   "cell_type": "code",
   "execution_count": 5,
   "id": "4fe8726a-6f9f-4b78-9a0f-26413a46bc3c",
   "metadata": {},
   "outputs": [
    {
     "name": "stdout",
     "output_type": "stream",
     "text": [
      "(2028, 6)\n"
     ]
    },
    {
     "data": {
      "text/html": [
       "<div>\n",
       "<style scoped>\n",
       "    .dataframe tbody tr th:only-of-type {\n",
       "        vertical-align: middle;\n",
       "    }\n",
       "\n",
       "    .dataframe tbody tr th {\n",
       "        vertical-align: top;\n",
       "    }\n",
       "\n",
       "    .dataframe thead th {\n",
       "        text-align: right;\n",
       "    }\n",
       "</style>\n",
       "<table border=\"1\" class=\"dataframe\">\n",
       "  <thead>\n",
       "    <tr style=\"text-align: right;\">\n",
       "      <th></th>\n",
       "      <th>Title</th>\n",
       "      <th>Abstract</th>\n",
       "      <th>Methodology</th>\n",
       "      <th>input_text</th>\n",
       "    </tr>\n",
       "  </thead>\n",
       "  <tbody>\n",
       "    <tr>\n",
       "      <th>0</th>\n",
       "      <td>EnStack: An Ensemble Stacking Framework of Lar...</td>\n",
       "      <td>Automated detection of software vulnerabilitie...</td>\n",
       "      <td>Quantitative</td>\n",
       "      <td>EnStack: An Ensemble Stacking Framework of Lar...</td>\n",
       "    </tr>\n",
       "    <tr>\n",
       "      <th>1</th>\n",
       "      <td>An Overview of Cyber Security Funding for Open...</td>\n",
       "      <td>Context: Many open source software (OSS) proje...</td>\n",
       "      <td>Qualitative</td>\n",
       "      <td>An Overview of Cyber Security Funding for Open...</td>\n",
       "    </tr>\n",
       "    <tr>\n",
       "      <th>2</th>\n",
       "      <td>From Requirements to Test Cases: An NLP-Based ...</td>\n",
       "      <td>Automating test case specification generation ...</td>\n",
       "      <td>Quantitative</td>\n",
       "      <td>From Requirements to Test Cases: An NLP-Based ...</td>\n",
       "    </tr>\n",
       "    <tr>\n",
       "      <th>3</th>\n",
       "      <td>Task-parallelism in SWIFT for heterogeneous co...</td>\n",
       "      <td>This paper highlights the first steps towards ...</td>\n",
       "      <td>Quantitative</td>\n",
       "      <td>Task-parallelism in SWIFT for heterogeneous co...</td>\n",
       "    </tr>\n",
       "    <tr>\n",
       "      <th>4</th>\n",
       "      <td>Annif at SemEval-2025 Task 5: Traditional XMTC...</td>\n",
       "      <td>This paper presents the Annif system in SemEva...</td>\n",
       "      <td>Mixed</td>\n",
       "      <td>Annif at SemEval-2025 Task 5: Traditional XMTC...</td>\n",
       "    </tr>\n",
       "  </tbody>\n",
       "</table>\n",
       "</div>"
      ],
      "text/plain": [
       "                                               Title  \\\n",
       "0  EnStack: An Ensemble Stacking Framework of Lar...   \n",
       "1  An Overview of Cyber Security Funding for Open...   \n",
       "2  From Requirements to Test Cases: An NLP-Based ...   \n",
       "3  Task-parallelism in SWIFT for heterogeneous co...   \n",
       "4  Annif at SemEval-2025 Task 5: Traditional XMTC...   \n",
       "\n",
       "                                            Abstract   Methodology  \\\n",
       "0  Automated detection of software vulnerabilitie...  Quantitative   \n",
       "1  Context: Many open source software (OSS) proje...   Qualitative   \n",
       "2  Automating test case specification generation ...  Quantitative   \n",
       "3  This paper highlights the first steps towards ...  Quantitative   \n",
       "4  This paper presents the Annif system in SemEva...         Mixed   \n",
       "\n",
       "                                          input_text  \n",
       "0  EnStack: An Ensemble Stacking Framework of Lar...  \n",
       "1  An Overview of Cyber Security Funding for Open...  \n",
       "2  From Requirements to Test Cases: An NLP-Based ...  \n",
       "3  Task-parallelism in SWIFT for heterogeneous co...  \n",
       "4  Annif at SemEval-2025 Task 5: Traditional XMTC...  "
      ]
     },
     "execution_count": 5,
     "metadata": {},
     "output_type": "execute_result"
    }
   ],
   "source": [
    "import pandas as pd\n",
    "\n",
    "# Step 1: Load dataset\n",
    "df = pd.read_csv(\"Data/methodology.csv\")   \n",
    "\n",
    "# Combine Title + Abstract into input_text\n",
    "df[\"input_text\"] = (\n",
    "    df[\"Title\"].astype(str).str.strip() + \" \" +\n",
    "    df[\"Abstract\"].astype(str).str.strip()\n",
    ")\n",
    "\n",
    "# Preview\n",
    "print(df.shape)\n",
    "df[[\"Title\",\"Abstract\",\"Methodology\",\"input_text\"]].head()"
   ]
  },
  {
   "cell_type": "markdown",
   "id": "271476de-7a6f-49f5-a8ac-453132ff9290",
   "metadata": {},
   "source": [
    "### 2. Check Methodology Distribution and Encode Labels"
   ]
  },
  {
   "cell_type": "code",
   "execution_count": 6,
   "id": "112160c8-9cca-4216-814c-309d99d90dba",
   "metadata": {},
   "outputs": [
    {
     "name": "stdout",
     "output_type": "stream",
     "text": [
      "Methodology distribution:\n",
      "  Quantitative: 926\n",
      "  Qualitative: 764\n",
      "  Mixed: 338\n"
     ]
    },
    {
     "data": {
      "text/html": [
       "<div>\n",
       "<style scoped>\n",
       "    .dataframe tbody tr th:only-of-type {\n",
       "        vertical-align: middle;\n",
       "    }\n",
       "\n",
       "    .dataframe tbody tr th {\n",
       "        vertical-align: top;\n",
       "    }\n",
       "\n",
       "    .dataframe thead th {\n",
       "        text-align: right;\n",
       "    }\n",
       "</style>\n",
       "<table border=\"1\" class=\"dataframe\">\n",
       "  <thead>\n",
       "    <tr style=\"text-align: right;\">\n",
       "      <th></th>\n",
       "      <th>Methodology</th>\n",
       "      <th>Method_label</th>\n",
       "    </tr>\n",
       "  </thead>\n",
       "  <tbody>\n",
       "    <tr>\n",
       "      <th>4</th>\n",
       "      <td>Mixed</td>\n",
       "      <td>0</td>\n",
       "    </tr>\n",
       "    <tr>\n",
       "      <th>1</th>\n",
       "      <td>Qualitative</td>\n",
       "      <td>1</td>\n",
       "    </tr>\n",
       "    <tr>\n",
       "      <th>0</th>\n",
       "      <td>Quantitative</td>\n",
       "      <td>2</td>\n",
       "    </tr>\n",
       "  </tbody>\n",
       "</table>\n",
       "</div>"
      ],
      "text/plain": [
       "    Methodology  Method_label\n",
       "4         Mixed             0\n",
       "1   Qualitative             1\n",
       "0  Quantitative             2"
      ]
     },
     "execution_count": 6,
     "metadata": {},
     "output_type": "execute_result"
    }
   ],
   "source": [
    "from collections import Counter\n",
    "from sklearn.preprocessing import LabelEncoder\n",
    "\n",
    "# Check class counts\n",
    "print(\"Methodology distribution:\")\n",
    "for m,c in Counter(df[\"Methodology\"]).items():\n",
    "    print(f\"  {m}: {c}\")\n",
    "\n",
    "# Encode labels\n",
    "le = LabelEncoder()\n",
    "df[\"Method_label\"] = le.fit_transform(df[\"Methodology\"])\n",
    "\n",
    "# Preview label mapping\n",
    "df[[\"Methodology\",\"Method_label\"]].drop_duplicates().sort_values(\"Method_label\")"
   ]
  },
  {
   "cell_type": "markdown",
   "id": "5e4056cf-bfcf-4422-9edd-da999e0fa05e",
   "metadata": {},
   "source": [
    "#### 3. Generate SPECTER Embeddings  \n",
    "Load the `allena-specter` model to turn each `input_text` into a 768-dim dense vector."
   ]
  },
  {
   "cell_type": "code",
   "execution_count": 8,
   "id": "4d5a8636-1ed8-484b-862c-3987319303bb",
   "metadata": {},
   "outputs": [
    {
     "data": {
      "application/vnd.jupyter.widget-view+json": {
       "model_id": "1594833d3a824147afca1bd4e1467e51",
       "version_major": 2,
       "version_minor": 0
      },
      "text/plain": [
       "Batches:   0%|          | 0/64 [00:00<?, ?it/s]"
      ]
     },
     "metadata": {},
     "output_type": "display_data"
    },
    {
     "name": "stdout",
     "output_type": "stream",
     "text": [
      "SPECTER embeddings shape: (2028, 768)\n"
     ]
    }
   ],
   "source": [
    "from sentence_transformers import SentenceTransformer\n",
    "\n",
    "# Load the pretrained SPECTER model\n",
    "model = SentenceTransformer(\"allenai-specter\")\n",
    "\n",
    "# Encode all input_text (this can take ~1–2 min)\n",
    "X = model.encode(\n",
    "    df[\"input_text\"].tolist(),\n",
    "    batch_size=32,\n",
    "    show_progress_bar=True\n",
    ")\n",
    "\n",
    "# Your label array stays the same\n",
    "y = df[\"Method_label\"].values\n",
    "\n",
    "print(f\"SPECTER embeddings shape: {X.shape}\")"
   ]
  },
  {
   "cell_type": "markdown",
   "id": "d24158c2-d9a6-4999-abe8-3284609f954a",
   "metadata": {},
   "source": [
    "#### 4. Train-Test Split  \n",
    "80/20 stratified split on your new embeddings."
   ]
  },
  {
   "cell_type": "code",
   "execution_count": 9,
   "id": "a3f5d060-4dad-4ffa-9513-f376f127d8e5",
   "metadata": {},
   "outputs": [
    {
     "name": "stdout",
     "output_type": "stream",
     "text": [
      "Train size: (1622, 768), Test size: (406, 768)\n"
     ]
    }
   ],
   "source": [
    "from sklearn.model_selection import train_test_split\n",
    "\n",
    "X_train, X_test, y_train, y_test = train_test_split(\n",
    "    X, y,\n",
    "    test_size=0.20,\n",
    "    stratify=y,\n",
    "    random_state=42\n",
    ")\n",
    "\n",
    "print(f\"Train size: {X_train.shape}, Test size: {X_test.shape}\")"
   ]
  },
  {
   "cell_type": "markdown",
   "id": "e4aed460-c40f-4b71-8e50-022d701244b3",
   "metadata": {},
   "source": [
    "### 5. Train XGBoost Classifier (v2.3 Baseline)"
   ]
  },
  {
   "cell_type": "code",
   "execution_count": 10,
   "id": "87aa78e4-edf6-463f-ad75-985de64a38eb",
   "metadata": {},
   "outputs": [
    {
     "name": "stderr",
     "output_type": "stream",
     "text": [
      "huggingface/tokenizers: The current process just got forked, after parallelism has already been used. Disabling parallelism to avoid deadlocks...\n",
      "To disable this warning, you can either:\n",
      "\t- Avoid using `tokenizers` before the fork if possible\n",
      "\t- Explicitly set the environment variable TOKENIZERS_PARALLELISM=(true | false)\n",
      "/opt/anaconda3/envs/nlp-bert/lib/python3.10/site-packages/xgboost/training.py:183: UserWarning: [14:02:34] WARNING: /Users/runner/work/xgboost/xgboost/src/learner.cc:738: \n",
      "Parameters: { \"use_label_encoder\" } are not used.\n",
      "\n",
      "  bst.update(dtrain, iteration=i, fobj=obj)\n"
     ]
    },
    {
     "name": "stdout",
     "output_type": "stream",
     "text": [
      "Resampled train size: (2223, 768), Class counts: {2: 741, 1: 741, 0: 741}\n",
      "✅ Baseline XGBoost model trained\n"
     ]
    }
   ],
   "source": [
    "from imblearn.over_sampling import SMOTE\n",
    "from xgboost import XGBClassifier\n",
    "\n",
    "# 5.1 Balance the training set\n",
    "smote = SMOTE(random_state=42)\n",
    "X_res, y_res = smote.fit_resample(X_train, y_train)\n",
    "\n",
    "print(f\"Resampled train size: {X_res.shape}, Class counts: {pd.Series(y_res).value_counts().to_dict()}\")\n",
    "\n",
    "# 5.2 Train XGBoost on the resampled data\n",
    "xgb = XGBClassifier(\n",
    "    use_label_encoder=False,   # suppress deprecation warning\n",
    "    eval_metric=\"mlogloss\",    # multiclass log-loss\n",
    "    random_state=42\n",
    ")\n",
    "xgb.fit(X_res, y_res)\n",
    "\n",
    "print(\"✅ Baseline XGBoost model trained\")"
   ]
  },
  {
   "cell_type": "markdown",
   "id": "4eab7f2f-848a-4e57-9829-6ab5f1116fff",
   "metadata": {},
   "source": [
    "### 6. Evaluate Model Performance\n"
   ]
  },
  {
   "cell_type": "code",
   "execution_count": 11,
   "id": "45dc82e8-d08f-4f13-98ec-b42eaf41afe4",
   "metadata": {},
   "outputs": [
    {
     "name": "stdout",
     "output_type": "stream",
     "text": [
      "Classification Report:\n",
      "\n",
      "              precision    recall  f1-score   support\n",
      "\n",
      "       Mixed       0.40      0.31      0.35        68\n",
      " Qualitative       0.85      0.82      0.83       153\n",
      "Quantitative       0.77      0.85      0.81       185\n",
      "\n",
      "    accuracy                           0.75       406\n",
      "   macro avg       0.67      0.66      0.66       406\n",
      "weighted avg       0.74      0.75      0.74       406\n",
      "\n",
      "Confusion Matrix:\n",
      "\n",
      "[[ 21  12  35]\n",
      " [ 15 126  12]\n",
      " [ 16  11 158]]\n"
     ]
    }
   ],
   "source": [
    "from sklearn.metrics import classification_report, confusion_matrix\n",
    "\n",
    "# Predict on test set\n",
    "y_pred = xgb.predict(X_test)\n",
    "\n",
    "# Decode numeric labels back to methodology names\n",
    "method_names = le.inverse_transform([0,1,2])  # [“Mixed”, “Qualitative”, “Quantitative”]\n",
    "\n",
    "# Print detailed metrics\n",
    "print(\"Classification Report:\\n\")\n",
    "print(classification_report(y_test, y_pred, target_names=method_names))\n",
    "\n",
    "# Show confusion matrix\n",
    "print(\"Confusion Matrix:\\n\")\n",
    "print(confusion_matrix(y_test, y_pred))"
   ]
  },
  {
   "cell_type": "markdown",
   "id": "d89dd8d8-90f4-4b68-ba18-e7782f39c2e8",
   "metadata": {},
   "source": [
    "### 7. Save Model and encoder"
   ]
  },
  {
   "cell_type": "code",
   "execution_count": 14,
   "id": "3ef7a356-c259-4370-9f44-cc947b6a8a8a",
   "metadata": {},
   "outputs": [
    {
     "name": "stdout",
     "output_type": "stream",
     "text": [
      "✅ Saved LabelEncoder and XGBoost model to Artefacts/\n"
     ]
    }
   ],
   "source": [
    "import joblib, os\n",
    "\n",
    "joblib.dump(le,\"Artefacts/methodology_label_encoder_v2.3.joblib\")\n",
    "joblib.dump(xgb,\"Artefacts/methodology_xgb_v2.3.joblib\")\n",
    "\n",
    "print(\"✅ Saved LabelEncoder and XGBoost model to Artefacts/\")\n"
   ]
  },
  {
   "cell_type": "markdown",
   "id": "154ac472-efd3-45a4-a849-3244f41232b5",
   "metadata": {},
   "source": [
    "### Classification Results Summary (v2.3 – SPECTER + XGBoost)\n",
    "\n",
    "The classifier achieved the following evaluation metrics on the test set:\n",
    "\n",
    "- **Accuracy:** 0.75  \n",
    "- **Macro F1-score:** 0.66  \n",
    "- **Weighted F1-score:** 0.74  \n",
    "\n",
    "🔍 **Per-Class F1 Scores:**\n",
    "\n",
    "| Methodology  | F1 Score | Comments                                            |\n",
    "| ------------ | -------- | --------------------------------------------------- |\n",
    "| Qualitative  | 0.83     | Strong precision & recall; clear linguistic cues.   |\n",
    "| Quantitative | 0.81     | Good overall; minor confusion with Mixed abstracts. |\n",
    "| Mixed        | 0.35     | Under-represented; consider more oversampling or CW.|"
   ]
  },
  {
   "cell_type": "markdown",
   "id": "ee921525-7556-4df0-bb96-69b832bec8d0",
   "metadata": {},
   "source": [
    "### Confusion Matrix (Heatmap)\n",
    "We plot the confusion matrix as a heatmap to visualize where the model is confusing between subfields."
   ]
  },
  {
   "cell_type": "code",
   "execution_count": 16,
   "id": "3363a162-982e-4a54-a31e-598ecdf01c58",
   "metadata": {},
   "outputs": [
    {
     "data": {
      "image/png": "[encoded data removed]",
      "text/plain": [
       "<Figure size 600x500 with 2 Axes>"
      ]
     },
     "metadata": {},
     "output_type": "display_data"
    }
   ],
   "source": [
    "import matplotlib.pyplot as plt\n",
    "import seaborn as sns\n",
    "from sklearn.metrics import confusion_matrix\n",
    "\n",
    "# Compute confusion matrix\n",
    "cm = confusion_matrix(y_test, y_pred)\n",
    "\n",
    "# Plot\n",
    "plt.figure(figsize=(6,5))\n",
    "sns.heatmap(\n",
    "    cm,\n",
    "    annot=True,\n",
    "    fmt='d',\n",
    "    cmap='Blues',\n",
    "    xticklabels=le.classes_,\n",
    "    yticklabels=le.classes_\n",
    ")\n",
    "plt.xlabel('Predicted Label')\n",
    "plt.ylabel('True Label')\n",
    "plt.title('Confusion Matrix – Methodology Classifier (v2.3)')\n",
    "plt.tight_layout()\n",
    "plt.show()"
   ]
  },
  {
   "cell_type": "markdown",
   "id": "858ff616-1d68-4d31-9f10-5e4dd58da0d3",
   "metadata": {},
   "source": [
    "## 8. Hyperparameter Tuning (XGBoost) - v2.4\n",
    "\n",
    "We use `GridSearchCV` to optimize key hyperparameters:\n",
    "\n",
    "- `max_depth`: Maximum tree depth (model complexity)\n",
    "- `learning_rate`: Step size shrinkage\n",
    "- `n_estimators`: Number of boosting rounds"
   ]
  },
  {
   "cell_type": "code",
   "execution_count": 18,
   "id": "50f01c72-9439-4a6d-8fc5-f2a6745e91ce",
   "metadata": {},
   "outputs": [
    {
     "name": "stdout",
     "output_type": "stream",
     "text": [
      "Fitting 3 folds for each of 18 candidates, totalling 54 fits\n"
     ]
    },
    {
     "name": "stderr",
     "output_type": "stream",
     "text": [
      "/opt/anaconda3/envs/nlp-bert/lib/python3.10/site-packages/xgboost/training.py:183: UserWarning: [14:23:02] WARNING: /Users/runner/work/xgboost/xgboost/src/learner.cc:738: \n",
      "Parameters: { \"use_label_encoder\" } are not used.\n",
      "\n",
      "  bst.update(dtrain, iteration=i, fobj=obj)\n",
      "/opt/anaconda3/envs/nlp-bert/lib/python3.10/site-packages/xgboost/training.py:183: UserWarning: [14:23:03] WARNING: /Users/runner/work/xgboost/xgboost/src/learner.cc:738: \n",
      "Parameters: { \"use_label_encoder\" } are not used.\n",
      "\n",
      "  bst.update(dtrain, iteration=i, fobj=obj)\n",
      "/opt/anaconda3/envs/nlp-bert/lib/python3.10/site-packages/xgboost/training.py:183: UserWarning: [14:23:05] WARNING: /Users/runner/work/xgboost/xgboost/src/learner.cc:738: \n",
      "Parameters: { \"use_label_encoder\" } are not used.\n",
      "\n",
      "  bst.update(dtrain, iteration=i, fobj=obj)\n",
      "/opt/anaconda3/envs/nlp-bert/lib/python3.10/site-packages/xgboost/training.py:183: UserWarning: [14:23:06] WARNING: /Users/runner/work/xgboost/xgboost/src/learner.cc:738: \n",
      "Parameters: { \"use_label_encoder\" } are not used.\n",
      "\n",
      "  bst.update(dtrain, iteration=i, fobj=obj)\n",
      "/opt/anaconda3/envs/nlp-bert/lib/python3.10/site-packages/xgboost/training.py:183: UserWarning: [14:23:09] WARNING: /Users/runner/work/xgboost/xgboost/src/learner.cc:738: \n",
      "Parameters: { \"use_label_encoder\" } are not used.\n",
      "\n",
      "  bst.update(dtrain, iteration=i, fobj=obj)\n",
      "/opt/anaconda3/envs/nlp-bert/lib/python3.10/site-packages/xgboost/training.py:183: UserWarning: [14:23:12] WARNING: /Users/runner/work/xgboost/xgboost/src/learner.cc:738: \n",
      "Parameters: { \"use_label_encoder\" } are not used.\n",
      "\n",
      "  bst.update(dtrain, iteration=i, fobj=obj)\n",
      "/opt/anaconda3/envs/nlp-bert/lib/python3.10/site-packages/xgboost/training.py:183: UserWarning: [14:23:15] WARNING: /Users/runner/work/xgboost/xgboost/src/learner.cc:738: \n",
      "Parameters: { \"use_label_encoder\" } are not used.\n",
      "\n",
      "  bst.update(dtrain, iteration=i, fobj=obj)\n",
      "/opt/anaconda3/envs/nlp-bert/lib/python3.10/site-packages/xgboost/training.py:183: UserWarning: [14:23:19] WARNING: /Users/runner/work/xgboost/xgboost/src/learner.cc:738: \n",
      "Parameters: { \"use_label_encoder\" } are not used.\n",
      "\n",
      "  bst.update(dtrain, iteration=i, fobj=obj)\n",
      "/opt/anaconda3/envs/nlp-bert/lib/python3.10/site-packages/xgboost/training.py:183: UserWarning: [14:23:24] WARNING: /Users/runner/work/xgboost/xgboost/src/learner.cc:738: \n",
      "Parameters: { \"use_label_encoder\" } are not used.\n",
      "\n",
      "  bst.update(dtrain, iteration=i, fobj=obj)\n",
      "/opt/anaconda3/envs/nlp-bert/lib/python3.10/site-packages/xgboost/training.py:183: UserWarning: [14:23:28] WARNING: /Users/runner/work/xgboost/xgboost/src/learner.cc:738: \n",
      "Parameters: { \"use_label_encoder\" } are not used.\n",
      "\n",
      "  bst.update(dtrain, iteration=i, fobj=obj)\n",
      "/opt/anaconda3/envs/nlp-bert/lib/python3.10/site-packages/xgboost/training.py:183: UserWarning: [14:23:36] WARNING: /Users/runner/work/xgboost/xgboost/src/learner.cc:738: \n",
      "Parameters: { \"use_label_encoder\" } are not used.\n",
      "\n",
      "  bst.update(dtrain, iteration=i, fobj=obj)\n",
      "/opt/anaconda3/envs/nlp-bert/lib/python3.10/site-packages/xgboost/training.py:183: UserWarning: [14:23:44] WARNING: /Users/runner/work/xgboost/xgboost/src/learner.cc:738: \n",
      "Parameters: { \"use_label_encoder\" } are not used.\n",
      "\n",
      "  bst.update(dtrain, iteration=i, fobj=obj)\n",
      "/opt/anaconda3/envs/nlp-bert/lib/python3.10/site-packages/xgboost/training.py:183: UserWarning: [14:23:52] WARNING: /Users/runner/work/xgboost/xgboost/src/learner.cc:738: \n",
      "Parameters: { \"use_label_encoder\" } are not used.\n",
      "\n",
      "  bst.update(dtrain, iteration=i, fobj=obj)\n",
      "/opt/anaconda3/envs/nlp-bert/lib/python3.10/site-packages/xgboost/training.py:183: UserWarning: [14:24:00] WARNING: /Users/runner/work/xgboost/xgboost/src/learner.cc:738: \n",
      "Parameters: { \"use_label_encoder\" } are not used.\n",
      "\n",
      "  bst.update(dtrain, iteration=i, fobj=obj)\n",
      "/opt/anaconda3/envs/nlp-bert/lib/python3.10/site-packages/xgboost/training.py:183: UserWarning: [14:24:08] WARNING: /Users/runner/work/xgboost/xgboost/src/learner.cc:738: \n",
      "Parameters: { \"use_label_encoder\" } are not used.\n",
      "\n",
      "  bst.update(dtrain, iteration=i, fobj=obj)\n",
      "/opt/anaconda3/envs/nlp-bert/lib/python3.10/site-packages/xgboost/training.py:183: UserWarning: [14:24:16] WARNING: /Users/runner/work/xgboost/xgboost/src/learner.cc:738: \n",
      "Parameters: { \"use_label_encoder\" } are not used.\n",
      "\n",
      "  bst.update(dtrain, iteration=i, fobj=obj)\n",
      "/opt/anaconda3/envs/nlp-bert/lib/python3.10/site-packages/xgboost/training.py:183: UserWarning: [14:24:28] WARNING: /Users/runner/work/xgboost/xgboost/src/learner.cc:738: \n",
      "Parameters: { \"use_label_encoder\" } are not used.\n",
      "\n",
      "  bst.update(dtrain, iteration=i, fobj=obj)\n",
      "/opt/anaconda3/envs/nlp-bert/lib/python3.10/site-packages/xgboost/training.py:183: UserWarning: [14:24:41] WARNING: /Users/runner/work/xgboost/xgboost/src/learner.cc:738: \n",
      "Parameters: { \"use_label_encoder\" } are not used.\n",
      "\n",
      "  bst.update(dtrain, iteration=i, fobj=obj)\n",
      "/opt/anaconda3/envs/nlp-bert/lib/python3.10/site-packages/xgboost/training.py:183: UserWarning: [14:24:53] WARNING: /Users/runner/work/xgboost/xgboost/src/learner.cc:738: \n",
      "Parameters: { \"use_label_encoder\" } are not used.\n",
      "\n",
      "  bst.update(dtrain, iteration=i, fobj=obj)\n",
      "/opt/anaconda3/envs/nlp-bert/lib/python3.10/site-packages/xgboost/training.py:183: UserWarning: [14:24:54] WARNING: /Users/runner/work/xgboost/xgboost/src/learner.cc:738: \n",
      "Parameters: { \"use_label_encoder\" } are not used.\n",
      "\n",
      "  bst.update(dtrain, iteration=i, fobj=obj)\n",
      "/opt/anaconda3/envs/nlp-bert/lib/python3.10/site-packages/xgboost/training.py:183: UserWarning: [14:24:56] WARNING: /Users/runner/work/xgboost/xgboost/src/learner.cc:738: \n",
      "Parameters: { \"use_label_encoder\" } are not used.\n",
      "\n",
      "  bst.update(dtrain, iteration=i, fobj=obj)\n",
      "/opt/anaconda3/envs/nlp-bert/lib/python3.10/site-packages/xgboost/training.py:183: UserWarning: [14:24:57] WARNING: /Users/runner/work/xgboost/xgboost/src/learner.cc:738: \n",
      "Parameters: { \"use_label_encoder\" } are not used.\n",
      "\n",
      "  bst.update(dtrain, iteration=i, fobj=obj)\n",
      "/opt/anaconda3/envs/nlp-bert/lib/python3.10/site-packages/xgboost/training.py:183: UserWarning: [14:25:00] WARNING: /Users/runner/work/xgboost/xgboost/src/learner.cc:738: \n",
      "Parameters: { \"use_label_encoder\" } are not used.\n",
      "\n",
      "  bst.update(dtrain, iteration=i, fobj=obj)\n",
      "/opt/anaconda3/envs/nlp-bert/lib/python3.10/site-packages/xgboost/training.py:183: UserWarning: [14:25:03] WARNING: /Users/runner/work/xgboost/xgboost/src/learner.cc:738: \n",
      "Parameters: { \"use_label_encoder\" } are not used.\n",
      "\n",
      "  bst.update(dtrain, iteration=i, fobj=obj)\n",
      "/opt/anaconda3/envs/nlp-bert/lib/python3.10/site-packages/xgboost/training.py:183: UserWarning: [14:25:06] WARNING: /Users/runner/work/xgboost/xgboost/src/learner.cc:738: \n",
      "Parameters: { \"use_label_encoder\" } are not used.\n",
      "\n",
      "  bst.update(dtrain, iteration=i, fobj=obj)\n",
      "/opt/anaconda3/envs/nlp-bert/lib/python3.10/site-packages/xgboost/training.py:183: UserWarning: [14:25:10] WARNING: /Users/runner/work/xgboost/xgboost/src/learner.cc:738: \n",
      "Parameters: { \"use_label_encoder\" } are not used.\n",
      "\n",
      "  bst.update(dtrain, iteration=i, fobj=obj)\n",
      "/opt/anaconda3/envs/nlp-bert/lib/python3.10/site-packages/xgboost/training.py:183: UserWarning: [14:25:14] WARNING: /Users/runner/work/xgboost/xgboost/src/learner.cc:738: \n",
      "Parameters: { \"use_label_encoder\" } are not used.\n",
      "\n",
      "  bst.update(dtrain, iteration=i, fobj=obj)\n",
      "/opt/anaconda3/envs/nlp-bert/lib/python3.10/site-packages/xgboost/training.py:183: UserWarning: [14:25:18] WARNING: /Users/runner/work/xgboost/xgboost/src/learner.cc:738: \n",
      "Parameters: { \"use_label_encoder\" } are not used.\n",
      "\n",
      "  bst.update(dtrain, iteration=i, fobj=obj)\n",
      "/opt/anaconda3/envs/nlp-bert/lib/python3.10/site-packages/xgboost/training.py:183: UserWarning: [14:25:24] WARNING: /Users/runner/work/xgboost/xgboost/src/learner.cc:738: \n",
      "Parameters: { \"use_label_encoder\" } are not used.\n",
      "\n",
      "  bst.update(dtrain, iteration=i, fobj=obj)\n",
      "/opt/anaconda3/envs/nlp-bert/lib/python3.10/site-packages/xgboost/training.py:183: UserWarning: [14:25:30] WARNING: /Users/runner/work/xgboost/xgboost/src/learner.cc:738: \n",
      "Parameters: { \"use_label_encoder\" } are not used.\n",
      "\n",
      "  bst.update(dtrain, iteration=i, fobj=obj)\n",
      "/opt/anaconda3/envs/nlp-bert/lib/python3.10/site-packages/xgboost/training.py:183: UserWarning: [14:25:36] WARNING: /Users/runner/work/xgboost/xgboost/src/learner.cc:738: \n",
      "Parameters: { \"use_label_encoder\" } are not used.\n",
      "\n",
      "  bst.update(dtrain, iteration=i, fobj=obj)\n",
      "/opt/anaconda3/envs/nlp-bert/lib/python3.10/site-packages/xgboost/training.py:183: UserWarning: [14:25:42] WARNING: /Users/runner/work/xgboost/xgboost/src/learner.cc:738: \n",
      "Parameters: { \"use_label_encoder\" } are not used.\n",
      "\n",
      "  bst.update(dtrain, iteration=i, fobj=obj)\n",
      "/opt/anaconda3/envs/nlp-bert/lib/python3.10/site-packages/xgboost/training.py:183: UserWarning: [14:25:49] WARNING: /Users/runner/work/xgboost/xgboost/src/learner.cc:738: \n",
      "Parameters: { \"use_label_encoder\" } are not used.\n",
      "\n",
      "  bst.update(dtrain, iteration=i, fobj=obj)\n",
      "/opt/anaconda3/envs/nlp-bert/lib/python3.10/site-packages/xgboost/training.py:183: UserWarning: [14:25:55] WARNING: /Users/runner/work/xgboost/xgboost/src/learner.cc:738: \n",
      "Parameters: { \"use_label_encoder\" } are not used.\n",
      "\n",
      "  bst.update(dtrain, iteration=i, fobj=obj)\n",
      "/opt/anaconda3/envs/nlp-bert/lib/python3.10/site-packages/xgboost/training.py:183: UserWarning: [14:26:02] WARNING: /Users/runner/work/xgboost/xgboost/src/learner.cc:738: \n",
      "Parameters: { \"use_label_encoder\" } are not used.\n",
      "\n",
      "  bst.update(dtrain, iteration=i, fobj=obj)\n",
      "/opt/anaconda3/envs/nlp-bert/lib/python3.10/site-packages/xgboost/training.py:183: UserWarning: [14:26:10] WARNING: /Users/runner/work/xgboost/xgboost/src/learner.cc:738: \n",
      "Parameters: { \"use_label_encoder\" } are not used.\n",
      "\n",
      "  bst.update(dtrain, iteration=i, fobj=obj)\n",
      "/opt/anaconda3/envs/nlp-bert/lib/python3.10/site-packages/xgboost/training.py:183: UserWarning: [14:26:18] WARNING: /Users/runner/work/xgboost/xgboost/src/learner.cc:738: \n",
      "Parameters: { \"use_label_encoder\" } are not used.\n",
      "\n",
      "  bst.update(dtrain, iteration=i, fobj=obj)\n",
      "/opt/anaconda3/envs/nlp-bert/lib/python3.10/site-packages/xgboost/training.py:183: UserWarning: [14:26:19] WARNING: /Users/runner/work/xgboost/xgboost/src/learner.cc:738: \n",
      "Parameters: { \"use_label_encoder\" } are not used.\n",
      "\n",
      "  bst.update(dtrain, iteration=i, fobj=obj)\n",
      "/opt/anaconda3/envs/nlp-bert/lib/python3.10/site-packages/xgboost/training.py:183: UserWarning: [14:26:21] WARNING: /Users/runner/work/xgboost/xgboost/src/learner.cc:738: \n",
      "Parameters: { \"use_label_encoder\" } are not used.\n",
      "\n",
      "  bst.update(dtrain, iteration=i, fobj=obj)\n",
      "/opt/anaconda3/envs/nlp-bert/lib/python3.10/site-packages/xgboost/training.py:183: UserWarning: [14:26:22] WARNING: /Users/runner/work/xgboost/xgboost/src/learner.cc:738: \n",
      "Parameters: { \"use_label_encoder\" } are not used.\n",
      "\n",
      "  bst.update(dtrain, iteration=i, fobj=obj)\n",
      "/opt/anaconda3/envs/nlp-bert/lib/python3.10/site-packages/xgboost/training.py:183: UserWarning: [14:26:25] WARNING: /Users/runner/work/xgboost/xgboost/src/learner.cc:738: \n",
      "Parameters: { \"use_label_encoder\" } are not used.\n",
      "\n",
      "  bst.update(dtrain, iteration=i, fobj=obj)\n",
      "/opt/anaconda3/envs/nlp-bert/lib/python3.10/site-packages/xgboost/training.py:183: UserWarning: [14:26:27] WARNING: /Users/runner/work/xgboost/xgboost/src/learner.cc:738: \n",
      "Parameters: { \"use_label_encoder\" } are not used.\n",
      "\n",
      "  bst.update(dtrain, iteration=i, fobj=obj)\n",
      "/opt/anaconda3/envs/nlp-bert/lib/python3.10/site-packages/xgboost/training.py:183: UserWarning: [14:26:30] WARNING: /Users/runner/work/xgboost/xgboost/src/learner.cc:738: \n",
      "Parameters: { \"use_label_encoder\" } are not used.\n",
      "\n",
      "  bst.update(dtrain, iteration=i, fobj=obj)\n",
      "/opt/anaconda3/envs/nlp-bert/lib/python3.10/site-packages/xgboost/training.py:183: UserWarning: [14:26:33] WARNING: /Users/runner/work/xgboost/xgboost/src/learner.cc:738: \n",
      "Parameters: { \"use_label_encoder\" } are not used.\n",
      "\n",
      "  bst.update(dtrain, iteration=i, fobj=obj)\n",
      "/opt/anaconda3/envs/nlp-bert/lib/python3.10/site-packages/xgboost/training.py:183: UserWarning: [14:26:36] WARNING: /Users/runner/work/xgboost/xgboost/src/learner.cc:738: \n",
      "Parameters: { \"use_label_encoder\" } are not used.\n",
      "\n",
      "  bst.update(dtrain, iteration=i, fobj=obj)\n",
      "/opt/anaconda3/envs/nlp-bert/lib/python3.10/site-packages/xgboost/training.py:183: UserWarning: [14:26:39] WARNING: /Users/runner/work/xgboost/xgboost/src/learner.cc:738: \n",
      "Parameters: { \"use_label_encoder\" } are not used.\n",
      "\n",
      "  bst.update(dtrain, iteration=i, fobj=obj)\n",
      "/opt/anaconda3/envs/nlp-bert/lib/python3.10/site-packages/xgboost/training.py:183: UserWarning: [14:26:43] WARNING: /Users/runner/work/xgboost/xgboost/src/learner.cc:738: \n",
      "Parameters: { \"use_label_encoder\" } are not used.\n",
      "\n",
      "  bst.update(dtrain, iteration=i, fobj=obj)\n",
      "/opt/anaconda3/envs/nlp-bert/lib/python3.10/site-packages/xgboost/training.py:183: UserWarning: [14:26:47] WARNING: /Users/runner/work/xgboost/xgboost/src/learner.cc:738: \n",
      "Parameters: { \"use_label_encoder\" } are not used.\n",
      "\n",
      "  bst.update(dtrain, iteration=i, fobj=obj)\n",
      "/opt/anaconda3/envs/nlp-bert/lib/python3.10/site-packages/xgboost/training.py:183: UserWarning: [14:26:51] WARNING: /Users/runner/work/xgboost/xgboost/src/learner.cc:738: \n",
      "Parameters: { \"use_label_encoder\" } are not used.\n",
      "\n",
      "  bst.update(dtrain, iteration=i, fobj=obj)\n",
      "/opt/anaconda3/envs/nlp-bert/lib/python3.10/site-packages/xgboost/training.py:183: UserWarning: [14:26:55] WARNING: /Users/runner/work/xgboost/xgboost/src/learner.cc:738: \n",
      "Parameters: { \"use_label_encoder\" } are not used.\n",
      "\n",
      "  bst.update(dtrain, iteration=i, fobj=obj)\n",
      "/opt/anaconda3/envs/nlp-bert/lib/python3.10/site-packages/xgboost/training.py:183: UserWarning: [14:26:59] WARNING: /Users/runner/work/xgboost/xgboost/src/learner.cc:738: \n",
      "Parameters: { \"use_label_encoder\" } are not used.\n",
      "\n",
      "  bst.update(dtrain, iteration=i, fobj=obj)\n",
      "/opt/anaconda3/envs/nlp-bert/lib/python3.10/site-packages/xgboost/training.py:183: UserWarning: [14:27:03] WARNING: /Users/runner/work/xgboost/xgboost/src/learner.cc:738: \n",
      "Parameters: { \"use_label_encoder\" } are not used.\n",
      "\n",
      "  bst.update(dtrain, iteration=i, fobj=obj)\n",
      "/opt/anaconda3/envs/nlp-bert/lib/python3.10/site-packages/xgboost/training.py:183: UserWarning: [14:27:08] WARNING: /Users/runner/work/xgboost/xgboost/src/learner.cc:738: \n",
      "Parameters: { \"use_label_encoder\" } are not used.\n",
      "\n",
      "  bst.update(dtrain, iteration=i, fobj=obj)\n",
      "/opt/anaconda3/envs/nlp-bert/lib/python3.10/site-packages/xgboost/training.py:183: UserWarning: [14:27:12] WARNING: /Users/runner/work/xgboost/xgboost/src/learner.cc:738: \n",
      "Parameters: { \"use_label_encoder\" } are not used.\n",
      "\n",
      "  bst.update(dtrain, iteration=i, fobj=obj)\n",
      "/opt/anaconda3/envs/nlp-bert/lib/python3.10/site-packages/xgboost/training.py:183: UserWarning: [14:27:17] WARNING: /Users/runner/work/xgboost/xgboost/src/learner.cc:738: \n",
      "Parameters: { \"use_label_encoder\" } are not used.\n",
      "\n",
      "  bst.update(dtrain, iteration=i, fobj=obj)\n"
     ]
    },
    {
     "name": "stdout",
     "output_type": "stream",
     "text": [
      "Best Params: {'learning_rate': 0.2, 'max_depth': 3, 'n_estimators': 100}\n",
      "Best CV Macro-F1: 0.6297574919794324\n"
     ]
    }
   ],
   "source": [
    "from sklearn.model_selection import GridSearchCV\n",
    "from xgboost import XGBClassifier\n",
    "\n",
    "# Define hyperparameter grid\n",
    "param_grid = {\n",
    "    'max_depth': [3, 5, 7],\n",
    "    'learning_rate': [0.05, 0.1, 0.2],\n",
    "    'n_estimators': [100, 200]\n",
    "}\n",
    "\n",
    "# Initialize base model (remove deprecated args)\n",
    "xgb_base = XGBClassifier(eval_metric=\"mlogloss\", random_state=42, use_label_encoder=False)\n",
    "\n",
    "# Grid Search with 3-fold CV\n",
    "grid_search = GridSearchCV(\n",
    "    estimator=xgb_base,\n",
    "    param_grid=param_grid,\n",
    "    cv=3,\n",
    "    scoring='f1_macro',\n",
    "    verbose=1,\n",
    "    n_jobs=1  # FIX: Avoid BrokenProcessPool in Jupyter\n",
    ")\n",
    "\n",
    "# Fit to training data\n",
    "grid_search.fit(X_train, y_train)\n",
    "\n",
    "# Inspect best parameters and score\n",
    "print(\"Best Params:\", grid_search.best_params_)\n",
    "print(\"Best CV Macro-F1:\", grid_search.best_score_)"
   ]
  },
  {
   "cell_type": "code",
   "execution_count": 21,
   "id": "1954f8c7-1a59-4949-9944-89991ee9a63c",
   "metadata": {},
   "outputs": [
    {
     "name": "stdout",
     "output_type": "stream",
     "text": [
      "Classification Report (Tuned XGBoost):\n",
      "\n",
      "              precision    recall  f1-score   support\n",
      "\n",
      "       Mixed       0.24      0.07      0.11        68\n",
      " Qualitative       0.83      0.83      0.83       153\n",
      "Quantitative       0.71      0.89      0.79       185\n",
      "\n",
      "    accuracy                           0.73       406\n",
      "   macro avg       0.59      0.60      0.58       406\n",
      "weighted avg       0.68      0.73      0.69       406\n",
      "\n",
      "Confusion Matrix:\n",
      "\n",
      "[[  5  12  51]\n",
      " [ 10 127  16]\n",
      " [  6  14 165]]\n"
     ]
    }
   ],
   "source": [
    "# Use best model from GridSearchCV\n",
    "xgb_tuned = grid_search.best_estimator_\n",
    "y_pred_tuned = xgb_tuned.predict(X_test)\n",
    "\n",
    "# Classification Report\n",
    "print(\"Classification Report (Tuned XGBoost):\\n\")\n",
    "print(classification_report(y_test, y_pred_tuned, target_names=method_names))\n",
    "\n",
    "# Confusion Matrix\n",
    "print(\"Confusion Matrix:\\n\")\n",
    "print(confusion_matrix(y_test, y_pred_tuned))"
   ]
  },
  {
   "cell_type": "code",
   "execution_count": 23,
   "id": "2e4b59a0-f3c0-4301-89f7-76048f8c2d91",
   "metadata": {},
   "outputs": [
    {
     "name": "stdout",
     "output_type": "stream",
     "text": [
      "✅ Saved tuned methodology model as v2.4\n"
     ]
    }
   ],
   "source": [
    "import joblib\n",
    "import os\n",
    "\n",
    "# Save the tuned XGBoost model for methodology classification\n",
    "joblib.dump(xgb_tuned, \"Artefacts/methodology_xgb_model_v2.4_tuned.pkl\")\n",
    "print(\"✅ Saved tuned methodology model as v2.4\")"
   ]
  },
  {
   "cell_type": "markdown",
   "id": "c7cbeb2a-55d8-4c22-aadd-d2e11116c312",
   "metadata": {},
   "source": [
    "## 🔧 Tuning Summary and Result Analysis (v2.4)\n",
    "\n",
    "We performed hyperparameter tuning using `GridSearchCV` to find the optimal configuration for the XGBoost classifier on SPECTER embeddings.  \n",
    "The goal was to improve performance on the **Methodology** classification task, especially for the under-represented “Mixed” class.\n",
    "\n",
    "### **Parameter Grid Used**  \n",
    "We searched across:  \n",
    "- `max_depth`: [3, 5, 7] – controls tree depth (model complexity)  \n",
    "- `learning_rate`: [0.05, 0.1, 0.2] – controls how much each tree contributes  \n",
    "- `n_estimators`: [100, 200] – number of boosting rounds  \n",
    "\n",
    "---\n",
    "\n",
    "### ✅ **Best Parameters Found**  \n",
    "- `learning_rate`: 0.2  \n",
    "- `max_depth`: 3  \n",
    "- `n_estimators`: 100  \n",
    "- **Best CV Macro-F1 (3-fold):** 0.63  \n",
    "\n",
    "---\n",
    "\n",
    "### 📊 **Final Evaluation on Test Set (v2.4 – Tuned XGBoost)**  \n",
    "- **Accuracy:** 0.73  \n",
    "- **Macro F1-score:** 0.58  \n",
    "- **Weighted F1-score:** 0.69  \n",
    "\n",
    "#### 🔍 **Class-wise F1 Breakdown:**\n",
    "\n",
    "| Methodology   | F1 Score | Notes                                       |\n",
    "| ------------- | -------- | ------------------------------------------- |\n",
    "| Qualitative   | 0.83     | Stable performance, unchanged from v2.3     |\n",
    "| Quantitative  | 0.79     | Slightly lower than v2.3, still strong      |\n",
    "| Mixed         | 0.11     | Significantly degraded—tuning hurt minority |\n",
    "\n",
    "---\n",
    "\n",
    "## 🧠 Interpretation\n",
    "\n",
    "- Hyperparameter tuning improved cross-validation macro-F1 but **degraded** the “Mixed” class on the test set.  \n",
    "- Shallow trees (`max_depth=3`) with higher learning rate (`0.2`) converged quickly but over-regularized the minority class.  \n",
    "- “Qualitative” and “Quantitative” remained robust, but “Mixed” dropped from 0.35 (v2.3) to 0.11 (v2.4).  \n",
    "\n",
    "---\n",
    "\n",
    "## 📝 Next Steps\n",
    "\n",
    "- **v2.5 Class-Weights Experiment:** Replace SMOTE with XGBoost’s `scale_pos_weight` to rebalance classes without oversampling.  \n",
    "- **Ensemble Approaches:** Combine SMOTE and class-weights or ensemble XGB with a linear baseline (e.g., Logistic Regression).  \n",
    "- **Feature Engineering:** Add keyword flags or hybrid embeddings (title-only vs full text).  \n",
    "- **Interpretability:** Use SHAP to diagnose which features drive “Mixed” predictions.  \n",
    "- **Data Expansion:** Collect more “Mixed” examples to strengthen the model’s exposure.  \n",
    "\n",
    "Overall, while v2.4 optimized global metrics, we need a targeted imbalance strategy to recover the under-represented class.  "
   ]
  },
  {
   "cell_type": "markdown",
   "id": "eba7acde-c7ca-4c90-8fbc-d6cde58c5f4d",
   "metadata": {},
   "source": [
    "## v2.5 Experiment: Class Weights Instead of SMOTE\n",
    "\n",
    "Instead of oversampling with SMOTE, we’ll leverage XGBoost’s `scale_pos_weight` to rebalance classes.  \n",
    "1. Compute balanced class weights (inverse to training frequencies).  \n",
    "2. Retrain XGBoost on the original SPECTER embeddings (`X_train`, `y_train`) with these weights.  \n",
    "3. Evaluate on `X_test`/`y_test` and compare “Mixed” F1 to v2.3 & v2.4."
   ]
  },
  {
   "cell_type": "code",
   "execution_count": 24,
   "id": "59f3b329-0698-4b5a-8026-004848552582",
   "metadata": {},
   "outputs": [
    {
     "name": "stdout",
     "output_type": "stream",
     "text": [
      "Computed class weights: {np.int64(0): np.float64(2.0024691358024693), np.int64(1): np.float64(0.8848881614839061), np.int64(2): np.float64(0.7296446243814665)}\n"
     ]
    },
    {
     "name": "stderr",
     "output_type": "stream",
     "text": [
      "/opt/anaconda3/envs/nlp-bert/lib/python3.10/site-packages/xgboost/training.py:183: UserWarning: [14:40:26] WARNING: /Users/runner/work/xgboost/xgboost/src/learner.cc:738: \n",
      "Parameters: { \"scale_pos_weight\", \"use_label_encoder\" } are not used.\n",
      "\n",
      "  bst.update(dtrain, iteration=i, fobj=obj)\n"
     ]
    },
    {
     "name": "stdout",
     "output_type": "stream",
     "text": [
      "✅ Trained class-weighted XGBoost (v2.5)\n",
      "=== v2.5 Class-Weighted XGB Classification Report ===\n",
      "\n",
      "              precision    recall  f1-score   support\n",
      "\n",
      "       Mixed       0.43      0.13      0.20        68\n",
      " Qualitative       0.83      0.83      0.83       153\n",
      "Quantitative       0.71      0.89      0.79       185\n",
      "\n",
      "    accuracy                           0.74       406\n",
      "   macro avg       0.66      0.62      0.61       406\n",
      "weighted avg       0.71      0.74      0.71       406\n",
      "\n"
     ]
    }
   ],
   "source": [
    "# 9.1 Compute class weights\n",
    "from sklearn.utils.class_weight import compute_class_weight\n",
    "import numpy as np\n",
    "\n",
    "classes = np.unique(y_train)\n",
    "weights = compute_class_weight(\n",
    "    class_weight=\"balanced\",\n",
    "    classes=classes,\n",
    "    y=y_train\n",
    ")\n",
    "class_weights = dict(zip(classes, weights))\n",
    "print(\"Computed class weights:\", class_weights)\n",
    "\n",
    "# 9.2 Train XGBoost with class weights\n",
    "from xgboost import XGBClassifier\n",
    "\n",
    "xgb_w = XGBClassifier(\n",
    "    use_label_encoder=False,\n",
    "    eval_metric=\"mlogloss\",\n",
    "    scale_pos_weight=class_weights,  # XGBoost will apply these per-class\n",
    "    random_state=42\n",
    ")\n",
    "xgb_w.fit(X_train, y_train)\n",
    "print(\"✅ Trained class-weighted XGBoost (v2.5)\")\n",
    "\n",
    "# 9.3 Evaluate on test set\n",
    "from sklearn.metrics import classification_report, confusion_matrix\n",
    "\n",
    "y_pred_w = xgb_w.predict(X_test)\n",
    "print(\"=== v2.5 Class-Weighted XGB Classification Report ===\\n\")\n",
    "print(classification_report(y_test, y_pred_w, target_names=le.inverse_transform(classes)))"
   ]
  },
  {
   "cell_type": "markdown",
   "id": "0410ebb5-498b-420c-9cfb-3c41a173de9c",
   "metadata": {},
   "source": [
    "### 10. Save v2.5 Class-Weighted Model Artefact"
   ]
  },
  {
   "cell_type": "code",
   "execution_count": 25,
   "id": "c8d315b4-4ab5-47a7-b3de-fb450285937c",
   "metadata": {},
   "outputs": [
    {
     "name": "stdout",
     "output_type": "stream",
     "text": [
      "✅ Saved class-weighted XGBoost model as v2.5\n"
     ]
    }
   ],
   "source": [
    "import os, joblib\n",
    "\n",
    "joblib.dump(xgb_w, \"Artefacts/methodology_xgb_class_weighted_v2.5.pkl\")\n",
    "print(\"✅ Saved class-weighted XGBoost model as v2.5\")"
   ]
  },
  {
   "cell_type": "markdown",
   "id": "066bf63e-5b06-41e5-9642-6795b9a076d5",
   "metadata": {},
   "source": [
    "## 📝 Results Summary (v2.5 – Class-Weighted XGBoost)\n",
    "\n",
    "After replacing SMOTE with XGBoost’s `scale_pos_weight`, the model achieved on the test set:\n",
    "\n",
    "- **Accuracy:** 0.74  \n",
    "- **Macro F1-score:** 0.61  \n",
    "- **Weighted F1-score:** 0.71  \n",
    "\n",
    "🔍 **Class-wise F1 Breakdown:**\n",
    "\n",
    "| Methodology   | F1 Score | Notes                                          |\n",
    "| ------------- | -------- | ---------------------------------------------- |\n",
    "| Qualitative   | 0.83     | Same as before; well-represented class         |\n",
    "| Quantitative  | 0.79     | Stable performance                             |\n",
    "| Mixed         | 0.20     | Improved over v2.4 (0.11) but below v2.3 (0.35)|\n",
    "\n",
    "---\n",
    "\n",
    "## 🧠 Interpretation\n",
    "\n",
    "- Class weighting boosted **Mixed** F1 from **0.11** (v2.4) to **0.20**, but still below the SMOTE-only v2.3 baseline **0.35**.  \n",
    "- “Qualitative” and “Quantitative” remain strong, but the under-represented “Mixed” class still lags.  \n",
    "\n",
    "---"
   ]
  },
  {
   "cell_type": "markdown",
   "id": "93c18b9f-78cb-4a5f-90e4-4423f78f1730",
   "metadata": {},
   "source": [
    "## v2.5a Experiment: Manual Class Weights\n",
    "\n",
    "Instead of computing balanced weights, we’ll assign **Mixed = 2** and **Qualitative/Quantitative = 1** to further up-weight the under-represented class."
   ]
  },
  {
   "cell_type": "code",
   "execution_count": 33,
   "id": "fca7edf7-2ba4-481d-958b-78413c62badd",
   "metadata": {},
   "outputs": [
    {
     "name": "stderr",
     "output_type": "stream",
     "text": [
      "/opt/anaconda3/envs/nlp-bert/lib/python3.10/site-packages/xgboost/training.py:183: UserWarning: [14:53:45] WARNING: /Users/runner/work/xgboost/xgboost/src/learner.cc:738: \n",
      "Parameters: { \"use_label_encoder\" } are not used.\n",
      "\n",
      "  bst.update(dtrain, iteration=i, fobj=obj)\n"
     ]
    },
    {
     "name": "stdout",
     "output_type": "stream",
     "text": [
      "✅ Trained manual‐weighted XGBoost (v2.5a)\n"
     ]
    }
   ],
   "source": [
    "from xgboost import XGBClassifier\n",
    "import numpy as np\n",
    "\n",
    "# Manual weights by name\n",
    "manual_weights = {\n",
    "    \"Mixed\":       2,\n",
    "    \"Qualitative\": 1,\n",
    "    \"Quantitative\":1\n",
    "}\n",
    "\n",
    "# Map methodology names -> numeric labels\n",
    "name_to_label = dict(zip(le.classes_, le.transform(le.classes_)))\n",
    "\n",
    "# Build numeric_weights: label -> weight\n",
    "numeric_weights = {\n",
    "    name_to_label[name]: weight\n",
    "    for name, weight in manual_weights.items()\n",
    "}\n",
    "\n",
    "# Build sample_weight array\n",
    "import numpy as np\n",
    "sample_weight = np.array([ numeric_weights[y] for y in y_train ])\n",
    "\n",
    "# Fit XGBoost with sample weights\n",
    "from xgboost import XGBClassifier\n",
    "xgb_manual = XGBClassifier(\n",
    "    use_label_encoder=False,\n",
    "    eval_metric=\"mlogloss\",\n",
    "    random_state=42\n",
    ")\n",
    "xgb_manual.fit(X_train, y_train, sample_weight=sample_weight)\n",
    "\n",
    "print(\"✅ Trained manual‐weighted XGBoost (v2.5a)\")"
   ]
  },
  {
   "cell_type": "code",
   "execution_count": 34,
   "id": "34c16298-4bad-47be-b149-2d483e337cc0",
   "metadata": {},
   "outputs": [
    {
     "name": "stdout",
     "output_type": "stream",
     "text": [
      "              precision    recall  f1-score   support\n",
      "\n",
      "       Mixed       0.32      0.13      0.19        68\n",
      " Qualitative       0.82      0.82      0.82       153\n",
      "Quantitative       0.73      0.89      0.80       185\n",
      "\n",
      "    accuracy                           0.74       406\n",
      "   macro avg       0.63      0.62      0.61       406\n",
      "weighted avg       0.70      0.74      0.71       406\n",
      "\n"
     ]
    }
   ],
   "source": [
    "y_pred_manual = xgb_manual.predict(X_test)\n",
    "print(classification_report(y_test, y_pred_manual, target_names=le.classes_))"
   ]
  },
  {
   "cell_type": "code",
   "execution_count": 35,
   "id": "61752dd7-9ea0-4d61-a05c-feb5edf56630",
   "metadata": {},
   "outputs": [
    {
     "name": "stdout",
     "output_type": "stream",
     "text": [
      "✅ Saved manual class-weighted XGBoost model as v2.5a\n"
     ]
    }
   ],
   "source": [
    "joblib.dump(xgb_manual, \"Artefacts/methodology_xgb_manual_weights_v2.5a.pkl\")\n",
    "print(\"✅ Saved manual class-weighted XGBoost model as v2.5a\")"
   ]
  },
  {
   "cell_type": "markdown",
   "id": "45e7457e-544c-4e01-b42f-1a9cf0765ac5",
   "metadata": {},
   "source": [
    "## 📋 Results Summary (v2.5a – Manual Class Weights)\n",
    "\n",
    "By setting **Mixed = 2** and **Qualitative/Quantitative = 1** via `sample_weight`:\n",
    "\n",
    "- **Accuracy:** 0.74  \n",
    "- **Macro F1-score:** 0.61  \n",
    "- **Weighted F1-score:** 0.71  \n",
    "\n",
    "🔍 **Class-wise F1 Breakdown:**\n",
    "\n",
    "| Methodology   | F1 Score | Notes                                           |\n",
    "| ------------- | -------- | ----------------------------------------------- |\n",
    "| Qualitative   | 0.82     | Very similar to SMOTE and automatic weights     |\n",
    "| Quantitative  | 0.80     | Stable performance                              |\n",
    "| Mixed         | 0.19     | Improved over v2.4 (0.11) but below v2.3 (0.35) |\n",
    "\n",
    "---\n",
    "\n",
    "## 🧠 Interpretation\n",
    "\n",
    "- Manual up-weighting boosted **Mixed** F1 from **0.11** → **0.19**, but still below SMOTE-only v2.3 (0.35).  \n",
    "- “Qualitative” and “Quantitative” remain robust, indicating the weight scheme did not harm majority classes.  \n",
    "- Overall, neither class-weights nor tuning fully recover Mixed performance — suggesting we may need SMOTE + weights together or more data for the Mixed category.\n",
    "\n",
    "---\n",
    "\n",
    "## 🚀 Next Steps\n",
    "\n",
    "1. **v2.6 Ensemble SMOTE & Manual Weights:** Combine predictions from v2.3 (SMOTE) and v2.5a (manual weights) via simple voting or stacking.  \n",
    "2. **Data Augmentation:** Create more “Mixed” examples (e.g. via back-translation).  \n",
    "3. **Fine-Tune a Transformer:** Train a BERT/SciBERT model end-to-end on methodology labels.  \n",
    "4. **Investigate Features:** Add keyword flags or POS-based signals to better distinguish Mixed papers.  "
   ]
  },
  {
   "cell_type": "code",
   "execution_count": null,
   "id": "057bc9c9-8f42-4a5b-b6c9-0124b2caf7d4",
   "metadata": {},
   "outputs": [],
   "source": []
  }
 ],
 "metadata": {
  "kernelspec": {
   "display_name": "Python 3 (ipykernel)",
   "language": "python",
   "name": "python3"
  },
  "language_info": {
   "codemirror_mode": {
    "name": "ipython",
    "version": 3
   },
   "file_extension": ".py",
   "mimetype": "text/x-python",
   "name": "python",
   "nbconvert_exporter": "python",
   "pygments_lexer": "ipython3",
   "version": "3.10.16"
  }
 },
 "nbformat": 4,
 "nbformat_minor": 5
}
