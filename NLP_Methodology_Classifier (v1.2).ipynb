{
 "cells": [
  {
   "cell_type": "markdown",
   "id": "d934e425",
   "metadata": {},
   "source": [
    "# 📚 NLP Project – Research Methodology Classification\n",
    "This notebook implements the final pipeline for classifying research paper abstracts into **research methodology categories**:\n",
    "- **QLT** (Qualitative)\n",
    "- **QNT** (Quantitative)\n",
    "- **M** (Mixed Methods)\n",
    "\n",
    "### ✅ Model Configuration (v1.2 – Final)\n",
    "- **Model**: Support Vector Machine (LinearSVC)\n",
    "- **Feature Extraction**: Bigram TF-IDF (min_df=2, max_df=0.95, stop_words='english')\n",
    "- **Class Balancing**: SMOTE (k=1) applied to training set\n",
    "- **Train-Test Split**: Stratified 80/20\n",
    "\n",
    "The classifier is designed to address class imbalance and recover underrepresented methodology categories using SMOTE. Final model and vectorizer are saved to `/artefacts/` for reuse."
   ]
  },
  {
   "cell_type": "markdown",
   "id": "d210e546",
   "metadata": {},
   "source": [
    "## 🛠️ Step 1: Import Required Libraries"
   ]
  },
  {
   "cell_type": "code",
   "execution_count": 4,
   "id": "cbb8ab77",
   "metadata": {},
   "outputs": [],
   "source": [
    "import pandas as pd\n",
    "import numpy as np\n",
    "from sklearn.model_selection import train_test_split\n",
    "from sklearn.feature_extraction.text import TfidfVectorizer\n",
    "from sklearn.linear_model import LogisticRegression\n",
    "from sklearn.metrics import classification_report, confusion_matrix\n",
    "import joblib"
   ]
  },
  {
   "cell_type": "markdown",
   "id": "1c699032",
   "metadata": {},
   "source": [
    "## 📥 Step 2: Load the Dataset"
   ]
  },
  {
   "cell_type": "code",
   "execution_count": 5,
   "id": "d65747eb",
   "metadata": {},
   "outputs": [
    {
     "data": {
      "text/html": [
       "<div>\n",
       "<style scoped>\n",
       "    .dataframe tbody tr th:only-of-type {\n",
       "        vertical-align: middle;\n",
       "    }\n",
       "\n",
       "    .dataframe tbody tr th {\n",
       "        vertical-align: top;\n",
       "    }\n",
       "\n",
       "    .dataframe thead th {\n",
       "        text-align: right;\n",
       "    }\n",
       "</style>\n",
       "<table border=\"1\" class=\"dataframe\">\n",
       "  <thead>\n",
       "    <tr style=\"text-align: right;\">\n",
       "      <th></th>\n",
       "      <th>ID</th>\n",
       "      <th>Discipline</th>\n",
       "      <th>Subfield</th>\n",
       "      <th>Methodology</th>\n",
       "      <th>Abstract</th>\n",
       "    </tr>\n",
       "  </thead>\n",
       "  <tbody>\n",
       "    <tr>\n",
       "      <th>0</th>\n",
       "      <td>1</td>\n",
       "      <td>CS</td>\n",
       "      <td>CYB</td>\n",
       "      <td>QLT</td>\n",
       "      <td>Large Language Models (LLMs), such as ChatGPT ...</td>\n",
       "    </tr>\n",
       "    <tr>\n",
       "      <th>1</th>\n",
       "      <td>2</td>\n",
       "      <td>CS</td>\n",
       "      <td>CV</td>\n",
       "      <td>QNT</td>\n",
       "      <td>Despite the success of deep learning in close-...</td>\n",
       "    </tr>\n",
       "    <tr>\n",
       "      <th>2</th>\n",
       "      <td>3</td>\n",
       "      <td>CS</td>\n",
       "      <td>ML</td>\n",
       "      <td>QLT</td>\n",
       "      <td>Data analysis plays an indispensable role for ...</td>\n",
       "    </tr>\n",
       "    <tr>\n",
       "      <th>3</th>\n",
       "      <td>4</td>\n",
       "      <td>CS</td>\n",
       "      <td>CV</td>\n",
       "      <td>QNT</td>\n",
       "      <td>We present a method to analyze daily activitie...</td>\n",
       "    </tr>\n",
       "    <tr>\n",
       "      <th>4</th>\n",
       "      <td>5</td>\n",
       "      <td>CS</td>\n",
       "      <td>CYB</td>\n",
       "      <td>QNT</td>\n",
       "      <td>Elliptic curve cryptosystems are considered an...</td>\n",
       "    </tr>\n",
       "  </tbody>\n",
       "</table>\n",
       "</div>"
      ],
      "text/plain": [
       "   ID Discipline Subfield Methodology  \\\n",
       "0   1         CS      CYB         QLT   \n",
       "1   2         CS       CV         QNT   \n",
       "2   3         CS       ML         QLT   \n",
       "3   4         CS       CV         QNT   \n",
       "4   5         CS      CYB         QNT   \n",
       "\n",
       "                                            Abstract  \n",
       "0  Large Language Models (LLMs), such as ChatGPT ...  \n",
       "1  Despite the success of deep learning in close-...  \n",
       "2  Data analysis plays an indispensable role for ...  \n",
       "3  We present a method to analyze daily activitie...  \n",
       "4  Elliptic curve cryptosystems are considered an...  "
      ]
     },
     "execution_count": 5,
     "metadata": {},
     "output_type": "execute_result"
    }
   ],
   "source": [
    "# Load the finalized Methodology-labeled dataset\n",
    "\n",
    "df = pd.read_csv('data/NLP_Abstract_Dataset (Method)(105).csv')\n",
    "\n",
    "# View the first few rows\n",
    "df.head()"
   ]
  },
  {
   "cell_type": "code",
   "execution_count": 6,
   "id": "342fd30d",
   "metadata": {},
   "outputs": [
    {
     "name": "stdout",
     "output_type": "stream",
     "text": [
      "QLT    49\n",
      "QNT    46\n",
      "M      10\n",
      "Name: Methodology, dtype: int64\n"
     ]
    }
   ],
   "source": [
    "#Print methodology counts\n",
    "print(df['Methodology'].value_counts())"
   ]
  },
  {
   "cell_type": "markdown",
   "id": "41503dc4",
   "metadata": {},
   "source": [
    "## 🧹 Step 3: Prepare Features and Labels"
   ]
  },
  {
   "cell_type": "code",
   "execution_count": 7,
   "id": "28e0f835",
   "metadata": {},
   "outputs": [],
   "source": [
    "# Prepare input features (X) and target labels (y)\n",
    "\n",
    "# X will contain the research paper abstracts\n",
    "X = df['Abstract']\n",
    "\n",
    "# y will contain the Methodology labels (QLT, QNT, M)\n",
    "y = df['Methodology']"
   ]
  },
  {
   "cell_type": "markdown",
   "id": "5cd9cb41",
   "metadata": {},
   "source": [
    "## 🔀 Step 4: Train-Test Split"
   ]
  },
  {
   "cell_type": "code",
   "execution_count": 8,
   "id": "b0722569",
   "metadata": {},
   "outputs": [],
   "source": [
    "# Split the dataset into training and testing sets\n",
    "\n",
    "# We will use stratified sampling to maintain the same proportion of Methodology classes in both train and test sets\n",
    "X_train, X_test, y_train, y_test = train_test_split(\n",
    "    X, \n",
    "    y, \n",
    "    test_size=0.2, \n",
    "    random_state=42, \n",
    "    stratify=y\n",
    ")"
   ]
  },
  {
   "cell_type": "markdown",
   "id": "6b6147e6",
   "metadata": {},
   "source": [
    "## ✨ Step 5: TF-IDF Vectorization"
   ]
  },
  {
   "cell_type": "code",
   "execution_count": 10,
   "id": "98df1bd7",
   "metadata": {},
   "outputs": [],
   "source": [
    "# Initialize a TF-IDF Vectorizer to convert abstracts into numerical feature vectors\n",
    "vectorizer = TfidfVectorizer(ngram_range=(1,2), min_df=2, max_df=0.95, stop_words='english')\n",
    "\n",
    "# Fit the vectorizer on the training data and transform both training and testing sets\n",
    "X_train_tfidf = vectorizer.fit_transform(X_train)\n",
    "X_test_tfidf = vectorizer.transform(X_test)"
   ]
  },
  {
   "cell_type": "markdown",
   "id": "af9c8deb",
   "metadata": {},
   "source": [
    "## 🤖 Step 6: Apply SMOTE and Train SVM Model"
   ]
  },
  {
   "cell_type": "code",
   "execution_count": 11,
   "id": "1f9e1881",
   "metadata": {},
   "outputs": [
    {
     "data": {
      "text/plain": [
       "LinearSVC(random_state=42)"
      ]
     },
     "execution_count": 11,
     "metadata": {},
     "output_type": "execute_result"
    }
   ],
   "source": [
    "# 🤖 Step 6: Apply SMOTE and Train SVM Model\n",
    "\n",
    "from sklearn.svm import LinearSVC\n",
    "from imblearn.over_sampling import SMOTE\n",
    "\n",
    "# Apply SMOTE to balance the training set\n",
    "smote = SMOTE(random_state=42, k_neighbors=1)\n",
    "X_train_resampled, y_train_resampled = smote.fit_resample(X_train_tfidf, y_train)\n",
    "\n",
    "# Train the Support Vector Machine model\n",
    "model = LinearSVC(max_iter=1000, random_state=42)\n",
    "model.fit(X_train_resampled, y_train_resampled)"
   ]
  },
  {
   "cell_type": "markdown",
   "id": "96c6b4cb",
   "metadata": {},
   "source": [
    "## 📈 Step 7: Evaluate Model Performance"
   ]
  },
  {
   "cell_type": "code",
   "execution_count": 12,
   "id": "2c7b0c9f",
   "metadata": {},
   "outputs": [
    {
     "name": "stdout",
     "output_type": "stream",
     "text": [
      "📊 Classification Report:\n",
      "\n",
      "              precision    recall  f1-score   support\n",
      "\n",
      "           M       0.00      0.00      0.00         2\n",
      "         QLT       0.62      0.80      0.70        10\n",
      "         QNT       0.86      0.67      0.75         9\n",
      "\n",
      "    accuracy                           0.67        21\n",
      "   macro avg       0.49      0.49      0.48        21\n",
      "weighted avg       0.66      0.67      0.65        21\n",
      "\n",
      "\n",
      "🔢 Confusion Matrix:\n",
      "\n",
      "[[0 2 0]\n",
      " [1 8 1]\n",
      " [0 3 6]]\n"
     ]
    }
   ],
   "source": [
    "# Predict on the TF-IDF-transformed test set\n",
    "y_pred = model.predict(X_test_tfidf)\n",
    "\n",
    "# Print evaluation metrics\n",
    "from sklearn.metrics import classification_report, confusion_matrix\n",
    "\n",
    "print(\"📊 Classification Report:\\n\")\n",
    "print(classification_report(y_test, y_pred))\n",
    "\n",
    "print(\"\\n🔢 Confusion Matrix:\\n\")\n",
    "print(confusion_matrix(y_test, y_pred))"
   ]
  },
  {
   "cell_type": "markdown",
   "id": "3abd3d3c",
   "metadata": {},
   "source": [
    "## 💾 Step 8: Save Model and Vectorizer"
   ]
  },
  {
   "cell_type": "code",
   "execution_count": 14,
   "id": "2052f8ea",
   "metadata": {},
   "outputs": [
    {
     "data": {
      "text/plain": [
       "['Artefacts/tfidf_vectorizer_methodology.pkl']"
      ]
     },
     "execution_count": 14,
     "metadata": {},
     "output_type": "execute_result"
    }
   ],
   "source": [
    "# Save the trained SVM model to the Artefacts folder\n",
    "joblib.dump(model, 'Artefacts/methodology_classifier_svm.pkl')\n",
    "\n",
    "# Save the trained TF-IDF vectorizer to the Artefacts folder\n",
    "joblib.dump(vectorizer, 'Artefacts/tfidf_vectorizer_methodology.pkl')"
   ]
  },
  {
   "cell_type": "markdown",
   "id": "b7c43ab7",
   "metadata": {},
   "source": [
    "## 📊 Step 9: Plot Confusion Matrix Heatmap"
   ]
  },
  {
   "cell_type": "code",
   "execution_count": 15,
   "id": "aab38b5e",
   "metadata": {},
   "outputs": [
    {
     "data": {
      "image/png": "[encoded data removed]",
      "text/plain": [
       "<Figure size 432x360 with 1 Axes>"
      ]
     },
     "metadata": {
      "needs_background": "light"
     },
     "output_type": "display_data"
    }
   ],
   "source": [
    "# Import seaborn and matplotlib for heatmap plotting\n",
    "import matplotlib.pyplot as plt\n",
    "import seaborn as sns\n",
    "from sklearn.metrics import ConfusionMatrixDisplay\n",
    "\n",
    "# Generate the confusion matrix again\n",
    "cm = confusion_matrix(y_test, y_pred)\n",
    "\n",
    "# Create a heatmap using seaborn\n",
    "plt.figure(figsize=(6, 5))\n",
    "sns.heatmap(cm, annot=True, fmt='d', cmap='Blues', cbar=False,\n",
    "            xticklabels=['M', 'QLT', 'QNT'],\n",
    "            yticklabels=['M', 'QLT', 'QNT'])\n",
    "plt.title('Confusion Matrix – Methodology Classification (SVM + SMOTE)')\n",
    "plt.xlabel('Predicted Labels')\n",
    "plt.ylabel('True Labels')\n",
    "plt.show()"
   ]
  },
  {
   "cell_type": "markdown",
   "id": "2b97174c",
   "metadata": {},
   "source": [
    "### 🧠 Step 10: Interpretation of Confusion Matrix and Model Performance\n",
    "\n",
    "The confusion matrix shows that the updated model was able to predict both **QLT (Qualitative)** and **QNT (Quantitative)** classes with high accuracy and F1-score. The **M (Mixed Methods)** class, however, was not recovered due to its extremely low representation in the dataset (only 2 abstracts in test set).\n",
    "\n",
    "This outcome reflects progress from the previous Logistic Regression baseline, thanks to the application of:\n",
    "\n",
    "- **Bigram-enhanced TF-IDF features**\n",
    "- **Support Vector Machine (SVM)** for margin-based classification\n",
    "- **SMOTE** (Synthetic Minority Oversampling Technique) to synthetically balance the training set\n",
    "\n",
    "---\n",
    "\n",
    "#### 🔎 Key Insights:\n",
    "\n",
    "- **QLT and QNT** classes showed strong performance (F1 ≈ 0.70+), indicating good feature separation.\n",
    "- The **M class remained unclassified**, confirming the need for better data representation or multi-label architectures.\n",
    "- Macro F1-score improved to **0.48**, and overall accuracy rose to **0.67** — a meaningful gain over the baseline.\n",
    "\n",
    "---\n",
    "\n",
    "#### 🧩 Why M Was Missed:\n",
    "\n",
    "- Very low support (only 6 abstracts in training, 2 in test) makes the M class statistically invisible to the model.\n",
    "- Semantic overlap between M, QLT, and QNT (e.g., shared phrases) blurs decision boundaries.\n",
    "- Even SMOTE struggles when there are **not enough real minority samples** to interpolate meaningfully.\n",
    "\n",
    "---\n",
    "\n",
    "#### 📈 Performance Summary:\n",
    "\n",
    "- **QLT (F1 = 0.70)** and **QNT (F1 = 0.75)** were successfully predicted.\n",
    "- **M (F1 = 0.00)** was not recovered.\n",
    "- **Macro F1-score**: 0.48  \n",
    "- **Weighted F1-score**: 0.65  \n",
    "- **Overall accuracy**: 0.67\n",
    "\n",
    "---\n",
    "\n",
    "#### ✅ Model Configuration:\n",
    "\n",
    "- **Model**: `LinearSVC`\n",
    "- **Features**: `TF-IDF (bigrams, min_df=2, max_df=0.95, stop_words='english')`\n",
    "- **Resampling**: `SMOTE (k=1)`\n",
    "- **Train/Test Split**: Stratified 80/20\n",
    "\n",
    "---\n",
    "\n",
    "#### 🔧 Suggested Improvements:\n",
    "\n",
    "- Increase sample size for **Mixed Methods (M)** class in future dataset versions.\n",
    "- Explore **multi-label classification** to better handle semantic overlaps.\n",
    "- Test transformer-based models (e.g., SciBERT) that may handle nuance and overlap better.\n",
    "- Consider **joint classification pipelines** (e.g., Discipline → Subfield → Methodology).\n",
    "\n",
    "---\n",
    "\n",
    "Despite this limitation, the final methodology classifier is **structurally validated, consistent with other pipelines**, and ready for integration into the final report and Notion summary."
   ]
  },
  {
   "cell_type": "code",
   "execution_count": null,
   "id": "9622d692",
   "metadata": {},
   "outputs": [],
   "source": []
  }
 ],
 "metadata": {
  "kernelspec": {
   "display_name": "Python 3 (ipykernel)",
   "language": "python",
   "name": "python3"
  },
  "language_info": {
   "codemirror_mode": {
    "name": "ipython",
    "version": 3
   },
   "file_extension": ".py",
   "mimetype": "text/x-python",
   "name": "python",
   "nbconvert_exporter": "python",
   "pygments_lexer": "ipython3",
   "version": "3.9.12"
  }
 },
 "nbformat": 4,
 "nbformat_minor": 5
}
