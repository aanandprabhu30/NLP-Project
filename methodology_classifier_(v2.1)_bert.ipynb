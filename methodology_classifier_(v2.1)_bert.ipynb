{
 "cells": [
  {
   "cell_type": "markdown",
   "id": "2ba1170a",
   "metadata": {},
   "source": [
    "## ⚙️ Step 1: Install Required Libraries\n",
    "\n",
    "We'll use the following packages:\n",
    "- `sentence-transformers` to load the BERT model and generate embeddings\n",
    "- `scikit-learn` for training the SVM classifier and evaluating with cross-validation"
   ]
  },
  {
   "cell_type": "code",
   "execution_count": 1,
   "id": "013c5ee9",
   "metadata": {},
   "outputs": [],
   "source": [
    "#pip install -U sentence-transformers scikit-learn"
   ]
  },
  {
   "cell_type": "markdown",
   "id": "a54f3496",
   "metadata": {},
   "source": [
    "## 📂 Step 2: Load and Prepare Dataset\n",
    "\n",
    "We will:\n",
    "- Load the dataset of 105 research abstracts\n",
    "- Merge the `Title` and `Abstract` into a single input text field\n",
    "- Extract the input (`text`) and target (`methodology`) variables for classification"
   ]
  },
  {
   "cell_type": "code",
   "execution_count": 2,
   "id": "40840047",
   "metadata": {},
   "outputs": [
    {
     "name": "stdout",
     "output_type": "stream",
     "text": [
      "✅ Loaded 105 samples.\n",
      "🔖 Unique methodology labels: {'Qualitative', 'Quantitative', 'Mixed'}\n"
     ]
    }
   ],
   "source": [
    "import pandas as pd\n",
    "\n",
    "# Load the dataset\n",
    "df = pd.read_csv(\"Data/NLP_Dataset_Title_Abstract_Discipline_Subfield_Methodology.csv\")\n",
    "\n",
    "# Merge Title + Abstract into one input text field\n",
    "df[\"text\"] = df[\"Title\"].fillna('') + \" \" + df[\"Abstract\"].fillna('')\n",
    "df[\"text\"] = df[\"text\"].str.strip()\n",
    "\n",
    "# Drop rows where Methodology label is missing\n",
    "df = df.dropna(subset=[\"Methodology\"])\n",
    "\n",
    "# Extract features and labels\n",
    "texts = df[\"text\"].tolist()\n",
    "labels = df[\"Methodology\"].tolist()\n",
    "\n",
    "# Preview\n",
    "print(f\"✅ Loaded {len(texts)} samples.\")\n",
    "print(f\"🔖 Unique methodology labels: {set(labels)}\")"
   ]
  },
  {
   "cell_type": "markdown",
   "id": "37657593",
   "metadata": {},
   "source": [
    "## 🤖 Step 3: Load Sentence-BERT Model\n",
    "\n",
    "We'll now load the pretrained Sentence-BERT model `all-MiniLM-L6-v2`, which converts each abstract into a 768-dimensional dense vector that captures semantic meaning."
   ]
  },
  {
   "cell_type": "code",
   "execution_count": 3,
   "id": "f3317421",
   "metadata": {},
   "outputs": [
    {
     "name": "stdout",
     "output_type": "stream",
     "text": [
      "✅ Model loaded successfully.\n"
     ]
    }
   ],
   "source": [
    "from sentence_transformers import SentenceTransformer\n",
    "\n",
    "# Load Sentence-BERT model\n",
    "model = SentenceTransformer('all-MiniLM-L6-v2')\n",
    "print(\"✅ Model loaded successfully.\")"
   ]
  },
  {
   "cell_type": "markdown",
   "id": "a53f7467-07b9-43aa-84fb-1405b9ba9a89",
   "metadata": {},
   "source": [
    "## 🧬 Step 4: Generate Sentence Embeddings\n",
    "\n",
    "We'll now convert each research abstract into a 768-dimensional vector using the pretrained Sentence-BERT model. These vectors will be used as input features for the SVM classifier."
   ]
  },
  {
   "cell_type": "code",
   "execution_count": 4,
   "id": "4d20a004-f6d0-4f53-b175-01ebfaf1ed54",
   "metadata": {},
   "outputs": [
    {
     "data": {
      "application/vnd.jupyter.widget-view+json": {
       "model_id": "d74e342c64764acf9c92e1a37419ae5d",
       "version_major": 2,
       "version_minor": 0
      },
      "text/plain": [
       "Batches:   0%|          | 0/4 [00:00<?, ?it/s]"
      ]
     },
     "metadata": {},
     "output_type": "display_data"
    }
   ],
   "source": [
    "# Convert all texts to dense BERT embeddings\n",
    "X = model.encode(texts, show_progress_bar=True)"
   ]
  },
  {
   "cell_type": "markdown",
   "id": "a639b66d-1cbc-45ab-bcbf-64ff0527c3ba",
   "metadata": {},
   "source": [
    "## 📊 Step 5: Train and Evaluate Using SVM with Cross-Validation\n",
    "\n",
    "We'll train a linear Support Vector Machine (SVM) on the Sentence-BERT embeddings.\n",
    "We use 5-fold stratified cross-validation and compute the mean accuracy and standard deviation."
   ]
  },
  {
   "cell_type": "code",
   "execution_count": 5,
   "id": "9275dff0-1fce-4c55-8fd9-3380c1bde033",
   "metadata": {},
   "outputs": [
    {
     "name": "stdout",
     "output_type": "stream",
     "text": [
      "📊 Fold Accuracies: [0.52380952 0.57142857 0.33333333 0.28571429 0.47619048]\n",
      "✅ Mean Accuracy: 0.4381\n",
      "📉 Std Deviation: 0.1102\n"
     ]
    }
   ],
   "source": [
    "from sklearn.svm import SVC\n",
    "from sklearn.model_selection import cross_val_score, StratifiedKFold\n",
    "import numpy as np\n",
    "\n",
    "# Define the SVM classifier\n",
    "svm = SVC(kernel='linear', class_weight='balanced', random_state=42)\n",
    "\n",
    "# Set up 5-fold stratified cross-validation\n",
    "cv = StratifiedKFold(n_splits=5, shuffle=True, random_state=42)\n",
    "\n",
    "# Evaluate the model\n",
    "scores = cross_val_score(svm, X, labels, cv=cv)\n",
    "\n",
    "# Display results\n",
    "print(\"📊 Fold Accuracies:\", scores)\n",
    "print(\"✅ Mean Accuracy:\", round(np.mean(scores), 4))\n",
    "print(\"📉 Std Deviation:\", round(np.std(scores), 4))"
   ]
  },
  {
   "cell_type": "markdown",
   "id": "7f6c44fc-1af7-4785-bb5a-84c17fcb03db",
   "metadata": {},
   "source": [
    "## 🤔 Step 6: Try Logistic Regression on BERT Embeddings\n",
    "\n",
    "Since SVM may not be the best fit for dense BERT embeddings on small datasets, we’ll now try a Logistic Regression classifier.\n",
    "We’ll use the same 5-fold stratified cross-validation setup and compare accuracy with our earlier SVM results."
   ]
  },
  {
   "cell_type": "code",
   "execution_count": 6,
   "id": "74ec6e27-d128-4610-a54c-6780ad80c702",
   "metadata": {},
   "outputs": [
    {
     "name": "stdout",
     "output_type": "stream",
     "text": [
      "📊 Fold Accuracies: [0.52380952 0.47619048 0.33333333 0.33333333 0.47619048]\n",
      "✅ Mean Accuracy: 0.4286\n",
      "📉 Std Deviation: 0.0797\n"
     ]
    }
   ],
   "source": [
    "from sklearn.linear_model import LogisticRegression\n",
    "from sklearn.model_selection import cross_val_score\n",
    "\n",
    "# Define Logistic Regression with balanced class weights\n",
    "logreg = LogisticRegression(class_weight='balanced', max_iter=1000, random_state=42)\n",
    "\n",
    "# Cross-validation using the same setup\n",
    "scores = cross_val_score(logreg, X, labels, cv=cv)\n",
    "\n",
    "# Show results\n",
    "print(\"📊 Fold Accuracies:\", scores)\n",
    "print(\"✅ Mean Accuracy:\", round(np.mean(scores), 4))\n",
    "print(\"📉 Std Deviation:\", round(np.std(scores), 4))"
   ]
  },
  {
   "cell_type": "markdown",
   "id": "17bcbd9c-35a9-4504-9601-b42562caac13",
   "metadata": {},
   "source": [
    "## 🔁 Step 7: Normalize BERT Embeddings Before Training\n",
    "\n",
    "We'll apply `StandardScaler` to the Sentence-BERT embeddings before passing them into our classifiers. This ensures that each feature (dimension) has zero mean and unit variance — a common preprocessing step for models like SVM and Logistic Regression."
   ]
  },
  {
   "cell_type": "code",
   "execution_count": 7,
   "id": "1cef6841-4be7-48af-8bf8-7bf80f5929b7",
   "metadata": {},
   "outputs": [
    {
     "name": "stdout",
     "output_type": "stream",
     "text": [
      "📊 Fold Accuracies: [0.52380952 0.52380952 0.42857143 0.57142857 0.57142857]\n",
      "✅ Mean Accuracy (Scaled): 0.5238\n",
      "📉 Std Deviation: 0.0522\n"
     ]
    }
   ],
   "source": [
    "from sklearn.preprocessing import StandardScaler\n",
    "\n",
    "# Normalize the BERT embeddings\n",
    "scaler = StandardScaler()\n",
    "X_scaled = scaler.fit_transform(X)\n",
    "\n",
    "# Re-evaluate using Logistic Regression on scaled embeddings\n",
    "logreg = LogisticRegression(class_weight='balanced', max_iter=1000, random_state=42)\n",
    "scores = cross_val_score(logreg, X_scaled, labels, cv=cv)\n",
    "\n",
    "# Display results\n",
    "print(\"📊 Fold Accuracies:\", scores)\n",
    "print(\"✅ Mean Accuracy (Scaled):\", round(np.mean(scores), 4))\n",
    "print(\"📉 Std Deviation:\", round(np.std(scores), 4))"
   ]
  },
  {
   "cell_type": "markdown",
   "id": "8df79658-bc2d-4706-93b7-d17fbfcb046a",
   "metadata": {},
   "source": [
    "## ✅ Summary of Results – Sentence-BERT vs TF-IDF for Methodology Classification\n",
    "\n",
    "### Baseline Model (TF-IDF + SVM)\n",
    "- Notebook: `methodology_classifier_v2.0.ipynb`\n",
    "- Preprocessing: TF-IDF (unigram/bigram)\n",
    "- Classifier: Support Vector Machine (linear kernel, SMOTE applied)\n",
    "- 5-Fold CV Mean Accuracy: **0.71**\n",
    "\n",
    "---\n",
    "\n",
    "### Experiment 1: Sentence-BERT + SVM (Unscaled)\n",
    "- Notebook: `methodology_classifier_(v2.1)_bert.ipynb`\n",
    "- Embeddings: `all-MiniLM-L6-v2` (768-dim)\n",
    "- Classifier: SVM (linear, class_weight='balanced')\n",
    "- 5-Fold CV Mean Accuracy: **0.4381**\n",
    "- Std Deviation: **0.1102**\n",
    "\n",
    "---\n",
    "\n",
    "### Experiment 2: Sentence-BERT + Logistic Regression (Unscaled)\n",
    "- Same notebook as above\n",
    "- Classifier: Logistic Regression (balanced, max_iter=1000)\n",
    "- 5-Fold CV Mean Accuracy: **0.4286**\n",
    "- Std Deviation: **0.0797**\n",
    "\n",
    "---\n",
    "\n",
    "### ✅ Experiment 3: Sentence-BERT + Logistic Regression (Scaled)\n",
    "- Notebook: `methodology_classifier_(v2.1.1)_bert_scaled_logreg.ipynb`\n",
    "- Preprocessing: StandardScaler on embeddings\n",
    "- Classifier: Logistic Regression (balanced, max_iter=1000)\n",
    "- 5-Fold CV Mean Accuracy: **0.5238**\n",
    "- Std Deviation: **0.0522**\n",
    "\n",
    "---\n",
    "\n",
    "### 🔍 Insight:\n",
    "- TF-IDF still outperforms all BERT-based methods on this small dataset.\n",
    "- Normalizing BERT embeddings significantly improved performance.\n",
    "- Logistic Regression is better suited than SVM in this context."
   ]
  },
  {
   "cell_type": "markdown",
   "id": "8e67a3e2-96db-4e7b-bf34-36fb90a03b74",
   "metadata": {},
   "source": [
    "## 💾 Save Finalized Model and Scaler\n",
    "\n",
    "We'll save the trained Logistic Regression model and the StandardScaler using `joblib`, so they can be reused or evaluated later."
   ]
  },
  {
   "cell_type": "code",
   "execution_count": 8,
   "id": "aeb2c986-0c7f-489a-acc5-9486a4af92b1",
   "metadata": {},
   "outputs": [
    {
     "name": "stdout",
     "output_type": "stream",
     "text": [
      "✅ Model and scaler saved.\n"
     ]
    }
   ],
   "source": [
    "import joblib\n",
    "\n",
    "# Save the scaler and model (retrain on full data before saving)\n",
    "logreg_final = LogisticRegression(class_weight='balanced', max_iter=1000, random_state=42)\n",
    "logreg_final.fit(X_scaled, labels)\n",
    "\n",
    "# Save model and scaler\n",
    "joblib.dump(logreg_final, 'Artefacts/methodology_logreg_v2.1.1_scaled.pkl')\n",
    "joblib.dump(scaler, 'Artefacts/methodology_scaler_v2.1.1.pkl')\n",
    "\n",
    "print(\"✅ Model and scaler saved.\")"
   ]
  },
  {
   "cell_type": "code",
   "execution_count": 9,
   "id": "72c643e1-d67b-4562-aa64-04c78f445698",
   "metadata": {},
   "outputs": [
    {
     "name": "stderr",
     "output_type": "stream",
     "text": [
      "huggingface/tokenizers: The current process just got forked, after parallelism has already been used. Disabling parallelism to avoid deadlocks...\n",
      "To disable this warning, you can either:\n",
      "\t- Avoid using `tokenizers` before the fork if possible\n",
      "\t- Explicitly set the environment variable TOKENIZERS_PARALLELISM=(true | false)\n"
     ]
    },
    {
     "name": "stdout",
     "output_type": "stream",
     "text": [
      "Requirement already satisfied: matplotlib in /opt/anaconda3/envs/nlp-bert/lib/python3.10/site-packages (3.10.1)\n",
      "Requirement already satisfied: contourpy>=1.0.1 in /opt/anaconda3/envs/nlp-bert/lib/python3.10/site-packages (from matplotlib) (1.3.2)\n",
      "Requirement already satisfied: cycler>=0.10 in /opt/anaconda3/envs/nlp-bert/lib/python3.10/site-packages (from matplotlib) (0.12.1)\n",
      "Requirement already satisfied: fonttools>=4.22.0 in /opt/anaconda3/envs/nlp-bert/lib/python3.10/site-packages (from matplotlib) (4.57.0)\n",
      "Requirement already satisfied: kiwisolver>=1.3.1 in /opt/anaconda3/envs/nlp-bert/lib/python3.10/site-packages (from matplotlib) (1.4.8)\n",
      "Requirement already satisfied: numpy>=1.23 in /opt/anaconda3/envs/nlp-bert/lib/python3.10/site-packages (from matplotlib) (2.2.5)\n",
      "Requirement already satisfied: packaging>=20.0 in /opt/anaconda3/envs/nlp-bert/lib/python3.10/site-packages (from matplotlib) (25.0)\n",
      "Requirement already satisfied: pillow>=8 in /opt/anaconda3/envs/nlp-bert/lib/python3.10/site-packages (from matplotlib) (11.2.1)\n",
      "Requirement already satisfied: pyparsing>=2.3.1 in /opt/anaconda3/envs/nlp-bert/lib/python3.10/site-packages (from matplotlib) (3.2.3)\n",
      "Requirement already satisfied: python-dateutil>=2.7 in /opt/anaconda3/envs/nlp-bert/lib/python3.10/site-packages (from matplotlib) (2.9.0.post0)\n",
      "Requirement already satisfied: six>=1.5 in /opt/anaconda3/envs/nlp-bert/lib/python3.10/site-packages (from python-dateutil>=2.7->matplotlib) (1.17.0)\n"
     ]
    }
   ],
   "source": [
    "!pip install matplotlib\n",
    "import matplotlib.pyplot as plt"
   ]
  },
  {
   "cell_type": "code",
   "execution_count": 10,
   "id": "2060fa7c-64e9-4594-9b00-91ab181e8b88",
   "metadata": {},
   "outputs": [
    {
     "data": {
      "image/png": "[encoded data removed]",
      "text/plain": [
       "<Figure size 640x480 with 1 Axes>"
      ]
     },
     "metadata": {},
     "output_type": "display_data"
    }
   ],
   "source": [
    "models = ['TF-IDF + SVM', 'BERT + SVM', 'BERT + LogReg', 'BERT + LogReg (Scaled)']\n",
    "accuracies = [0.71, 0.4381, 0.4286, 0.5238]\n",
    "\n",
    "plt.bar(models, accuracies)\n",
    "plt.ylabel(\"Mean Accuracy\")\n",
    "plt.ylim(0, 1)\n",
    "plt.title(\"Model Comparison for Methodology Classification\")\n",
    "plt.xticks(rotation=15)\n",
    "plt.show()"
   ]
  },
  {
   "cell_type": "code",
   "execution_count": null,
   "id": "ef046937-197b-43a4-ada8-cae64b8beece",
   "metadata": {},
   "outputs": [],
   "source": []
  }
 ],
 "metadata": {
  "kernelspec": {
   "display_name": "Python 3 (ipykernel)",
   "language": "python",
   "name": "python3"
  },
  "language_info": {
   "codemirror_mode": {
    "name": "ipython",
    "version": 3
   },
   "file_extension": ".py",
   "mimetype": "text/x-python",
   "name": "python",
   "nbconvert_exporter": "python",
   "pygments_lexer": "ipython3",
   "version": "3.10.16"
  }
 },
 "nbformat": 4,
 "nbformat_minor": 5
}
