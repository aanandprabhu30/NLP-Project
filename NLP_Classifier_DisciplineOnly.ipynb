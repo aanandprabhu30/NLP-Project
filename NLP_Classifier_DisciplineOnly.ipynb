{
 "cells": [
  {
   "cell_type": "code",
   "execution_count": 3,
   "id": "ad58dfeb",
   "metadata": {},
   "outputs": [
    {
     "name": "stdout",
     "output_type": "stream",
     "text": [
      "Training samples: 84\n",
      "Test samples: 21\n",
      "Label mapping: {'CS': 0, 'IS': 1, 'IT': 2}\n"
     ]
    },
    {
     "name": "stderr",
     "output_type": "stream",
     "text": [
      "[nltk_data] Downloading package stopwords to\n",
      "[nltk_data]     /Users/aanandprabhu/nltk_data...\n",
      "[nltk_data]   Package stopwords is already up-to-date!\n"
     ]
    }
   ],
   "source": [
    "# STEP 1: Load and Preprocess the Dataset\n",
    "\n",
    "import pandas as pd\n",
    "import re\n",
    "import string\n",
    "from sklearn.model_selection import train_test_split\n",
    "from sklearn.preprocessing import LabelEncoder\n",
    "import nltk\n",
    "from nltk.corpus import stopwords\n",
    "\n",
    "\n",
    "nltk.download('stopwords')\n",
    "\n",
    "# Load dataset\n",
    "df = pd.read_csv(\"NLP_Abstract_Dataset (Discipline)(105).csv\")\n",
    "\n",
    "# Basic cleaning function\n",
    "def clean_text(text):\n",
    "    text = text.lower()\n",
    "    text = re.sub(r'\\d+', '', text)  # remove numbers\n",
    "    text = text.translate(str.maketrans('', '', string.punctuation))  # remove punctuation\n",
    "    stop_words = set(stopwords.words('english'))\n",
    "    words = text.split()\n",
    "    words = [word for word in words if word not in stop_words]\n",
    "    return ' '.join(words)\n",
    "\n",
    "# Apply cleaning\n",
    "df['Clean_Abstract'] = df['Abstract'].apply(clean_text)\n",
    "\n",
    "# Encode labels\n",
    "label_encoder = LabelEncoder()\n",
    "df['Label'] = label_encoder.fit_transform(df['Discipline'])\n",
    "\n",
    "# Split into train and test\n",
    "X_train, X_test, y_train, y_test = train_test_split(\n",
    "    df['Clean_Abstract'], df['Label'], test_size=0.2, random_state=42, stratify=df['Label']\n",
    ")\n",
    "\n",
    "# Quick check\n",
    "print(\"Training samples:\", len(X_train))\n",
    "print(\"Test samples:\", len(X_test))\n",
    "print(\"Label mapping:\", dict(zip(label_encoder.classes_, label_encoder.transform(label_encoder.classes_))))"
   ]
  },
  {
   "cell_type": "code",
   "execution_count": 4,
   "id": "ff82f2a7",
   "metadata": {},
   "outputs": [
    {
     "name": "stdout",
     "output_type": "stream",
     "text": [
      "TF-IDF Vectorization complete.\n",
      "Training shape: (84, 2000)\n",
      "Test shape: (21, 2000)\n"
     ]
    }
   ],
   "source": [
    "# STEP 2: TF-IDF Vectorization\n",
    "\n",
    "from sklearn.feature_extraction.text import TfidfVectorizer\n",
    "import joblib\n",
    "\n",
    "# Initialize vectorizer\n",
    "tfidf_vectorizer = TfidfVectorizer(max_features=2000)  \n",
    "\n",
    "# Fit and transform the training data\n",
    "X_train_tfidf = tfidf_vectorizer.fit_transform(X_train)\n",
    "\n",
    "# Transform the test data\n",
    "X_test_tfidf = tfidf_vectorizer.transform(X_test)\n",
    "\n",
    "# Save the vectorizer for future use\n",
    "joblib.dump(tfidf_vectorizer, 'tfidf_vectorizer.pkl')\n",
    "\n",
    "# Sanity check\n",
    "print(\"TF-IDF Vectorization complete.\")\n",
    "print(\"Training shape:\", X_train_tfidf.shape)\n",
    "print(\"Test shape:\", X_test_tfidf.shape)"
   ]
  },
  {
   "cell_type": "code",
   "execution_count": 5,
   "id": "c8897919",
   "metadata": {},
   "outputs": [
    {
     "name": "stdout",
     "output_type": "stream",
     "text": [
      "Logistic Regression Accuracy: 0.9047619047619048\n",
      "\n",
      "Logistic Regression Report:\n",
      "               precision    recall  f1-score   support\n",
      "\n",
      "           0       1.00      1.00      1.00         7\n",
      "           1       0.86      0.86      0.86         7\n",
      "           2       0.86      0.86      0.86         7\n",
      "\n",
      "    accuracy                           0.90        21\n",
      "   macro avg       0.90      0.90      0.90        21\n",
      "weighted avg       0.90      0.90      0.90        21\n",
      "\n",
      "Confusion Matrix:\n",
      " [[7 0 0]\n",
      " [0 6 1]\n",
      " [0 1 6]]\n",
      "\n",
      "===============================\n",
      "\n",
      "Naive Bayes Accuracy: 0.9047619047619048\n",
      "\n",
      "Naive Bayes Report:\n",
      "               precision    recall  f1-score   support\n",
      "\n",
      "           0       1.00      1.00      1.00         7\n",
      "           1       0.86      0.86      0.86         7\n",
      "           2       0.86      0.86      0.86         7\n",
      "\n",
      "    accuracy                           0.90        21\n",
      "   macro avg       0.90      0.90      0.90        21\n",
      "weighted avg       0.90      0.90      0.90        21\n",
      "\n",
      "Confusion Matrix:\n",
      " [[7 0 0]\n",
      " [0 6 1]\n",
      " [0 1 6]]\n"
     ]
    }
   ],
   "source": [
    "# STEP 3: Train & Evaluate Models\n",
    "\n",
    "from sklearn.linear_model import LogisticRegression\n",
    "from sklearn.naive_bayes import MultinomialNB\n",
    "from sklearn.metrics import accuracy_score, classification_report, confusion_matrix\n",
    "\n",
    "# Logistic Regression\n",
    "logreg = LogisticRegression(max_iter=1000)\n",
    "logreg.fit(X_train_tfidf, y_train)\n",
    "y_pred_logreg = logreg.predict(X_test_tfidf)\n",
    "\n",
    "# Naive Bayes\n",
    "nb = MultinomialNB()\n",
    "nb.fit(X_train_tfidf, y_train)\n",
    "y_pred_nb = nb.predict(X_test_tfidf)\n",
    "\n",
    "# Evaluation\n",
    "print(\"Logistic Regression Accuracy:\", accuracy_score(y_test, y_pred_logreg))\n",
    "print(\"\\nLogistic Regression Report:\\n\", classification_report(y_test, y_pred_logreg))\n",
    "print(\"Confusion Matrix:\\n\", confusion_matrix(y_test, y_pred_logreg))\n",
    "\n",
    "print(\"\\n===============================\\n\")\n",
    "\n",
    "print(\"Naive Bayes Accuracy:\", accuracy_score(y_test, y_pred_nb))\n",
    "print(\"\\nNaive Bayes Report:\\n\", classification_report(y_test, y_pred_nb))\n",
    "print(\"Confusion Matrix:\\n\", confusion_matrix(y_test, y_pred_nb))"
   ]
  },
  {
   "cell_type": "markdown",
   "id": "a42ba27c",
   "metadata": {},
   "source": [
    "### Model Selection Rationale\n",
    "\n",
    "Both Logistic Regression and Naive Bayes achieved 90% accuracy on the test set. However, Logistic Regression was chosen as the final model because:\n",
    "- It showed perfect prediction for CS abstracts (class 0)\n",
    "- Only 2 total misclassifications (IS ↔ IT)\n",
    "- It offers better interpretability, making it more suitable for extension into subclassification tasks later\n",
    "- Logistic Regression also performed better in earlier prototype testing"
   ]
  },
  {
   "cell_type": "code",
   "execution_count": 6,
   "id": "f6775aaf",
   "metadata": {},
   "outputs": [
    {
     "name": "stdout",
     "output_type": "stream",
     "text": [
      "Final Logistic Regression model saved as discipline_classifier_logreg.pkl\n"
     ]
    }
   ],
   "source": [
    "# STEP 4: Save the final model\n",
    "import joblib\n",
    "\n",
    "# Save Logistic Regression model to disk\n",
    "joblib.dump(logreg, \"discipline_classifier_logreg.pkl\")\n",
    "\n",
    "print(\"Final Logistic Regression model saved as discipline_classifier_logreg.pkl\")"
   ]
  },
  {
   "cell_type": "code",
   "execution_count": null,
   "id": "8efa9950",
   "metadata": {},
   "outputs": [],
   "source": []
  }
 ],
 "metadata": {
  "kernelspec": {
   "display_name": "Python 3 (ipykernel)",
   "language": "python",
   "name": "python3"
  },
  "language_info": {
   "codemirror_mode": {
    "name": "ipython",
    "version": 3
   },
   "file_extension": ".py",
   "mimetype": "text/x-python",
   "name": "python",
   "nbconvert_exporter": "python",
   "pygments_lexer": "ipython3",
   "version": "3.9.12"
  }
 },
 "nbformat": 4,
 "nbformat_minor": 5
}
