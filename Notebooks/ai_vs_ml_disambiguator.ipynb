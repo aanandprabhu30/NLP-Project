{
 "cells": [
  {
   "cell_type": "markdown",
   "id": "0fbfe3aa-29ca-49fc-918b-bcd4f836b386",
   "metadata": {},
   "source": [
    "## 1. Load and Filter AI vs ML Samples\n",
    "\n",
    "We load the same `CS_subfields.csv` dataset used for the main classifier.  \n",
    "From this, we extract only rows labeled as `AI` or `ML` to train a binary disambiguator.\n",
    "\n",
    "The goal is to reduce confusion between these two semantically overlapping subfields using a focused binary model."
   ]
  },
  {
   "cell_type": "code",
   "execution_count": 2,
   "id": "d84f9f04-66f5-4f69-b87a-4b8816c7c2bf",
   "metadata": {},
   "outputs": [
    {
     "data": {
      "text/html": [
       "<div>\n",
       "<style scoped>\n",
       "    .dataframe tbody tr th:only-of-type {\n",
       "        vertical-align: middle;\n",
       "    }\n",
       "\n",
       "    .dataframe tbody tr th {\n",
       "        vertical-align: top;\n",
       "    }\n",
       "\n",
       "    .dataframe thead th {\n",
       "        text-align: right;\n",
       "    }\n",
       "</style>\n",
       "<table border=\"1\" class=\"dataframe\">\n",
       "  <thead>\n",
       "    <tr style=\"text-align: right;\">\n",
       "      <th></th>\n",
       "      <th>Title</th>\n",
       "      <th>Subfield</th>\n",
       "      <th>input_text</th>\n",
       "    </tr>\n",
       "  </thead>\n",
       "  <tbody>\n",
       "    <tr>\n",
       "      <th>0</th>\n",
       "      <td>Beyond Frameworks: Unpacking Collaboration Str...</td>\n",
       "      <td>AI</td>\n",
       "      <td>Beyond Frameworks: Unpacking Collaboration Str...</td>\n",
       "    </tr>\n",
       "    <tr>\n",
       "      <th>1</th>\n",
       "      <td>Any-to-Any Learning in Computational Pathology...</td>\n",
       "      <td>AI</td>\n",
       "      <td>Any-to-Any Learning in Computational Pathology...</td>\n",
       "    </tr>\n",
       "    <tr>\n",
       "      <th>2</th>\n",
       "      <td>AutoMat: Enabling Automated Crystal Structure ...</td>\n",
       "      <td>AI</td>\n",
       "      <td>AutoMat: Enabling Automated Crystal Structure ...</td>\n",
       "    </tr>\n",
       "    <tr>\n",
       "      <th>3</th>\n",
       "      <td>ACU: Analytic Continual Unlearning for Efficie...</td>\n",
       "      <td>AI</td>\n",
       "      <td>ACU: Analytic Continual Unlearning for Efficie...</td>\n",
       "    </tr>\n",
       "    <tr>\n",
       "      <th>4</th>\n",
       "      <td>Empowering Sustainable Finance with Artificial...</td>\n",
       "      <td>AI</td>\n",
       "      <td>Empowering Sustainable Finance with Artificial...</td>\n",
       "    </tr>\n",
       "  </tbody>\n",
       "</table>\n",
       "</div>"
      ],
      "text/plain": [
       "                                               Title Subfield  \\\n",
       "0  Beyond Frameworks: Unpacking Collaboration Str...       AI   \n",
       "1  Any-to-Any Learning in Computational Pathology...       AI   \n",
       "2  AutoMat: Enabling Automated Crystal Structure ...       AI   \n",
       "3  ACU: Analytic Continual Unlearning for Efficie...       AI   \n",
       "4  Empowering Sustainable Finance with Artificial...       AI   \n",
       "\n",
       "                                          input_text  \n",
       "0  Beyond Frameworks: Unpacking Collaboration Str...  \n",
       "1  Any-to-Any Learning in Computational Pathology...  \n",
       "2  AutoMat: Enabling Automated Crystal Structure ...  \n",
       "3  ACU: Analytic Continual Unlearning for Efficie...  \n",
       "4  Empowering Sustainable Finance with Artificial...  "
      ]
     },
     "execution_count": 2,
     "metadata": {},
     "output_type": "execute_result"
    }
   ],
   "source": [
    "import pandas as pd\n",
    "\n",
    "# Load CS dataset\n",
    "df = pd.read_csv(\"Data/CS_subfields.csv\")\n",
    "\n",
    "# Filter AI and ML only\n",
    "df_filtered = df[df[\"Subfield\"].isin([\"AI\", \"ML\"])].copy()\n",
    "\n",
    "# Reset index\n",
    "df_filtered.reset_index(drop=True, inplace=True)\n",
    "\n",
    "# Create input text column (same as main pipeline)\n",
    "df_filtered[\"input_text\"] = df_filtered[\"Title\"].astype(str).str.strip() + \" \" + df_filtered[\"Abstract\"].astype(str).str.strip()\n",
    "\n",
    "# Preview\n",
    "df_filtered[[\"Title\", \"Subfield\", \"input_text\"]].head()"
   ]
  },
  {
   "cell_type": "markdown",
   "id": "32f1e6cd-a285-4ca0-b943-0f053ceffc48",
   "metadata": {},
   "source": [
    "## 2. Generate SPECTER Embeddings\n",
    "\n",
    "We now generate dense 768-dimensional sentence embeddings for each entry in the filtered AI/ML dataset using the pretrained `allenai-specter` model from `sentence-transformers`.\n",
    "\n",
    "These embeddings will serve as the input features for our binary classifier."
   ]
  },
  {
   "cell_type": "code",
   "execution_count": 3,
   "id": "f4bc5fc2-5449-4ff2-b4a3-1699f8a17066",
   "metadata": {},
   "outputs": [
    {
     "data": {
      "application/vnd.jupyter.widget-view+json": {
       "model_id": "33dfe27858f24fecb9c273f9748eab49",
       "version_major": 2,
       "version_minor": 0
      },
      "text/plain": [
       "Batches:   0%|          | 0/19 [00:00<?, ?it/s]"
      ]
     },
     "metadata": {},
     "output_type": "display_data"
    }
   ],
   "source": [
    "from sentence_transformers import SentenceTransformer\n",
    "\n",
    "# Load SPECTER model\n",
    "model = SentenceTransformer(\"allenai-specter\")\n",
    "\n",
    "# Create input list\n",
    "texts = df_filtered[\"input_text\"].tolist()\n",
    "\n",
    "# Generate embeddings (this may take 1–2 minutes)\n",
    "X_embeddings = model.encode(texts, batch_size=32, show_progress_bar=True)"
   ]
  },
  {
   "cell_type": "markdown",
   "id": "819373f4-8404-4dea-b63f-018bb0f436da",
   "metadata": {},
   "source": [
    "## 3. Encode Labels and Train Logistic Regression\n",
    "\n",
    "We encode the subfield labels as binary values:\n",
    "- **AI → 0**\n",
    "- **ML → 1**\n",
    "\n",
    "Then, we split the data and train a `LogisticRegression` model on the SPECTER embeddings to distinguish between AI and ML."
   ]
  },
  {
   "cell_type": "code",
   "execution_count": 4,
   "id": "9701e3cf-f13b-44d9-a524-1607dedb3655",
   "metadata": {},
   "outputs": [
    {
     "name": "stdout",
     "output_type": "stream",
     "text": [
      "Classification Report:\n",
      "\n",
      "              precision    recall  f1-score   support\n",
      "\n",
      "          AI       0.68      0.65      0.67        60\n",
      "          ML       0.67      0.70      0.68        60\n",
      "\n",
      "    accuracy                           0.68       120\n",
      "   macro avg       0.68      0.68      0.67       120\n",
      "weighted avg       0.68      0.68      0.67       120\n",
      "\n",
      "Confusion Matrix:\n",
      "\n",
      "[[39 21]\n",
      " [18 42]]\n"
     ]
    }
   ],
   "source": [
    "from sklearn.preprocessing import LabelEncoder\n",
    "from sklearn.linear_model import LogisticRegression\n",
    "from sklearn.model_selection import train_test_split\n",
    "from sklearn.metrics import classification_report, confusion_matrix\n",
    "\n",
    "# Encode labels: AI → 0, ML → 1\n",
    "le = LabelEncoder()\n",
    "y = le.fit_transform(df_filtered[\"Subfield\"])\n",
    "\n",
    "# Train-test split (80/20)\n",
    "X_train, X_test, y_train, y_test = train_test_split(\n",
    "    X_embeddings, y, test_size=0.2, random_state=42, stratify=y\n",
    ")\n",
    "\n",
    "# Train Logistic Regression\n",
    "logreg = LogisticRegression(max_iter=1000, class_weight='balanced', random_state=42)\n",
    "logreg.fit(X_train, y_train)\n",
    "\n",
    "# Evaluate\n",
    "y_pred = logreg.predict(X_test)\n",
    "\n",
    "print(\"Classification Report:\\n\")\n",
    "print(classification_report(y_test, y_pred, target_names=le.classes_))\n",
    "\n",
    "print(\"Confusion Matrix:\\n\")\n",
    "print(confusion_matrix(y_test, y_pred))"
   ]
  },
  {
   "cell_type": "markdown",
   "id": "692cbdab-1702-4a4c-b2a9-2aeabfd9c1af",
   "metadata": {},
   "source": [
    "### 4. Result Interpretation and Analysis\n",
    "\n",
    "The Logistic Regression classifier trained on SPECTER embeddings was able to achieve:\n",
    "\n",
    "- **Accuracy**: 68%\n",
    "- **Macro F1-score**: 0.67\n",
    "- **AI F1-score**: 0.67\n",
    "- **ML F1-score**: 0.68\n",
    "\n",
    "#### 🔍 Observations:\n",
    "- The classifier performs **consistently across both classes**, with balanced precision and recall.\n",
    "- This confirms that **Logistic Regression is capable of learning the boundary** between AI and ML using SPECTER embeddings.\n",
    "- Given that AI and ML often overlap in vocabulary and abstract structure, this result is **promising and practically useful**.\n",
    "- This model can now act as a **second-stage disambiguator** whenever the main classifier predicts either AI or ML.\n",
    "\n",
    "While not perfect, this is a strong baseline for binary disambiguation and can significantly improve subfield-level classification when integrated into the pipeline."
   ]
  },
  {
   "cell_type": "markdown",
   "id": "b6a3d066-777f-4209-b3dc-8170dcc05c83",
   "metadata": {},
   "source": [
    "### 5. Save Model Artefacts\n",
    "\n",
    "We save the trained Logistic Regression model and the corresponding label encoder to the `Artefacts/` directory. These can be reused for integration into the main pipeline or for deployment in a two-stage classification system."
   ]
  },
  {
   "cell_type": "code",
   "execution_count": 5,
   "id": "3401d459-fac5-4398-86ae-7122b89c3f51",
   "metadata": {},
   "outputs": [
    {
     "name": "stdout",
     "output_type": "stream",
     "text": [
      "✅ Saved disambiguator and label encoder.\n"
     ]
    }
   ],
   "source": [
    "import joblib\n",
    "import os\n",
    "\n",
    "# Save the disambiguator and label encoder\n",
    "joblib.dump(logreg, \"Artefacts/ai_ml_disambiguator_logreg_v1.pkl\")\n",
    "joblib.dump(le, \"Artefacts/ai_ml_label_encoder.pkl\")\n",
    "\n",
    "print(\"✅ Saved disambiguator and label encoder.\")"
   ]
  },
  {
   "cell_type": "code",
   "execution_count": null,
   "id": "105bf246-adfe-424b-85e2-7b5adc80ad7d",
   "metadata": {},
   "outputs": [],
   "source": []
  }
 ],
 "metadata": {
  "kernelspec": {
   "display_name": "Python 3 (ipykernel)",
   "language": "python",
   "name": "python3"
  },
  "language_info": {
   "codemirror_mode": {
    "name": "ipython",
    "version": 3
   },
   "file_extension": ".py",
   "mimetype": "text/x-python",
   "name": "python",
   "nbconvert_exporter": "python",
   "pygments_lexer": "ipython3",
   "version": "3.10.16"
  }
 },
 "nbformat": 4,
 "nbformat_minor": 5
}
