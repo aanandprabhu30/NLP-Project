{
 "cells": [
  {
   "cell_type": "markdown",
   "id": "2b6e8b0c",
   "metadata": {},
   "source": [
    "# 🧠 Subfield Classifier – Information Systems (IS)\n",
    "\n",
    "This notebook sets up subfield classification for **IS abstracts** using the full 105-abstract dataset. It follows the same structure as the CS subfield pipeline, focusing on feature extraction, model training, evaluation, and saving."
   ]
  },
  {
   "cell_type": "markdown",
   "id": "575f3e43",
   "metadata": {},
   "source": [
    "### 💻 Step 1: Load and Filter IS Abstracts\n",
    "\n",
    "We begin by loading the full dataset containing subfield labels and filtering it to include only **Information Systems (IS)** abstracts. This subset will be used for subfield-level classification in the IS discipline."
   ]
  },
  {
   "cell_type": "code",
   "execution_count": 17,
   "id": "f3362034",
   "metadata": {},
   "outputs": [
    {
     "data": {
      "text/html": [
       "<div>\n",
       "<style scoped>\n",
       "    .dataframe tbody tr th:only-of-type {\n",
       "        vertical-align: middle;\n",
       "    }\n",
       "\n",
       "    .dataframe tbody tr th {\n",
       "        vertical-align: top;\n",
       "    }\n",
       "\n",
       "    .dataframe thead th {\n",
       "        text-align: right;\n",
       "    }\n",
       "</style>\n",
       "<table border=\"1\" class=\"dataframe\">\n",
       "  <thead>\n",
       "    <tr style=\"text-align: right;\">\n",
       "      <th></th>\n",
       "      <th>ID</th>\n",
       "      <th>Discipline</th>\n",
       "      <th>Subfield</th>\n",
       "      <th>Abstract</th>\n",
       "    </tr>\n",
       "  </thead>\n",
       "  <tbody>\n",
       "    <tr>\n",
       "      <th>5</th>\n",
       "      <td>6</td>\n",
       "      <td>IS</td>\n",
       "      <td>ENT</td>\n",
       "      <td>Enterprise Resource Planning (ERP) systems pro...</td>\n",
       "    </tr>\n",
       "    <tr>\n",
       "      <th>6</th>\n",
       "      <td>7</td>\n",
       "      <td>IS</td>\n",
       "      <td>IMP</td>\n",
       "      <td>This research makes an attempt to understand v...</td>\n",
       "    </tr>\n",
       "    <tr>\n",
       "      <th>7</th>\n",
       "      <td>8</td>\n",
       "      <td>IS</td>\n",
       "      <td>GOV</td>\n",
       "      <td>Electronic learning (e-learning) has been wide...</td>\n",
       "    </tr>\n",
       "    <tr>\n",
       "      <th>8</th>\n",
       "      <td>9</td>\n",
       "      <td>IS</td>\n",
       "      <td>ENT</td>\n",
       "      <td>The success rate of enterprise resource planni...</td>\n",
       "    </tr>\n",
       "    <tr>\n",
       "      <th>9</th>\n",
       "      <td>10</td>\n",
       "      <td>IS</td>\n",
       "      <td>GOV</td>\n",
       "      <td>Mobile-based advisory services have significan...</td>\n",
       "    </tr>\n",
       "  </tbody>\n",
       "</table>\n",
       "</div>"
      ],
      "text/plain": [
       "   ID Discipline Subfield                                           Abstract\n",
       "5   6         IS      ENT  Enterprise Resource Planning (ERP) systems pro...\n",
       "6   7         IS      IMP  This research makes an attempt to understand v...\n",
       "7   8         IS      GOV  Electronic learning (e-learning) has been wide...\n",
       "8   9         IS      ENT  The success rate of enterprise resource planni...\n",
       "9  10         IS      GOV  Mobile-based advisory services have significan..."
      ]
     },
     "execution_count": 17,
     "metadata": {},
     "output_type": "execute_result"
    }
   ],
   "source": [
    "import pandas as pd\n",
    "\n",
    "# Load the full subfield dataset\n",
    "df = pd.read_csv(\"data/NLP_Abstract_Dataset (Subfield)(105).csv\")\n",
    "\n",
    "# Filter only Information Systems (IS) records\n",
    "is_df = df[df[\"Discipline\"] == \"IS\"].copy()\n",
    "\n",
    "# Preview the first few rows\n",
    "is_df.head()"
   ]
  },
  {
   "cell_type": "markdown",
   "id": "7e31a1ff",
   "metadata": {},
   "source": [
    "### 🧠 Step 2: Preprocessing – TF-IDF + Subfield Label Encoding\n",
    "\n",
    "We convert the IS abstracts into numerical representations using **TF-IDF vectorization**, which captures the importance of words in each document relative to the corpus.  \n",
    "We also encode the subfield labels into integers using **LabelEncoder**, preparing them for model training."
   ]
  },
  {
   "cell_type": "code",
   "execution_count": 9,
   "id": "014e054f",
   "metadata": {},
   "outputs": [
    {
     "name": "stdout",
     "output_type": "stream",
     "text": [
      "TF-IDF matrix shape: (35, 648)\n",
      "Encoded subfield labels: ['BSP', 'DSA', 'ENT', 'GOV', 'IMP']\n"
     ]
    }
   ],
   "source": [
    "from sklearn.feature_extraction.text import TfidfVectorizer\n",
    "from sklearn.preprocessing import LabelEncoder\n",
    "\n",
    "# Extract features and labels\n",
    "X = is_df['Abstract']\n",
    "y = is_df['Subfield']\n",
    "\n",
    "# Convert text to TF-IDF vectors\n",
    "vectorizer = TfidfVectorizer(ngram_range=(1,2), stop_words='english', min_df=2, max_df=0.95)\n",
    "X_tfidf = vectorizer.fit_transform(X)\n",
    "\n",
    "# Encode subfield labels into integers\n",
    "label_encoder = LabelEncoder()\n",
    "y_encoded = label_encoder.fit_transform(y)\n",
    "\n",
    "# Confirm transformation\n",
    "print(\"TF-IDF matrix shape:\", X_tfidf.shape)\n",
    "print(\"Encoded subfield labels:\", list(label_encoder.classes_))"
   ]
  },
  {
   "cell_type": "markdown",
   "id": "155b5281",
   "metadata": {},
   "source": [
    "### 🤖 Step 3: Train-Test Split and Model Training (SVM + SMOTE )\n",
    "\n",
    "We split the IS data using a stratified 80/20 train-test split to maintain subfield distribution in both sets.\n",
    "We then apply SMOTE to address class imbalance in the training set, followed by training a Support Vector Machine (SVM) classifier on bigram-enhanced TF-IDF features."
   ]
  },
  {
   "cell_type": "code",
   "execution_count": 14,
   "id": "6f818c44",
   "metadata": {},
   "outputs": [
    {
     "name": "stdout",
     "output_type": "stream",
     "text": [
      "After SMOTE - Training shape: (35, 648)\n"
     ]
    }
   ],
   "source": [
    "from sklearn.model_selection import train_test_split\n",
    "from imblearn.over_sampling import SMOTE\n",
    "from sklearn.svm import LinearSVC\n",
    "\n",
    "# Stratified split\n",
    "X_train, X_test, y_train, y_test = train_test_split(\n",
    "    X_tfidf, y_encoded, test_size=0.2, random_state=42, stratify=y_encoded\n",
    ")\n",
    "\n",
    "# Apply SMOTE to training data only\n",
    "smote = SMOTE(random_state=42, k_neighbors=1)\n",
    "X_train, y_train = smote.fit_resample(X_train.toarray(), y_train)\n",
    "\n",
    "print(\"After SMOTE - Training shape:\", X_train.shape)\n",
    "\n",
    "# Train SVM model\n",
    "svm_model = LinearSVC(max_iter=1000, random_state=42)\n",
    "svm_model.fit(X_train, y_train)\n",
    "\n",
    "# Predict\n",
    "y_pred = svm_model.predict(X_test)"
   ]
  },
  {
   "cell_type": "markdown",
   "id": "29c33d7a",
   "metadata": {},
   "source": [
    "### 📊 Step 4: Model Evaluation – Classification Report & Confusion Matrix\n",
    "\n",
    "We evaluate the model using standard classification metrics including precision, recall, and F1-score.  \n",
    "We also generate a confusion matrix heatmap to visualize misclassifications across the five IS subfields."
   ]
  },
  {
   "cell_type": "code",
   "execution_count": 15,
   "id": "1719e967",
   "metadata": {},
   "outputs": [
    {
     "name": "stdout",
     "output_type": "stream",
     "text": [
      "📄 Classification Report:\n",
      "\n",
      "              precision    recall  f1-score   support\n",
      "\n",
      "         BSP       0.00      0.00      0.00         1\n",
      "         DSA       0.50      1.00      0.67         1\n",
      "         ENT       0.00      0.00      0.00         2\n",
      "         GOV       0.00      0.00      0.00         1\n",
      "         IMP       0.33      0.50      0.40         2\n",
      "\n",
      "    accuracy                           0.29         7\n",
      "   macro avg       0.17      0.30      0.21         7\n",
      "weighted avg       0.17      0.29      0.21         7\n",
      "\n"
     ]
    },
    {
     "data": {
      "image/png": "[encoded data removed]",
      "text/plain": [
       "<Figure size 576x432 with 2 Axes>"
      ]
     },
     "metadata": {
      "needs_background": "light"
     },
     "output_type": "display_data"
    }
   ],
   "source": [
    "from sklearn.metrics import classification_report, confusion_matrix\n",
    "import matplotlib.pyplot as plt\n",
    "import seaborn as sns\n",
    "\n",
    "\n",
    "# Print classification report\n",
    "print(\"📄 Classification Report:\\n\")\n",
    "print(classification_report(y_test, y_pred, target_names=label_encoder.classes_, zero_division=0))\n",
    "\n",
    "# Generate confusion matrix\n",
    "cm = confusion_matrix(y_test, y_pred)\n",
    "\n",
    "# Plot heatmap\n",
    "plt.figure(figsize=(8, 6))\n",
    "sns.heatmap(cm, annot=True, fmt='d', cmap='Blues',\n",
    "            xticklabels=label_encoder.classes_,\n",
    "            yticklabels=label_encoder.classes_)\n",
    "plt.xlabel('Predicted Subfield')\n",
    "plt.ylabel('True Subfield')\n",
    "plt.title('Confusion Matrix – IS Subfield Classifier (SVM + SMOTE)')\n",
    "plt.tight_layout()\n",
    "plt.show()"
   ]
  },
  {
   "cell_type": "markdown",
   "id": "76c56e22",
   "metadata": {},
   "source": [
    "### 📊 Confusion Matrix Interpretation – IS Subfield Classifier (SVM + SMOTE)\n",
    "\n",
    "This confusion matrix and classification report reflect the performance of the IS subfield classifier trained with SVM and SMOTE.\n",
    "\n",
    "- **DSA (Data Science & Analytics)** was predicted correctly with high F1-score (0.67)\n",
    "- **IMP (Implementation)** partially recovered with 50% recall\n",
    "- **ENT, BSP, and GOV** were not correctly classified\n",
    "- Misclassifications are more evenly spread compared to earlier Logistic Regression model, which had a bias toward ENT\n",
    "\n",
    "While accuracy (29%) and F1-scores remain low due to limited training samples, the SVM + SMOTE pipeline exhibits better balance and broader class coverage than previous attempts.\n",
    "This confirms structural validity of the pipeline. Improvements will depend on increased dataset size or richer feature sets."
   ]
  },
  {
   "cell_type": "markdown",
   "id": "d2a11474",
   "metadata": {},
   "source": [
    "### 🧾 Step 5: Save Final Model and TF-IDF Vectorizer\n",
    "\n",
    "We save both the trained SVM model and the TF-IDF vectorizer to disk using `joblib`. This allows for consistent reuse or deployment later without needing to retrain the model."
   ]
  },
  {
   "cell_type": "code",
   "execution_count": 16,
   "id": "a7659939",
   "metadata": {},
   "outputs": [
    {
     "name": "stdout",
     "output_type": "stream",
     "text": [
      "✅ Model and vectorizer saved successfully.\n"
     ]
    }
   ],
   "source": [
    "import joblib\n",
    "\n",
    "# Save the trained model and vectorizer\n",
    "joblib.dump(svm_model, \"is_subfield_classifier_svm_smote.pkl\")\n",
    "joblib.dump(vectorizer, \"is_subfield_vectorizer_smote.pkl\")\n",
    "\n",
    "print(\"✅ Model and vectorizer saved successfully.\")"
   ]
  },
  {
   "cell_type": "markdown",
   "id": "eec242ac",
   "metadata": {},
   "source": [
    "## ✅ Final Notes\n",
    "\n",
    "This notebook completes the subfield classification pipeline for Information Systems (IS) abstracts using an SVM classifier with bigram-enhanced TF-IDF features and SMOTE-based oversampling.\n",
    "\n",
    "The pipeline includes TF-IDF vectorization, stratified 80/20 train-test splitting, SMOTE-based class balancing (k=1), model training with LinearSVC, evaluation via precision/recall/F1, confusion matrix visualization, and model export using joblib.\n",
    "\n",
    "Although performance is limited due to the small dataset size (35 IS abstracts across 5 subfields), the final configuration successfully reduces class prediction bias and improves class diversity in predictions compared to the earlier Logistic Regression model. The trained model and vectorizer were saved as:\n",
    "\n",
    "- `is_subfield_classifier_svm_smote.pkl`\n",
    "- `is_subfield_vectorizer_smote.pkl`\n",
    "\n",
    "This confirms structural completeness of the IS subfield pipeline. The same approach will now be applied to the IT discipline to complete the subfield classification suite."
   ]
  },
  {
   "cell_type": "code",
   "execution_count": null,
   "id": "1d674d7d",
   "metadata": {},
   "outputs": [],
   "source": []
  }
 ],
 "metadata": {
  "kernelspec": {
   "display_name": "Python 3 (ipykernel)",
   "language": "python",
   "name": "python3"
  },
  "language_info": {
   "codemirror_mode": {
    "name": "ipython",
    "version": 3
   },
   "file_extension": ".py",
   "mimetype": "text/x-python",
   "name": "python",
   "nbconvert_exporter": "python",
   "pygments_lexer": "ipython3",
   "version": "3.9.12"
  }
 },
 "nbformat": 4,
 "nbformat_minor": 5
}
