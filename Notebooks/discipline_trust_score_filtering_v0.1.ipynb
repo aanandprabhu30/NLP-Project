{
 "cells": [
  {
   "cell_type": "markdown",
   "id": "ee408c94-557d-4634-ab28-bcc04b42d84b",
   "metadata": {},
   "source": [
    "# 📘 Trust Score Filtering for High-Quality Discipline Labels\n",
    "\n",
    "---\n",
    "\n",
    "### 🧾 Notebook Description\n",
    "\n",
    "This notebook performs **trust-based label filtering** on the expanded **5,402-paper discipline dataset** using the previously trained `Discipline Classifier v2.2` (SciBERT embeddings + XGBoost).  \n",
    "To recreate the input used during training, we re-generate **768-dimensional embeddings** for each abstract using the `allenai/scibert_scivocab_uncased` model from `sentence-transformers`.\n",
    "\n",
    "Each abstract is then passed through the v2.2 classifier, which outputs:\n",
    "- A predicted discipline label (`CS`, `IS`, or `IT`)\n",
    "- A **trust score**, defined as the maximum predicted probability among the three classes\n",
    "\n",
    "Abstracts with **high-confidence predictions (trust score ≥ 0.8)** are retained to create a cleaner training subset for curriculum-based fine-tuning of `discipline_classifier_scilora_v4.0`.\n",
    "\n",
    "---\n",
    "\n",
    "### 📌 Objectives\n",
    "\n",
    "- ✅ Load the expanded dataset (`Expanded Discipline Dataset.csv`)\n",
    "- ✅ Generate fresh SciBERT embeddings using `sentence-transformers`\n",
    "- ✅ Use the trained XGBoost v2.2 model to predict discipline and trust scores\n",
    "- ✅ Filter examples with `trust_score ≥ 0.8`\n",
    "- ✅ Save:\n",
    "  - `expanded_discipline_with_preds.csv` – full dataset with predictions + trust\n",
    "  - `trusted_discipline_dataset.csv` – clean training subset\n",
    "\n",
    "---\n",
    "\n",
    "### 📂 Output Files\n",
    "\n",
    "- `expanded_discipline_with_preds.csv`  \n",
    "- `trusted_discipline_dataset.csv`\n",
    "\n",
    "---\n",
    "\n",
    "🔒 **Note:** These filters are for generating a **clean training subset only**. Do *not* apply them to evaluation or test sets.\n"
   ]
  },
  {
   "cell_type": "markdown",
   "id": "f4aec30e-f4bd-4a70-8c29-bed7a0d449ad",
   "metadata": {},
   "source": [
    "## 🔁 Step 1–2: Load Model, Embed Title + Abstract, and Predict Discipline Labels\n",
    "\n",
    "In this step, we:\n",
    "- Load the trained `v2.2` XGBoost classifier\n",
    "- Use the official `allenai/scibert_scivocab_uncased` model to embed each abstract (Title + Abstract)\n",
    "- Generate discipline predictions and trust scores\n",
    "\n",
    "We add two new columns to the dataset:\n",
    "- `v2.2_predicted_label`: predicted class (CS, IS, IT)\n",
    "- `v2.2_trust_score`: max class probability (model confidence)"
   ]
  },
  {
   "cell_type": "code",
   "execution_count": 5,
   "id": "99e8605f-ce29-4429-8e57-084a37e2495e",
   "metadata": {},
   "outputs": [
    {
     "name": "stdout",
     "output_type": "stream",
     "text": [
      "✅ Dataset loaded: 5402 abstracts\n"
     ]
    },
    {
     "name": "stderr",
     "output_type": "stream",
     "text": [
      "No sentence-transformers model found with name allenai/scibert_scivocab_uncased. Creating a new one with mean pooling.\n"
     ]
    },
    {
     "data": {
      "application/vnd.jupyter.widget-view+json": {
       "model_id": "460073868c7348139e8faa7e484d3a60",
       "version_major": 2,
       "version_minor": 0
      },
      "text/plain": [
       "Batches:   0%|          | 0/169 [00:00<?, ?it/s]"
      ]
     },
     "metadata": {},
     "output_type": "display_data"
    },
    {
     "data": {
      "text/html": [
       "<div>\n",
       "<style scoped>\n",
       "    .dataframe tbody tr th:only-of-type {\n",
       "        vertical-align: middle;\n",
       "    }\n",
       "\n",
       "    .dataframe tbody tr th {\n",
       "        vertical-align: top;\n",
       "    }\n",
       "\n",
       "    .dataframe thead th {\n",
       "        text-align: right;\n",
       "    }\n",
       "</style>\n",
       "<table border=\"1\" class=\"dataframe\">\n",
       "  <thead>\n",
       "    <tr style=\"text-align: right;\">\n",
       "      <th></th>\n",
       "      <th>Title</th>\n",
       "      <th>v2.2_predicted_label</th>\n",
       "      <th>v2.2_trust_score</th>\n",
       "    </tr>\n",
       "  </thead>\n",
       "  <tbody>\n",
       "    <tr>\n",
       "      <th>0</th>\n",
       "      <td>VITA-Audio: Fast Interleaved Cross-Modal Token...</td>\n",
       "      <td>0</td>\n",
       "      <td>0.998357</td>\n",
       "    </tr>\n",
       "    <tr>\n",
       "      <th>1</th>\n",
       "      <td>AMO: Adaptive Motion Optimization for Hyper-De...</td>\n",
       "      <td>0</td>\n",
       "      <td>0.998920</td>\n",
       "    </tr>\n",
       "    <tr>\n",
       "      <th>2</th>\n",
       "      <td>FlexiAct: Towards Flexible Action Control in H...</td>\n",
       "      <td>0</td>\n",
       "      <td>0.999782</td>\n",
       "    </tr>\n",
       "    <tr>\n",
       "      <th>3</th>\n",
       "      <td>Actor-Critics Can Achieve Optimal Sample Effic...</td>\n",
       "      <td>0</td>\n",
       "      <td>0.999238</td>\n",
       "    </tr>\n",
       "    <tr>\n",
       "      <th>4</th>\n",
       "      <td>Demonstrating ViSafe: Vision-enabled Safety fo...</td>\n",
       "      <td>0</td>\n",
       "      <td>0.998112</td>\n",
       "    </tr>\n",
       "  </tbody>\n",
       "</table>\n",
       "</div>"
      ],
      "text/plain": [
       "                                               Title  v2.2_predicted_label  \\\n",
       "0  VITA-Audio: Fast Interleaved Cross-Modal Token...                     0   \n",
       "1  AMO: Adaptive Motion Optimization for Hyper-De...                     0   \n",
       "2  FlexiAct: Towards Flexible Action Control in H...                     0   \n",
       "3  Actor-Critics Can Achieve Optimal Sample Effic...                     0   \n",
       "4  Demonstrating ViSafe: Vision-enabled Safety fo...                     0   \n",
       "\n",
       "   v2.2_trust_score  \n",
       "0          0.998357  \n",
       "1          0.998920  \n",
       "2          0.999782  \n",
       "3          0.999238  \n",
       "4          0.998112  "
      ]
     },
     "execution_count": 5,
     "metadata": {},
     "output_type": "execute_result"
    }
   ],
   "source": [
    "import os\n",
    "import pandas as pd\n",
    "import numpy as np\n",
    "import joblib\n",
    "from sentence_transformers import SentenceTransformer\n",
    "\n",
    "# Load v2.2 XGBoost classifier\n",
    "model = joblib.load(\"../Artefacts/disc_scibert_xgboost_v2.2.pkl\")\n",
    "\n",
    "# Load expanded 5,402-paper dataset\n",
    "df = pd.read_csv(\"../Data/Expanded Discipline Dataset.csv\")\n",
    "print(f\"✅ Dataset loaded: {df.shape[0]} abstracts\")\n",
    "\n",
    "# Load SciBERT embedding model\n",
    "scibert_model = SentenceTransformer(\"allenai/scibert_scivocab_uncased\")\n",
    "\n",
    "# Concatenate Title + Abstract\n",
    "df[\"text_input\"] = df[\"Title\"].fillna(\"\") + \" \" + df[\"Abstract\"].fillna(\"\")\n",
    "\n",
    "# Generate embeddings\n",
    "X = scibert_model.encode(df[\"text_input\"].tolist(), show_progress_bar=True)\n",
    "\n",
    "# Predict class probabilities using XGBoost\n",
    "probs = model.predict_proba(X)\n",
    "pred_labels = model.classes_[np.argmax(probs, axis=1)]\n",
    "trust_scores = np.max(probs, axis=1)\n",
    "\n",
    "# Add predictions to DataFrame\n",
    "df[\"v2.2_predicted_label\"] = pred_labels\n",
    "df[\"v2.2_trust_score\"] = trust_scores\n",
    "\n",
    "# Preview\n",
    "df[[\"Title\", \"v2.2_predicted_label\", \"v2.2_trust_score\"]].head()"
   ]
  },
  {
   "cell_type": "markdown",
   "id": "f2314e62-02e8-4d15-92b4-79e1c9a25c85",
   "metadata": {},
   "source": [
    "## 💾 Step 3–4: Save Full Predictions and Filter High-Trust Examples\n",
    "\n",
    "We now save:\n",
    "- `expanded_discipline_with_preds.csv` → full dataset with `v2.2_predicted_label` and `v2.2_trust_score`\n",
    "- `trusted_discipline_dataset.csv` → high-trust samples (trust score ≥ 0.8) to be used for v4.0 training"
   ]
  },
  {
   "cell_type": "code",
   "execution_count": 6,
   "id": "7c9314ab-afba-4d28-aaa9-1956ffe153b0",
   "metadata": {},
   "outputs": [
    {
     "name": "stdout",
     "output_type": "stream",
     "text": [
      "✅ Saved: expanded_discipline_with_preds.csv\n",
      "🔍 Trusted samples: 4838 / 5402 (89.56%)\n",
      "✅ Saved: trusted_discipline_dataset.csv\n"
     ]
    }
   ],
   "source": [
    "# Save full dataset with predictions\n",
    "df.to_csv(\"../Data/expanded_discipline_with_preds.csv\", index=False)\n",
    "print(\"✅ Saved: expanded_discipline_with_preds.csv\")\n",
    "\n",
    "# Filter samples with trust ≥ 0.8\n",
    "trusted_df = df[df[\"v2.2_trust_score\"] >= 0.8]\n",
    "print(f\"🔍 Trusted samples: {len(trusted_df)} / {len(df)} ({len(trusted_df)/len(df)*100:.2f}%)\")\n",
    "\n",
    "# Save filtered trusted dataset\n",
    "trusted_df.to_csv(\"../Data/trusted_discipline_dataset.csv\", index=False)\n",
    "print(\"✅ Saved: trusted_discipline_dataset.csv\")\n"
   ]
  },
  {
   "cell_type": "code",
   "execution_count": 7,
   "id": "e717d872-1052-437d-8799-0d9ffb84ac2c",
   "metadata": {},
   "outputs": [
    {
     "name": "stdout",
     "output_type": "stream",
     "text": [
      "✅ Saved: Artefacts/scibert_embeddings_5402_v2.2.npy\n"
     ]
    }
   ],
   "source": [
    "np.save(\"../Artefacts/scibert_embeddings_5402_v2.2.npy\", X)\n",
    "print(\"✅ Saved: Artefacts/scibert_embeddings_5402_v2.2.npy\")"
   ]
  },
  {
   "cell_type": "markdown",
   "id": "efd030db-3078-4690-94b7-35c95bf09504",
   "metadata": {},
   "source": [
    "## 📊 Step 5: Visualize Trust Score Distribution\n",
    "\n",
    "To better understand the confidence profile of the `v2.2` predictions, we plot a histogram of trust scores.  \n",
    "This helps verify whether the 0.8 threshold effectively separates high-confidence predictions."
   ]
  },
  {
   "cell_type": "code",
   "execution_count": 8,
   "id": "55aa5117-3ebd-48b3-b685-d9f3dc703f61",
   "metadata": {},
   "outputs": [
    {
     "data": {
      "image/png": "[encoded data removed]",
      "text/plain": [
       "<Figure size 800x500 with 1 Axes>"
      ]
     },
     "metadata": {},
     "output_type": "display_data"
    }
   ],
   "source": [
    "import matplotlib.pyplot as plt\n",
    "\n",
    "plt.figure(figsize=(8, 5))\n",
    "plt.hist(df[\"v2.2_trust_score\"], bins=30, color='steelblue', edgecolor='black')\n",
    "plt.axvline(0.8, color='red', linestyle='--', label='Threshold = 0.8')\n",
    "plt.title(\"Distribution of Trust Scores (v2.2 Predictions)\")\n",
    "plt.xlabel(\"Trust Score\")\n",
    "plt.ylabel(\"Number of Abstracts\")\n",
    "plt.legend()\n",
    "plt.grid(True)\n",
    "plt.tight_layout()\n",
    "plt.show()"
   ]
  },
  {
   "cell_type": "code",
   "execution_count": null,
   "id": "00cb7f1a-b116-47e8-bb7b-c688c90f85c3",
   "metadata": {},
   "outputs": [],
   "source": []
  }
 ],
 "metadata": {
  "kernelspec": {
   "display_name": "Python 3 (nlp-bert)",
   "language": "python",
   "name": "nlp-bert"
  },
  "language_info": {
   "codemirror_mode": {
    "name": "ipython",
    "version": 3
   },
   "file_extension": ".py",
   "mimetype": "text/x-python",
   "name": "python",
   "nbconvert_exporter": "python",
   "pygments_lexer": "ipython3",
   "version": "3.10.16"
  }
 },
 "nbformat": 4,
 "nbformat_minor": 5
}
