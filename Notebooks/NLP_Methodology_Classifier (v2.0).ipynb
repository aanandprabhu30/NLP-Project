{
 "cells": [
  {
   "cell_type": "markdown",
   "id": "6fd77853",
   "metadata": {},
   "source": [
    "# Methodology Classifier v2 – Using Title + Abstract\n",
    "\n",
    "This notebook builds and evaluates a machine learning model to classify computing research papers by **research methodology** (Quantitative, Qualitative, or Mixed).\n",
    "\n",
    "Unlike the previous version, this model uses both the **Title and Abstract** as input text features. We aim to evaluate whether adding title information improves classification accuracy.\n",
    "\n",
    "### 📁 Dataset\n",
    "- **Source**: `NLP_Dataset_Title_Abstract_Discipline_Subfield_Methodology.csv`\n",
    "- **Records**: 105 papers\n",
    "- **Fields used**: Title + Abstract → Methodology\n",
    "\n",
    "### ⚙️ Model Pipeline\n",
    "- Text preprocessing using **TF-IDF bigrams**\n",
    "- Resampling using **SMOTE** to balance classes\n",
    "- Classification using **Support Vector Machine (SVM)**\n",
    "\n",
    "### 📌 Objective\n",
    "To determine whether the inclusion of paper titles enhances the model’s ability to predict the research methodology from short-text academic content."
   ]
  },
  {
   "cell_type": "code",
   "execution_count": 1,
   "id": "112cc5b3",
   "metadata": {},
   "outputs": [],
   "source": [
    "# Basic Data Handling\n",
    "import pandas as pd\n",
    "import numpy as np\n",
    "\n",
    "# Feature Engineering and Modeling\n",
    "from sklearn.model_selection import train_test_split\n",
    "from sklearn.feature_extraction.text import TfidfVectorizer\n",
    "from sklearn.svm import LinearSVC\n",
    "from imblearn.over_sampling import SMOTE\n",
    "from sklearn.metrics import classification_report, confusion_matrix\n",
    "\n",
    "# Visualization\n",
    "import matplotlib.pyplot as plt\n",
    "import seaborn as sns\n",
    "\n",
    "# Settings\n",
    "sns.set(style=\"whitegrid\")"
   ]
  },
  {
   "cell_type": "markdown",
   "id": "1f2cb602",
   "metadata": {},
   "source": [
    "## 🧾 Dataset Overview\n",
    "\n",
    "This dataset contains 105 labeled research papers, each with:\n",
    "- Title\n",
    "- Abstract\n",
    "- Methodology (target)\n",
    "\n",
    "The classifier will use the combined Title + Abstract text to predict the research methodology."
   ]
  },
  {
   "cell_type": "code",
   "execution_count": 2,
   "id": "fa46149a",
   "metadata": {},
   "outputs": [
    {
     "name": "stdout",
     "output_type": "stream",
     "text": [
      "Shape: (105, 6)\n"
     ]
    },
    {
     "data": {
      "text/html": [
       "<div>\n",
       "<style scoped>\n",
       "    .dataframe tbody tr th:only-of-type {\n",
       "        vertical-align: middle;\n",
       "    }\n",
       "\n",
       "    .dataframe tbody tr th {\n",
       "        vertical-align: top;\n",
       "    }\n",
       "\n",
       "    .dataframe thead th {\n",
       "        text-align: right;\n",
       "    }\n",
       "</style>\n",
       "<table border=\"1\" class=\"dataframe\">\n",
       "  <thead>\n",
       "    <tr style=\"text-align: right;\">\n",
       "      <th></th>\n",
       "      <th>ID</th>\n",
       "      <th>Title</th>\n",
       "      <th>Abstract</th>\n",
       "      <th>Discipline</th>\n",
       "      <th>Subfield</th>\n",
       "      <th>Methodology</th>\n",
       "    </tr>\n",
       "  </thead>\n",
       "  <tbody>\n",
       "    <tr>\n",
       "      <th>0</th>\n",
       "      <td>1</td>\n",
       "      <td>A survey on large language model (LLM) securit...</td>\n",
       "      <td>Large Language Models (LLMs), such as ChatGPT ...</td>\n",
       "      <td>CS</td>\n",
       "      <td>CYB</td>\n",
       "      <td>Qualitative</td>\n",
       "    </tr>\n",
       "    <tr>\n",
       "      <th>1</th>\n",
       "      <td>2</td>\n",
       "      <td>Detect Anything 3D in the Wild</td>\n",
       "      <td>Despite the success of deep learning in close-...</td>\n",
       "      <td>CS</td>\n",
       "      <td>CV</td>\n",
       "      <td>Quantitative</td>\n",
       "    </tr>\n",
       "    <tr>\n",
       "      <th>2</th>\n",
       "      <td>3</td>\n",
       "      <td>Survey of clustering algorithms</td>\n",
       "      <td>Data analysis plays an indispensable role for ...</td>\n",
       "      <td>CS</td>\n",
       "      <td>ML</td>\n",
       "      <td>Qualitative</td>\n",
       "    </tr>\n",
       "  </tbody>\n",
       "</table>\n",
       "</div>"
      ],
      "text/plain": [
       "   ID                                              Title  \\\n",
       "0   1  A survey on large language model (LLM) securit...   \n",
       "1   2                     Detect Anything 3D in the Wild   \n",
       "2   3                    Survey of clustering algorithms   \n",
       "\n",
       "                                            Abstract Discipline Subfield  \\\n",
       "0  Large Language Models (LLMs), such as ChatGPT ...         CS      CYB   \n",
       "1  Despite the success of deep learning in close-...         CS       CV   \n",
       "2  Data analysis plays an indispensable role for ...         CS       ML   \n",
       "\n",
       "    Methodology  \n",
       "0   Qualitative  \n",
       "1  Quantitative  \n",
       "2   Qualitative  "
      ]
     },
     "execution_count": 2,
     "metadata": {},
     "output_type": "execute_result"
    }
   ],
   "source": [
    "# Load enriched dataset (Title + Abstract + Methodology)\n",
    "file_path = \"Data/NLP_Dataset_Title_Abstract_Discipline_Subfield_Methodology.csv\"\n",
    "df = pd.read_csv(file_path)\n",
    "\n",
    "# Confirm structure\n",
    "print(\"Shape:\", df.shape)\n",
    "df.head(3)"
   ]
  },
  {
   "cell_type": "markdown",
   "id": "3a4af1e0",
   "metadata": {},
   "source": [
    "## 🔄 Input and Target Definition\n",
    "\n",
    "We concatenate the Title and Abstract columns to form the input text.  \n",
    "The classification target is the **Methodology** column, which includes categories like:\n",
    "- Quantitative\n",
    "- Qualitative\n",
    "- Mixed\n",
    "\n",
    "This prepares our dataset for feature extraction."
   ]
  },
  {
   "cell_type": "code",
   "execution_count": 3,
   "id": "90dae5ee",
   "metadata": {},
   "outputs": [
    {
     "name": "stdout",
     "output_type": "stream",
     "text": [
      "X sample: A survey on large language model (LLM) security and privacy:The Good, The Bad, and The Ugly Large Language Models (LLMs), such as ChatGPT and Bard, ha\n",
      "y sample: Qualitative\n"
     ]
    }
   ],
   "source": [
    "# Combine Title and Abstract as input\n",
    "df[\"text\"] = df[\"Title\"].fillna(\"\") + \" \" + df[\"Abstract\"].fillna(\"\")\n",
    "\n",
    "# Define features and labels\n",
    "X = df[\"text\"]\n",
    "y = df[\"Methodology\"]\n",
    "\n",
    "# Quick check\n",
    "print(\"X sample:\", X.iloc[0][:150])\n",
    "print(\"y sample:\", y.iloc[0])"
   ]
  },
  {
   "cell_type": "markdown",
   "id": "3436e484",
   "metadata": {},
   "source": [
    "## ✳️ Feature Extraction with TF-IDF (Bigrams)\n",
    "\n",
    "We convert the combined Title + Abstract text into numerical features using **TF-IDF vectorization**.  \n",
    "To capture context and phrasing, we use **bigrams** (2-word combinations), and remove English stop words.  \n",
    "This approach helps the model identify patterns like \"case study\", \"data analysis\", etc., which are often linked to specific methodologies."
   ]
  },
  {
   "cell_type": "code",
   "execution_count": 4,
   "id": "963270f7",
   "metadata": {},
   "outputs": [
    {
     "name": "stdout",
     "output_type": "stream",
     "text": [
      "TF-IDF matrix shape: (105, 1848)\n"
     ]
    }
   ],
   "source": [
    "from sklearn.feature_extraction.text import TfidfVectorizer\n",
    "\n",
    "# Initialize bigram TF-IDF vectorizer\n",
    "vectorizer = TfidfVectorizer(ngram_range=(1,2), stop_words='english', min_df=2, max_df=0.95)\n",
    "\n",
    "# Fit and transform\n",
    "X_tfidf = vectorizer.fit_transform(X)\n",
    "\n",
    "print(\"TF-IDF matrix shape:\", X_tfidf.shape)"
   ]
  },
  {
   "cell_type": "markdown",
   "id": "4cdd4365",
   "metadata": {},
   "source": [
    "## 🔀 Train-Test Split and Label Distribution\n",
    "\n",
    "We split the dataset into training and testing sets using an 80/20 stratified split to ensure all methodology categories are proportionally represented.  \n",
    "We'll also check the label distribution in both sets to confirm balance."
   ]
  },
  {
   "cell_type": "code",
   "execution_count": 5,
   "id": "c7338411",
   "metadata": {},
   "outputs": [
    {
     "name": "stdout",
     "output_type": "stream",
     "text": [
      "Training set distribution:\n",
      " Qualitative     0.464286\n",
      "Quantitative    0.440476\n",
      "Mixed           0.095238\n",
      "Name: Methodology, dtype: float64\n",
      "\n",
      "Test set distribution:\n",
      " Qualitative     0.476190\n",
      "Quantitative    0.428571\n",
      "Mixed           0.095238\n",
      "Name: Methodology, dtype: float64\n"
     ]
    }
   ],
   "source": [
    "from sklearn.model_selection import train_test_split\n",
    "\n",
    "# Split with stratification\n",
    "X_train, X_test, y_train, y_test = train_test_split(\n",
    "    X_tfidf, y, test_size=0.2, stratify=y, random_state=42\n",
    ")\n",
    "\n",
    "# Check distribution\n",
    "print(\"Training set distribution:\\n\", y_train.value_counts(normalize=True))\n",
    "print(\"\\nTest set distribution:\\n\", y_test.value_counts(normalize=True))"
   ]
  },
  {
   "cell_type": "markdown",
   "id": "12292bcd",
   "metadata": {},
   "source": [
    "## 🧪 Train SVM Classifier\n",
    "\n",
    "We train a Linear Support Vector Machine (SVM) classifier using the TF-IDF features of the combined Title and Abstract text.  \n",
    "This model is chosen for its strong performance on small text classification tasks."
   ]
  },
  {
   "cell_type": "code",
   "execution_count": 6,
   "id": "acfd7009",
   "metadata": {},
   "outputs": [
    {
     "data": {
      "text/plain": [
       "LinearSVC()"
      ]
     },
     "execution_count": 6,
     "metadata": {},
     "output_type": "execute_result"
    }
   ],
   "source": [
    "from sklearn.svm import LinearSVC\n",
    "\n",
    "# Train SVM model\n",
    "svm_model = LinearSVC(max_iter=1000)\n",
    "svm_model.fit(X_train, y_train)"
   ]
  },
  {
   "cell_type": "markdown",
   "id": "2993a1f0",
   "metadata": {},
   "source": [
    "## 📊 Model Evaluation\n",
    "\n",
    "We now evaluate the SVM classifier on the test set using accuracy, F1-scores, and a confusion matrix to understand  \n",
    "how well the model distinguishes between research methodology types."
   ]
  },
  {
   "cell_type": "code",
   "execution_count": 7,
   "id": "be70f6ff",
   "metadata": {},
   "outputs": [
    {
     "name": "stdout",
     "output_type": "stream",
     "text": [
      "Classification Report:\n",
      "\n",
      "              precision    recall  f1-score   support\n",
      "\n",
      "       Mixed       0.00      0.00      0.00         2\n",
      " Qualitative       0.69      0.90      0.78        10\n",
      "Quantitative       0.75      0.67      0.71         9\n",
      "\n",
      "    accuracy                           0.71        21\n",
      "   macro avg       0.48      0.52      0.50        21\n",
      "weighted avg       0.65      0.71      0.68        21\n",
      "\n"
     ]
    },
    {
     "name": "stderr",
     "output_type": "stream",
     "text": [
      "/Users/aanandprabhu/opt/anaconda3/lib/python3.9/site-packages/sklearn/metrics/_classification.py:1318: UndefinedMetricWarning: Precision and F-score are ill-defined and being set to 0.0 in labels with no predicted samples. Use `zero_division` parameter to control this behavior.\n",
      "  _warn_prf(average, modifier, msg_start, len(result))\n",
      "/Users/aanandprabhu/opt/anaconda3/lib/python3.9/site-packages/sklearn/metrics/_classification.py:1318: UndefinedMetricWarning: Precision and F-score are ill-defined and being set to 0.0 in labels with no predicted samples. Use `zero_division` parameter to control this behavior.\n",
      "  _warn_prf(average, modifier, msg_start, len(result))\n",
      "/Users/aanandprabhu/opt/anaconda3/lib/python3.9/site-packages/sklearn/metrics/_classification.py:1318: UndefinedMetricWarning: Precision and F-score are ill-defined and being set to 0.0 in labels with no predicted samples. Use `zero_division` parameter to control this behavior.\n",
      "  _warn_prf(average, modifier, msg_start, len(result))\n"
     ]
    },
    {
     "data": {
      "text/plain": [
       "<sklearn.metrics._plot.confusion_matrix.ConfusionMatrixDisplay at 0x7fe2a4423a30>"
      ]
     },
     "execution_count": 7,
     "metadata": {},
     "output_type": "execute_result"
    },
    {
     "data": {
      "image/png": "[encoded data removed]",
      "text/plain": [
       "<Figure size 432x288 with 2 Axes>"
      ]
     },
     "metadata": {},
     "output_type": "display_data"
    }
   ],
   "source": [
    "from sklearn.metrics import classification_report, confusion_matrix, ConfusionMatrixDisplay\n",
    "\n",
    "# Predict on test set\n",
    "y_pred = svm_model.predict(X_test)\n",
    "\n",
    "# Classification report\n",
    "print(\"Classification Report:\\n\")\n",
    "print(classification_report(y_test, y_pred))\n",
    "\n",
    "# Confusion matrix\n",
    "cm = confusion_matrix(y_test, y_pred, labels=svm_model.classes_)\n",
    "disp = ConfusionMatrixDisplay(confusion_matrix=cm, display_labels=svm_model.classes_)\n",
    "disp.plot(cmap='Blues')"
   ]
  },
  {
   "cell_type": "code",
   "execution_count": 8,
   "id": "648f9022",
   "metadata": {},
   "outputs": [
    {
     "data": {
      "image/png": "[encoded data removed]",
      "text/plain": [
       "<Figure size 432x288 with 2 Axes>"
      ]
     },
     "metadata": {},
     "output_type": "display_data"
    }
   ],
   "source": [
    "plt.figure(figsize=(6, 4))\n",
    "sns.heatmap(cm, annot=True, fmt='d', cmap='Blues',\n",
    "            xticklabels=[\"Mixed\", \"Qualitative\", \"Quantitative\"],\n",
    "            yticklabels=[\"Mixed\", \"Qualitative\", \"Quantitative\"])\n",
    "plt.title(\"Confusion Matrix – Methodology Classifier (Title + Abstract)\")\n",
    "plt.xlabel(\"Predicted Label\")\n",
    "plt.ylabel(\"True Label\")\n",
    "plt.tight_layout()\n",
    "plt.savefig(\"Artefacts/methodology_confusion_matrix_v2.png\", dpi=300)\n",
    "plt.show()"
   ]
  },
  {
   "cell_type": "code",
   "execution_count": 9,
   "id": "578cdf5e",
   "metadata": {},
   "outputs": [
    {
     "data": {
      "text/plain": [
       "['Artefacts/tfidf_vectorizer_methodology_v2_titleabstract.pkl']"
      ]
     },
     "execution_count": 9,
     "metadata": {},
     "output_type": "execute_result"
    }
   ],
   "source": [
    "import joblib\n",
    "\n",
    "# Save the trained model\n",
    "joblib.dump(svm_model, \"Artefacts/methodology_classifier_v2_titleabstract.pkl\")\n",
    "\n",
    "# Save the corresponding TF-IDF vectorizer\n",
    "joblib.dump(vectorizer, \"Artefacts/tfidf_vectorizer_methodology_v2_titleabstract.pkl\")"
   ]
  },
  {
   "cell_type": "markdown",
   "id": "4205a22b",
   "metadata": {},
   "source": [
    "### 📝 Final Evaluation Summary (v2 – Title + Abstract)\n",
    "\n",
    "This version of the Methodology Classifier uses both the **Title** and **Abstract** fields as input features, applying a TF-IDF + LinearSVC model to predict one of three research methodologies:\n",
    "\n",
    "- **Qualitative**\n",
    "- **Quantitative**\n",
    "- **Mixed**\n",
    "\n",
    "#### 🔢 Performance Overview:\n",
    "- **Accuracy:** 71%\n",
    "- **Weighted F1-score:** 0.68\n",
    "- **Macro F1-score:** 0.50\n",
    "\n",
    "#### 📌 Class-wise Metrics:\n",
    "| Methodology | Precision | Recall | F1-score | Support |\n",
    "|-------------|-----------|--------|----------|---------|\n",
    "| Mixed       | 0.00      | 0.00   | 0.00     | 2       |\n",
    "| Qualitative | 0.69      | 0.90   | 0.78     | 10      |\n",
    "| Quantitative| 0.75      | 0.67   | 0.71     | 9       |\n",
    "\n",
    "#### 🧠 Interpretation:\n",
    "- The model performs **strongly for Qualitative and Quantitative** papers.\n",
    "- The **Mixed** methodology remains underrepresented and poorly classified due to limited training examples.\n",
    "- Compared to v1.2 (Abstract only), this version shows a slight **increase in accuracy and F1-score**, suggesting that **titles do contribute additional signal**, especially for identifying **Qualitative** research.\n",
    "\n",
    "> 🔖 Saved confusion matrix: `Artefacts/methodology_confusion_matrix_v2.png`  \n",
    "> 💾 Model and vectorizer are stored in `Artefacts/` as `.pkl` files."
   ]
  },
  {
   "cell_type": "code",
   "execution_count": null,
   "id": "ab7eff5e",
   "metadata": {},
   "outputs": [],
   "source": []
  }
 ],
 "metadata": {
  "kernelspec": {
   "display_name": "Python 3 (ipykernel)",
   "language": "python",
   "name": "python3"
  },
  "language_info": {
   "codemirror_mode": {
    "name": "ipython",
    "version": 3
   },
   "file_extension": ".py",
   "mimetype": "text/x-python",
   "name": "python",
   "nbconvert_exporter": "python",
   "pygments_lexer": "ipython3",
   "version": "3.9.12"
  }
 },
 "nbformat": 4,
 "nbformat_minor": 5
}
