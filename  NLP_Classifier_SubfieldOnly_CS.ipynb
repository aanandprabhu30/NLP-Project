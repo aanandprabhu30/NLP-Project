{
 "cells": [
  {
   "cell_type": "markdown",
   "id": "1fb0a985",
   "metadata": {},
   "source": [
    "# 🧠 Subfield Classifier – Computer Science (CS)\n",
    "\n",
    "This notebook sets up subfield classification for **CS abstracts** using the full 105-abstract dataset. "
   ]
  },
  {
   "cell_type": "code",
   "execution_count": 1,
   "id": "c33a8dc6",
   "metadata": {},
   "outputs": [
    {
     "data": {
      "text/html": [
       "<div>\n",
       "<style scoped>\n",
       "    .dataframe tbody tr th:only-of-type {\n",
       "        vertical-align: middle;\n",
       "    }\n",
       "\n",
       "    .dataframe tbody tr th {\n",
       "        vertical-align: top;\n",
       "    }\n",
       "\n",
       "    .dataframe thead th {\n",
       "        text-align: right;\n",
       "    }\n",
       "</style>\n",
       "<table border=\"1\" class=\"dataframe\">\n",
       "  <thead>\n",
       "    <tr style=\"text-align: right;\">\n",
       "      <th></th>\n",
       "      <th>ID</th>\n",
       "      <th>Discipline</th>\n",
       "      <th>Subfield</th>\n",
       "      <th>Abstract</th>\n",
       "    </tr>\n",
       "  </thead>\n",
       "  <tbody>\n",
       "    <tr>\n",
       "      <th>0</th>\n",
       "      <td>1</td>\n",
       "      <td>CS</td>\n",
       "      <td>CYB</td>\n",
       "      <td>Large Language Models (LLMs), such as ChatGPT ...</td>\n",
       "    </tr>\n",
       "    <tr>\n",
       "      <th>1</th>\n",
       "      <td>2</td>\n",
       "      <td>CS</td>\n",
       "      <td>CV</td>\n",
       "      <td>Despite the success of deep learning in close-...</td>\n",
       "    </tr>\n",
       "    <tr>\n",
       "      <th>2</th>\n",
       "      <td>3</td>\n",
       "      <td>CS</td>\n",
       "      <td>ML</td>\n",
       "      <td>Data analysis plays an indispensable role for ...</td>\n",
       "    </tr>\n",
       "    <tr>\n",
       "      <th>3</th>\n",
       "      <td>4</td>\n",
       "      <td>CS</td>\n",
       "      <td>CV</td>\n",
       "      <td>We present a method to analyze daily activitie...</td>\n",
       "    </tr>\n",
       "    <tr>\n",
       "      <th>4</th>\n",
       "      <td>5</td>\n",
       "      <td>CS</td>\n",
       "      <td>CYB</td>\n",
       "      <td>Elliptic curve cryptosystems are considered an...</td>\n",
       "    </tr>\n",
       "  </tbody>\n",
       "</table>\n",
       "</div>"
      ],
      "text/plain": [
       "   ID Discipline Subfield                                           Abstract\n",
       "0   1         CS      CYB  Large Language Models (LLMs), such as ChatGPT ...\n",
       "1   2         CS       CV  Despite the success of deep learning in close-...\n",
       "2   3         CS       ML  Data analysis plays an indispensable role for ...\n",
       "3   4         CS       CV  We present a method to analyze daily activitie...\n",
       "4   5         CS      CYB  Elliptic curve cryptosystems are considered an..."
      ]
     },
     "execution_count": 1,
     "metadata": {},
     "output_type": "execute_result"
    }
   ],
   "source": [
    "import pandas as pd\n",
    "\n",
    "# Load the full dataset with subfield labels\n",
    "df = pd.read_csv(\"NLP_Abstract_Dataset (Subfield)(105).csv\")\n",
    "\n",
    "# Filter only Computer Science records\n",
    "cs_df = df[df[\"Discipline\"] == \"CS\"].copy()\n",
    "\n",
    "# Preview first few CS records\n",
    "cs_df.head()"
   ]
  },
  {
   "cell_type": "code",
   "execution_count": 2,
   "id": "98c36959",
   "metadata": {},
   "outputs": [
    {
     "name": "stdout",
     "output_type": "stream",
     "text": [
      "TF-IDF matrix shape: (35, 1648)\n",
      "Subfields encoded as: ['AI', 'CV', 'CYB', 'ML', 'PAST']\n"
     ]
    }
   ],
   "source": [
    "from sklearn.feature_extraction.text import TfidfVectorizer\n",
    "from sklearn.preprocessing import LabelEncoder\n",
    "\n",
    "# Extract features (X) and target labels (y)\n",
    "X = cs_df['Abstract']\n",
    "y = cs_df['Subfield']\n",
    "\n",
    "# Convert abstract text into TF-IDF features\n",
    "vectorizer = TfidfVectorizer(stop_words='english', max_features=5000)\n",
    "X_tfidf = vectorizer.fit_transform(X)\n",
    "\n",
    "# Encode subfield labels into numbers\n",
    "label_encoder = LabelEncoder()\n",
    "y_encoded = label_encoder.fit_transform(y)\n",
    "\n",
    "# Confirm shapes and labels\n",
    "print(\"TF-IDF matrix shape:\", X_tfidf.shape)\n",
    "print(\"Subfields encoded as:\", list(label_encoder.classes_))"
   ]
  },
  {
   "cell_type": "code",
   "execution_count": 8,
   "id": "9eedf741",
   "metadata": {},
   "outputs": [
    {
     "name": "stdout",
     "output_type": "stream",
     "text": [
      "Classification Report:\n",
      "               precision    recall  f1-score   support\n",
      "\n",
      "          AI       0.00      0.00      0.00         3\n",
      "          CV       0.00      0.00      0.00         2\n",
      "         CYB       0.20      1.00      0.33         2\n",
      "          ML       0.00      0.00      0.00         2\n",
      "        PAST       0.00      0.00      0.00         2\n",
      "\n",
      "    accuracy                           0.18        11\n",
      "   macro avg       0.04      0.20      0.07        11\n",
      "weighted avg       0.04      0.18      0.06        11\n",
      "\n",
      "Confusion Matrix:\n",
      " [[0 0 3 0 0]\n",
      " [0 0 2 0 0]\n",
      " [0 0 2 0 0]\n",
      " [1 0 1 0 0]\n",
      " [0 0 2 0 0]]\n"
     ]
    }
   ],
   "source": [
    "from sklearn.linear_model import LogisticRegression\n",
    "from sklearn.model_selection import train_test_split\n",
    "from sklearn.metrics import classification_report, confusion_matrix\n",
    "\n",
    "# Split data into training and testing sets (80% train, 20% test)\n",
    "X_train, X_test, y_train, y_test = train_test_split(X_tfidf, y_encoded, test_size=0.3, random_state=42, stratify=y_encoded\n",
    ")\n",
    "\n",
    "# Initialize and train logistic regression model\n",
    "logreg_model = LogisticRegression(max_iter=1000)\n",
    "logreg_model.fit(X_train, y_train)\n",
    "\n",
    "# Predict on test set\n",
    "y_pred = logreg_model.predict(X_test)\n",
    "\n",
    "# Evaluation\n",
    "print(\"Classification Report:\\n\", classification_report(y_test, y_pred, target_names=label_encoder.classes_, zero_division=0))\n",
    "print(\"Confusion Matrix:\\n\", confusion_matrix(y_test, y_pred))"
   ]
  },
  {
   "cell_type": "code",
   "execution_count": 9,
   "id": "88957aa7",
   "metadata": {},
   "outputs": [
    {
     "data": {
      "text/plain": [
       "['tfidf_vectorizer_cs.pkl']"
      ]
     },
     "execution_count": 9,
     "metadata": {},
     "output_type": "execute_result"
    }
   ],
   "source": [
    "import joblib\n",
    "\n",
    "# Save model and vectorizer\n",
    "joblib.dump(logreg_model, \"subfield_classifier_logreg_cs.pkl\")\n",
    "joblib.dump(vectorizer, \"tfidf_vectorizer_cs.pkl\")"
   ]
  },
  {
   "cell_type": "code",
   "execution_count": null,
   "id": "fcb71183",
   "metadata": {},
   "outputs": [],
   "source": []
  }
 ],
 "metadata": {
  "kernelspec": {
   "display_name": "Python 3 (ipykernel)",
   "language": "python",
   "name": "python3"
  },
  "language_info": {
   "codemirror_mode": {
    "name": "ipython",
    "version": 3
   },
   "file_extension": ".py",
   "mimetype": "text/x-python",
   "name": "python",
   "nbconvert_exporter": "python",
   "pygments_lexer": "ipython3",
   "version": "3.9.12"
  }
 },
 "nbformat": 4,
 "nbformat_minor": 5
}
