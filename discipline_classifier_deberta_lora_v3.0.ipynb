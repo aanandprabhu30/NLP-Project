{
 "cells": [
  {
   "cell_type": "markdown",
   "id": "2f9bcc47-c42a-446f-bcdc-9f0a4ed209c5",
   "metadata": {},
   "source": [
    "# 📘 Discipline Classifier v3.0 – DeBERTa + LoRA\n",
    "\n",
    "This notebook fine-tunes `microsoft/deberta-v3-base` using Low-Rank Adaptation (LoRA) for the task of classifying research abstracts into Computer Science (CS), Information Systems (IS), or Information Technology (IT).\n",
    "\n",
    "We use:\n",
    "- Hugging Face 🤗 Transformers\n",
    "- PEFT for LoRA\n",
    "- Stratified train/test split on 1138 manually labeled abstracts\n"
   ]
  },
  {
   "cell_type": "markdown",
   "id": "60ab959a-fd77-4af7-947a-050fdd50b259",
   "metadata": {},
   "source": [
    "## Step 1: Imports and Setup\n",
    "\n",
    "We import all required libraries for model loading, training, and evaluation.\n"
   ]
  },
  {
   "cell_type": "code",
   "execution_count": 1,
   "id": "23880c6a-66f4-4c62-a927-cd3ab934a801",
   "metadata": {},
   "outputs": [],
   "source": [
    "import torch\n",
    "import numpy as np\n",
    "import pandas as pd\n",
    "from datasets import Dataset\n",
    "from transformers import (\n",
    "    AutoTokenizer,\n",
    "    AutoModelForSequenceClassification,\n",
    "    TrainingArguments,\n",
    "    Trainer\n",
    ")\n",
    "from peft import get_peft_model, LoraConfig, TaskType\n",
    "from sklearn.model_selection import train_test_split\n",
    "from sklearn.metrics import classification_report\n"
   ]
  },
  {
   "cell_type": "markdown",
   "id": "1c02bf72-366a-4472-b2b0-01659becbfd7",
   "metadata": {},
   "source": [
    "## Step 2: Load and Prepare Dataset\n",
    "\n",
    "We use the manually labelled dataset of 1138 abstracts with `Discipline` labels.\n",
    "Labels are: \n",
    "- CS → 0\n",
    "- IS → 1\n",
    "- IT → 2\n"
   ]
  },
  {
   "cell_type": "code",
   "execution_count": 2,
   "id": "26b3a5e1-942b-4ce1-a617-46a2d9a5d201",
   "metadata": {},
   "outputs": [],
   "source": [
    "# Replace with your actual file path if reading from CSV\n",
    "df = pd.read_csv(\"Data/Discipline (1138).csv\")\n",
    "\n",
    "# Combine Title and Abstract\n",
    "df[\"text\"] = df[\"Title\"].fillna(\"\") + \". \" + df[\"Abstract\"].fillna(\"\")\n",
    "\n",
    "# Label encoding\n",
    "label2id = {\"CS\": 0, \"IS\": 1, \"IT\": 2}\n",
    "id2label = {v: k for k, v in label2id.items()}\n",
    "df[\"label\"] = df[\"Discipline\"].map(label2id)\n",
    "\n",
    "# Train-test split\n",
    "train_df, test_df = train_test_split(df, test_size=0.2, stratify=df[\"label\"], random_state=42)\n",
    "train_ds = Dataset.from_pandas(train_df[[\"text\", \"label\"]])\n",
    "test_ds = Dataset.from_pandas(test_df[[\"text\", \"label\"]])\n"
   ]
  },
  {
   "cell_type": "markdown",
   "id": "8a47fb36-4d0b-49cf-8cc0-4f155b2d10fe",
   "metadata": {},
   "source": [
    "## Step 3: Tokenize with DeBERTa Tokenizer\n",
    "\n",
    "We use the `microsoft/deberta-v3-base` tokenizer to convert text into token IDs. Texts are padded/truncated to 256 tokens max.\n"
   ]
  },
  {
   "cell_type": "code",
   "execution_count": 8,
   "id": "330ab3db-eb70-4198-8d10-b82158cf9fc7",
   "metadata": {},
   "outputs": [
    {
     "data": {
      "application/vnd.jupyter.widget-view+json": {
       "model_id": "145fe4420f80452ea29afc4c010a1921",
       "version_major": 2,
       "version_minor": 0
      },
      "text/plain": [
       "Map:   0%|          | 0/910 [00:00<?, ? examples/s]"
      ]
     },
     "metadata": {},
     "output_type": "display_data"
    },
    {
     "data": {
      "application/vnd.jupyter.widget-view+json": {
       "model_id": "9f384c3625144933b0a74997de71edf6",
       "version_major": 2,
       "version_minor": 0
      },
      "text/plain": [
       "Map:   0%|          | 0/228 [00:00<?, ? examples/s]"
      ]
     },
     "metadata": {},
     "output_type": "display_data"
    }
   ],
   "source": [
    "model_name = \"microsoft/deberta-base\"\n",
    "tokenizer = AutoTokenizer.from_pretrained(model_name, use_fast=True)\n",
    "\n",
    "def tokenize_function(example):\n",
    "    return tokenizer(example[\"text\"], truncation=True, padding=\"max_length\", max_length=256)\n",
    "\n",
    "train_ds = train_ds.map(tokenize_function, batched=True)\n",
    "test_ds = test_ds.map(tokenize_function, batched=True)\n",
    "\n",
    "train_ds.set_format(type=\"torch\", columns=[\"input_ids\", \"attention_mask\", \"label\"])\n",
    "test_ds.set_format(type=\"torch\", columns=[\"input_ids\", \"attention_mask\", \"label\"])\n"
   ]
  },
  {
   "cell_type": "markdown",
   "id": "0d461631-48c7-443a-9f99-95ba091f8adb",
   "metadata": {},
   "source": [
    "## Step 4: Load DeBERTa and Apply LoRA\n",
    "\n",
    "We load the `microsoft/deberta-base` model and apply Low-Rank Adaptation (LoRA) to fine-tune it efficiently on our classification task. Only a small subset of the model’s weights will be updated.\n"
   ]
  },
  {
   "cell_type": "code",
   "execution_count": 9,
   "id": "00c8dcb4-d56d-4c0e-94d8-dfd9d1afbb81",
   "metadata": {},
   "outputs": [
    {
     "name": "stderr",
     "output_type": "stream",
     "text": [
      "Some weights of DebertaForSequenceClassification were not initialized from the model checkpoint at microsoft/deberta-base and are newly initialized: ['classifier.bias', 'classifier.weight', 'pooler.dense.bias', 'pooler.dense.weight']\n",
      "You should probably TRAIN this model on a down-stream task to be able to use it for predictions and inference.\n"
     ]
    },
    {
     "name": "stdout",
     "output_type": "stream",
     "text": [
      "'NoneType' object has no attribute 'cadam32bit_grad_fp32'\n",
      "trainable params: 297,219 || all params: 139,491,846 || trainable%: 0.2131\n"
     ]
    },
    {
     "name": "stderr",
     "output_type": "stream",
     "text": [
      "/opt/anaconda3/envs/nlp-bert/lib/python3.10/site-packages/bitsandbytes/cextension.py:34: UserWarning: The installed version of bitsandbytes was compiled without GPU support. 8-bit optimizers, 8-bit multiplication, and GPU quantization are unavailable.\n",
      "  warn(\"The installed version of bitsandbytes was compiled without GPU support. \"\n"
     ]
    }
   ],
   "source": [
    "from transformers import AutoModelForSequenceClassification\n",
    "from peft import LoraConfig, get_peft_model, TaskType\n",
    "\n",
    "# Re-initialize base model here\n",
    "base_model = AutoModelForSequenceClassification.from_pretrained(model_name, num_labels=3)\n",
    "\n",
    "# Configure LoRA\n",
    "peft_config = LoraConfig(\n",
    "    task_type=TaskType.SEQ_CLS,\n",
    "    r=8,\n",
    "    lora_alpha=32,\n",
    "    lora_dropout=0.1,\n",
    "    bias=\"none\",\n",
    "    target_modules=[\"in_proj\"]\n",
    ")\n",
    "\n",
    "# Inject LoRA adapters\n",
    "model = get_peft_model(base_model, peft_config)\n",
    "model.print_trainable_parameters()"
   ]
  },
  {
   "cell_type": "markdown",
   "id": "18cb10ed-0760-4d32-884b-0c83e1b9dbfa",
   "metadata": {},
   "source": [
    "## Step 5: Train the Model (Simplified Version)\n",
    "\n",
    "This version skips intermediate evaluation and just fine-tunes the model for 5 epochs. We'll evaluate separately after training.\n"
   ]
  },
  {
   "cell_type": "code",
   "execution_count": 10,
   "id": "cfc291c9-d179-47c8-a689-54774b89bad0",
   "metadata": {},
   "outputs": [
    {
     "name": "stderr",
     "output_type": "stream",
     "text": [
      "No label_names provided for model class `PeftModelForSequenceClassification`. Since `PeftModel` hides base models input arguments, if label_names is not given, label_names can't be set automatically within `Trainer`. Note that empty label_names list will be used instead.\n",
      "/opt/anaconda3/envs/nlp-bert/lib/python3.10/site-packages/torch/utils/data/dataloader.py:683: UserWarning: 'pin_memory' argument is set as true but not supported on MPS now, then device pinned memory won't be used.\n",
      "  warnings.warn(warn_msg)\n"
     ]
    },
    {
     "data": {
      "text/html": [
       "\n",
       "    <div>\n",
       "      \n",
       "      <progress value='570' max='570' style='width:300px; height:20px; vertical-align: middle;'></progress>\n",
       "      [570/570 1:04:49, Epoch 5/5]\n",
       "    </div>\n",
       "    <table border=\"1\" class=\"dataframe\">\n",
       "  <thead>\n",
       " <tr style=\"text-align: left;\">\n",
       "      <th>Step</th>\n",
       "      <th>Training Loss</th>\n",
       "    </tr>\n",
       "  </thead>\n",
       "  <tbody>\n",
       "    <tr>\n",
       "      <td>50</td>\n",
       "      <td>1.105600</td>\n",
       "    </tr>\n",
       "    <tr>\n",
       "      <td>100</td>\n",
       "      <td>1.091800</td>\n",
       "    </tr>\n",
       "    <tr>\n",
       "      <td>150</td>\n",
       "      <td>1.086700</td>\n",
       "    </tr>\n",
       "    <tr>\n",
       "      <td>200</td>\n",
       "      <td>1.082100</td>\n",
       "    </tr>\n",
       "    <tr>\n",
       "      <td>250</td>\n",
       "      <td>1.065600</td>\n",
       "    </tr>\n",
       "    <tr>\n",
       "      <td>300</td>\n",
       "      <td>1.038800</td>\n",
       "    </tr>\n",
       "    <tr>\n",
       "      <td>350</td>\n",
       "      <td>1.034000</td>\n",
       "    </tr>\n",
       "    <tr>\n",
       "      <td>400</td>\n",
       "      <td>1.011200</td>\n",
       "    </tr>\n",
       "    <tr>\n",
       "      <td>450</td>\n",
       "      <td>1.021000</td>\n",
       "    </tr>\n",
       "    <tr>\n",
       "      <td>500</td>\n",
       "      <td>1.001500</td>\n",
       "    </tr>\n",
       "    <tr>\n",
       "      <td>550</td>\n",
       "      <td>1.012900</td>\n",
       "    </tr>\n",
       "  </tbody>\n",
       "</table><p>"
      ],
      "text/plain": [
       "<IPython.core.display.HTML object>"
      ]
     },
     "metadata": {},
     "output_type": "display_data"
    },
    {
     "data": {
      "text/plain": [
       "TrainOutput(global_step=570, training_loss=1.0497670458074202, metrics={'train_runtime': 3913.084, 'train_samples_per_second': 1.163, 'train_steps_per_second': 0.146, 'total_flos': 699592116787200.0, 'train_loss': 1.0497670458074202, 'epoch': 5.0})"
      ]
     },
     "execution_count": 10,
     "metadata": {},
     "output_type": "execute_result"
    }
   ],
   "source": [
    "from transformers import TrainingArguments, Trainer\n",
    "import evaluate\n",
    "import numpy as np\n",
    "from sklearn.metrics import classification_report\n",
    "\n",
    "# Metrics\n",
    "accuracy = evaluate.load(\"accuracy\")\n",
    "f1 = evaluate.load(\"f1\")\n",
    "\n",
    "def compute_metrics(eval_pred):\n",
    "    logits, labels = eval_pred\n",
    "    preds = np.argmax(logits, axis=1)\n",
    "    return {\n",
    "        \"accuracy\": accuracy.compute(predictions=preds, references=labels)[\"accuracy\"],\n",
    "        \"f1\": f1.compute(predictions=preds, references=labels, average=\"macro\")[\"f1\"]\n",
    "    }\n",
    "\n",
    "# Safe config for older versions of Hugging Face\n",
    "training_args = TrainingArguments(\n",
    "    output_dir=\"./discipline_deberta_lora_v3.0\",\n",
    "    per_device_train_batch_size=8,\n",
    "    per_device_eval_batch_size=8,\n",
    "    num_train_epochs=5,\n",
    "    learning_rate=2e-5,\n",
    "    weight_decay=0.01,\n",
    "    logging_steps=50\n",
    ")\n",
    "\n",
    "trainer = Trainer(\n",
    "    model=model,\n",
    "    args=training_args,\n",
    "    train_dataset=train_ds,\n",
    "    eval_dataset=test_ds,\n",
    "    compute_metrics=compute_metrics\n",
    ")\n",
    "\n",
    "trainer.train()\n"
   ]
  },
  {
   "cell_type": "code",
   "execution_count": 11,
   "id": "cf535459-6d3e-4843-b014-adea8ac1093f",
   "metadata": {},
   "outputs": [
    {
     "name": "stderr",
     "output_type": "stream",
     "text": [
      "/opt/anaconda3/envs/nlp-bert/lib/python3.10/site-packages/torch/utils/data/dataloader.py:683: UserWarning: 'pin_memory' argument is set as true but not supported on MPS now, then device pinned memory won't be used.\n",
      "  warnings.warn(warn_msg)\n"
     ]
    },
    {
     "data": {
      "text/html": [],
      "text/plain": [
       "<IPython.core.display.HTML object>"
      ]
     },
     "metadata": {},
     "output_type": "display_data"
    },
    {
     "name": "stdout",
     "output_type": "stream",
     "text": [
      "{'eval_loss': 0.9938977956771851, 'eval_accuracy': 0.5394736842105263, 'eval_f1': 0.3782505910165484, 'eval_runtime': 17.4641, 'eval_samples_per_second': 13.055, 'eval_steps_per_second': 1.661, 'epoch': 5.0}\n"
     ]
    }
   ],
   "source": [
    "metrics = trainer.evaluate()\n",
    "print(metrics)"
   ]
  },
  {
   "cell_type": "markdown",
   "id": "a3f50a77-5b13-46dd-a151-42a1aaf2877b",
   "metadata": {},
   "source": [
    "## Step 6: Evaluation & Results Analysis\n",
    "\n",
    "After 5 epochs of LoRA fine-tuning on the `microsoft/deberta-base` model, we evaluate the classifier on the test set of 228 abstracts.\n"
   ]
  },
  {
   "cell_type": "code",
   "execution_count": 13,
   "id": "8afc42a4-b238-47d8-9419-22e2537ebc4e",
   "metadata": {},
   "outputs": [
    {
     "name": "stderr",
     "output_type": "stream",
     "text": [
      "/opt/anaconda3/envs/nlp-bert/lib/python3.10/site-packages/torch/utils/data/dataloader.py:683: UserWarning: 'pin_memory' argument is set as true but not supported on MPS now, then device pinned memory won't be used.\n",
      "  warnings.warn(warn_msg)\n"
     ]
    },
    {
     "data": {
      "text/html": [],
      "text/plain": [
       "<IPython.core.display.HTML object>"
      ]
     },
     "metadata": {},
     "output_type": "display_data"
    },
    {
     "name": "stdout",
     "output_type": "stream",
     "text": [
      "              precision    recall  f1-score   support\n",
      "\n",
      "          CS       0.51      0.95      0.67        95\n",
      "          IS       0.62      0.38      0.47        88\n",
      "          IT       0.00      0.00      0.00        45\n",
      "\n",
      "    accuracy                           0.54       228\n",
      "   macro avg       0.38      0.44      0.38       228\n",
      "weighted avg       0.45      0.54      0.46       228\n",
      "\n"
     ]
    },
    {
     "name": "stderr",
     "output_type": "stream",
     "text": [
      "/opt/anaconda3/envs/nlp-bert/lib/python3.10/site-packages/sklearn/metrics/_classification.py:1565: UndefinedMetricWarning: Precision is ill-defined and being set to 0.0 in labels with no predicted samples. Use `zero_division` parameter to control this behavior.\n",
      "  _warn_prf(average, modifier, f\"{metric.capitalize()} is\", len(result))\n",
      "/opt/anaconda3/envs/nlp-bert/lib/python3.10/site-packages/sklearn/metrics/_classification.py:1565: UndefinedMetricWarning: Precision is ill-defined and being set to 0.0 in labels with no predicted samples. Use `zero_division` parameter to control this behavior.\n",
      "  _warn_prf(average, modifier, f\"{metric.capitalize()} is\", len(result))\n",
      "/opt/anaconda3/envs/nlp-bert/lib/python3.10/site-packages/sklearn/metrics/_classification.py:1565: UndefinedMetricWarning: Precision is ill-defined and being set to 0.0 in labels with no predicted samples. Use `zero_division` parameter to control this behavior.\n",
      "  _warn_prf(average, modifier, f\"{metric.capitalize()} is\", len(result))\n"
     ]
    }
   ],
   "source": [
    "from sklearn.metrics import classification_report\n",
    "import numpy as np\n",
    "\n",
    "preds = trainer.predict(test_ds)\n",
    "y_true = preds.label_ids\n",
    "y_pred = np.argmax(preds.predictions, axis=1)\n",
    "\n",
    "print(classification_report(y_true, y_pred, target_names=[\"CS\", \"IS\", \"IT\"]))\n"
   ]
  },
  {
   "cell_type": "markdown",
   "id": "cb7643b7-bfb5-4948-a3d0-89cd53315d4b",
   "metadata": {},
   "source": [
    "### 🔍 Metrics Summary:\n",
    "- **Eval Loss**: 0.99\n",
    "- **Accuracy**: 54%\n",
    "- **Macro F1 Score**: 0.38\n",
    "\n",
    "| Class | Precision | Recall | F1    | Support |\n",
    "|-------|-----------|--------|-------|---------|\n",
    "| CS    | 0.51      | 0.95   | 0.67  | 95      |\n",
    "| IS    | 0.62      | 0.38   | 0.47  | 88      |\n",
    "| IT    | 0.00      | 0.00   | 0.00  | 45      |\n",
    "\n",
    "### 🧠 Interpretation:\n",
    "- The model **strongly overpredicts the CS class**, achieving high recall but low precision.\n",
    "- **IS classification is weak**, and **IT is completely unpredicted**, leading to a precision/recall/F1 of 0.00.\n",
    "- This indicates a heavy class imbalance or weak learning signal from the LoRA adaptation for the IT class.\n",
    "- Macro F1 score is significantly below baseline (0.38 vs 0.89 in v2.2), making this model unsuitable for deployment.\n",
    "\n",
    "### ⚠️ Why This Happened:\n",
    "- LoRA updates only ~0.2% of the model parameters, which may be **insufficient** for this 3-class task with subtle semantic boundaries.\n",
    "- The model was trained **without class weighting**, so it likely biased toward the majority class (CS).\n",
    "- DeBERTa, while strong in general NLP tasks, may lack domain-specific understanding needed for abstract classification — compared to SciBERT."
   ]
  },
  {
   "cell_type": "code",
   "execution_count": 14,
   "id": "48cbfef7-6cc6-419a-b18b-5ccc8cdfab55",
   "metadata": {},
   "outputs": [
    {
     "data": {
      "text/plain": [
       "['Artefacts/label2id_deberta_lora_v3.0.pkl']"
      ]
     },
     "execution_count": 14,
     "metadata": {},
     "output_type": "execute_result"
    }
   ],
   "source": [
    "import joblib\n",
    "import os\n",
    "\n",
    "# Save model, tokenizer, and label mappings\n",
    "joblib.dump(model, \"Artefacts/discipline_classifier_deberta_lora_v3.0.pkl\")\n",
    "joblib.dump(tokenizer, \"Artefacts/tokenizer_deberta_lora_v3.0.pkl\")\n",
    "joblib.dump({\"CS\": 0, \"IS\": 1, \"IT\": 2}, \"Artefacts/label2id_deberta_lora_v3.0.pkl\")\n"
   ]
  },
  {
   "cell_type": "code",
   "execution_count": null,
   "id": "b8ad5fd7-6a16-47a5-bf95-c899cef1fcbb",
   "metadata": {},
   "outputs": [],
   "source": []
  }
 ],
 "metadata": {
  "kernelspec": {
   "display_name": "Python 3 (ipykernel)",
   "language": "python",
   "name": "python3"
  },
  "language_info": {
   "codemirror_mode": {
    "name": "ipython",
    "version": 3
   },
   "file_extension": ".py",
   "mimetype": "text/x-python",
   "name": "python",
   "nbconvert_exporter": "python",
   "pygments_lexer": "ipython3",
   "version": "3.10.16"
  }
 },
 "nbformat": 4,
 "nbformat_minor": 5
}
