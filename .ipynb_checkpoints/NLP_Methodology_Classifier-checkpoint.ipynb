{
 "cells": [
  {
   "cell_type": "markdown",
   "id": "14928bda",
   "metadata": {},
   "source": [
    "# 📚 NLP Project – Research Methodology Classification\n",
    "This notebook trains a Logistic Regression model to classify research paper abstracts into Methodology categories (QLT, QNT, M) using TF-IDF features.\n",
    "\n",
    "Dataset: 105 abstracts labeled with Methodology.  \n",
    "Model: Logistic Regression with `class_weight='balanced'` to handle class imbalance."
   ]
  },
  {
   "cell_type": "markdown",
   "id": "211f7efb",
   "metadata": {},
   "source": [
    "## 🛠️ Step 1: Import Required Libraries"
   ]
  },
  {
   "cell_type": "code",
   "execution_count": 1,
   "id": "d08d1b60",
   "metadata": {},
   "outputs": [],
   "source": [
    "import pandas as pd\n",
    "import numpy as np\n",
    "from sklearn.model_selection import train_test_split\n",
    "from sklearn.feature_extraction.text import TfidfVectorizer\n",
    "from sklearn.linear_model import LogisticRegression\n",
    "from sklearn.metrics import classification_report, confusion_matrix\n",
    "import joblib"
   ]
  },
  {
   "cell_type": "markdown",
   "id": "33f1bce1",
   "metadata": {},
   "source": [
    "## 📥 Step 2: Load the Dataset"
   ]
  },
  {
   "cell_type": "code",
   "execution_count": 4,
   "id": "bccefb16",
   "metadata": {},
   "outputs": [
    {
     "data": {
      "text/html": [
       "<div>\n",
       "<style scoped>\n",
       "    .dataframe tbody tr th:only-of-type {\n",
       "        vertical-align: middle;\n",
       "    }\n",
       "\n",
       "    .dataframe tbody tr th {\n",
       "        vertical-align: top;\n",
       "    }\n",
       "\n",
       "    .dataframe thead th {\n",
       "        text-align: right;\n",
       "    }\n",
       "</style>\n",
       "<table border=\"1\" class=\"dataframe\">\n",
       "  <thead>\n",
       "    <tr style=\"text-align: right;\">\n",
       "      <th></th>\n",
       "      <th>ID</th>\n",
       "      <th>Discipline</th>\n",
       "      <th>Subfield</th>\n",
       "      <th>Methodology</th>\n",
       "      <th>Abstract</th>\n",
       "    </tr>\n",
       "  </thead>\n",
       "  <tbody>\n",
       "    <tr>\n",
       "      <th>0</th>\n",
       "      <td>1</td>\n",
       "      <td>CS</td>\n",
       "      <td>CYB</td>\n",
       "      <td>QLT</td>\n",
       "      <td>Large Language Models (LLMs), such as ChatGPT ...</td>\n",
       "    </tr>\n",
       "    <tr>\n",
       "      <th>1</th>\n",
       "      <td>2</td>\n",
       "      <td>CS</td>\n",
       "      <td>CV</td>\n",
       "      <td>QNT</td>\n",
       "      <td>Despite the success of deep learning in close-...</td>\n",
       "    </tr>\n",
       "    <tr>\n",
       "      <th>2</th>\n",
       "      <td>3</td>\n",
       "      <td>CS</td>\n",
       "      <td>ML</td>\n",
       "      <td>QLT</td>\n",
       "      <td>Data analysis plays an indispensable role for ...</td>\n",
       "    </tr>\n",
       "    <tr>\n",
       "      <th>3</th>\n",
       "      <td>4</td>\n",
       "      <td>CS</td>\n",
       "      <td>CV</td>\n",
       "      <td>QNT</td>\n",
       "      <td>We present a method to analyze daily activitie...</td>\n",
       "    </tr>\n",
       "    <tr>\n",
       "      <th>4</th>\n",
       "      <td>5</td>\n",
       "      <td>CS</td>\n",
       "      <td>CYB</td>\n",
       "      <td>QNT</td>\n",
       "      <td>Elliptic curve cryptosystems are considered an...</td>\n",
       "    </tr>\n",
       "  </tbody>\n",
       "</table>\n",
       "</div>"
      ],
      "text/plain": [
       "   ID Discipline Subfield Methodology  \\\n",
       "0   1         CS      CYB         QLT   \n",
       "1   2         CS       CV         QNT   \n",
       "2   3         CS       ML         QLT   \n",
       "3   4         CS       CV         QNT   \n",
       "4   5         CS      CYB         QNT   \n",
       "\n",
       "                                            Abstract  \n",
       "0  Large Language Models (LLMs), such as ChatGPT ...  \n",
       "1  Despite the success of deep learning in close-...  \n",
       "2  Data analysis plays an indispensable role for ...  \n",
       "3  We present a method to analyze daily activitie...  \n",
       "4  Elliptic curve cryptosystems are considered an...  "
      ]
     },
     "execution_count": 4,
     "metadata": {},
     "output_type": "execute_result"
    }
   ],
   "source": [
    "# Load the finalized Methodology-labeled dataset\n",
    "\n",
    "df = pd.read_csv('NLP_Abstract_Dataset (Method)(105).csv')\n",
    "\n",
    "# View the first few rows\n",
    "df.head()"
   ]
  },
  {
   "cell_type": "code",
   "execution_count": 5,
   "id": "43f920e6",
   "metadata": {},
   "outputs": [
    {
     "name": "stdout",
     "output_type": "stream",
     "text": [
      "QLT    49\n",
      "QNT    46\n",
      "M      10\n",
      "Name: Methodology, dtype: int64\n"
     ]
    }
   ],
   "source": [
    "#Print methodology counts\n",
    "print(df['Methodology'].value_counts())"
   ]
  },
  {
   "cell_type": "markdown",
   "id": "0fe059c0",
   "metadata": {},
   "source": [
    "## 🧹 Step 3: Prepare Features and Labels"
   ]
  },
  {
   "cell_type": "code",
   "execution_count": 6,
   "id": "128b2625",
   "metadata": {},
   "outputs": [],
   "source": [
    "# Prepare input features (X) and target labels (y)\n",
    "\n",
    "# X will contain the research paper abstracts\n",
    "X = df['Abstract']\n",
    "\n",
    "# y will contain the Methodology labels (QLT, QNT, M)\n",
    "y = df['Methodology']"
   ]
  },
  {
   "cell_type": "markdown",
   "id": "43416d63",
   "metadata": {},
   "source": [
    "## 🔀 Step 4: Train-Test Split"
   ]
  },
  {
   "cell_type": "code",
   "execution_count": 7,
   "id": "529660fa",
   "metadata": {},
   "outputs": [],
   "source": [
    "# Split the dataset into training and testing sets\n",
    "\n",
    "# We will use stratified sampling to maintain the same proportion of Methodology classes in both train and test sets\n",
    "X_train, X_test, y_train, y_test = train_test_split(\n",
    "    X, \n",
    "    y, \n",
    "    test_size=0.3, \n",
    "    random_state=42, \n",
    "    stratify=y\n",
    ")"
   ]
  },
  {
   "cell_type": "markdown",
   "id": "4ea0c956",
   "metadata": {},
   "source": [
    "## ✨ Step 5: TF-IDF Vectorization"
   ]
  },
  {
   "cell_type": "code",
   "execution_count": 8,
   "id": "71572861",
   "metadata": {},
   "outputs": [],
   "source": [
    "# Initialize a TF-IDF Vectorizer to convert abstracts into numerical feature vectors\n",
    "\n",
    "tfidf = TfidfVectorizer(max_features=5000)  # Limit to top 5000 features for now (can be tuned later)\n",
    "\n",
    "# Fit the vectorizer on the training data and transform both training and testing sets\n",
    "X_train_tfidf = tfidf.fit_transform(X_train)\n",
    "X_test_tfidf = tfidf.transform(X_test)"
   ]
  },
  {
   "cell_type": "markdown",
   "id": "d5cc4d01",
   "metadata": {},
   "source": [
    "## 🤖 Step 6: Train Logistic Regression Model (Balanced)"
   ]
  },
  {
   "cell_type": "code",
   "execution_count": 9,
   "id": "bfc550e5",
   "metadata": {},
   "outputs": [
    {
     "data": {
      "text/plain": [
       "LogisticRegression(class_weight='balanced', max_iter=1000, random_state=42)"
      ]
     },
     "execution_count": 9,
     "metadata": {},
     "output_type": "execute_result"
    }
   ],
   "source": [
    "# Initialize Logistic Regression with class_weight='balanced' to handle class imbalance\n",
    "\n",
    "model = LogisticRegression(\n",
    "    class_weight='balanced',  # This compensates for class imbalance (QLT, QNT, M)\n",
    "    max_iter=1000,             # Increase iterations to ensure convergence\n",
    "    random_state=42\n",
    ")\n",
    "\n",
    "# Train the model on the TF-IDF transformed training data\n",
    "model.fit(X_train_tfidf, y_train)"
   ]
  },
  {
   "cell_type": "markdown",
   "id": "8cb717e4",
   "metadata": {},
   "source": [
    "## 📈 Step 7: Evaluate Model Performance"
   ]
  },
  {
   "cell_type": "code",
   "execution_count": 10,
   "id": "e000107d",
   "metadata": {},
   "outputs": [
    {
     "name": "stdout",
     "output_type": "stream",
     "text": [
      "🔹 Classification Report:\n",
      "\n",
      "              precision    recall  f1-score   support\n",
      "\n",
      "           M       0.00      0.00      0.00         3\n",
      "         QLT       0.58      0.73      0.65        15\n",
      "         QNT       0.69      0.64      0.67        14\n",
      "\n",
      "    accuracy                           0.62        32\n",
      "   macro avg       0.42      0.46      0.44        32\n",
      "weighted avg       0.57      0.62      0.59        32\n",
      "\n",
      "\n",
      "🔹 Confusion Matrix:\n",
      "\n",
      "[[ 0  3  0]\n",
      " [ 0 11  4]\n",
      " [ 0  5  9]]\n"
     ]
    },
    {
     "name": "stderr",
     "output_type": "stream",
     "text": [
      "/Users/aanandprabhu/opt/anaconda3/lib/python3.9/site-packages/sklearn/metrics/_classification.py:1318: UndefinedMetricWarning: Precision and F-score are ill-defined and being set to 0.0 in labels with no predicted samples. Use `zero_division` parameter to control this behavior.\n",
      "  _warn_prf(average, modifier, msg_start, len(result))\n",
      "/Users/aanandprabhu/opt/anaconda3/lib/python3.9/site-packages/sklearn/metrics/_classification.py:1318: UndefinedMetricWarning: Precision and F-score are ill-defined and being set to 0.0 in labels with no predicted samples. Use `zero_division` parameter to control this behavior.\n",
      "  _warn_prf(average, modifier, msg_start, len(result))\n",
      "/Users/aanandprabhu/opt/anaconda3/lib/python3.9/site-packages/sklearn/metrics/_classification.py:1318: UndefinedMetricWarning: Precision and F-score are ill-defined and being set to 0.0 in labels with no predicted samples. Use `zero_division` parameter to control this behavior.\n",
      "  _warn_prf(average, modifier, msg_start, len(result))\n"
     ]
    }
   ],
   "source": [
    "# Predict Methodology classes on the test set\n",
    "y_pred = model.predict(X_test_tfidf)\n",
    "\n",
    "# Print evaluation metrics\n",
    "print(\"🔹 Classification Report:\\n\")\n",
    "print(classification_report(y_test, y_pred))\n",
    "\n",
    "print(\"\\n🔹 Confusion Matrix:\\n\")\n",
    "print(confusion_matrix(y_test, y_pred))"
   ]
  },
  {
   "cell_type": "markdown",
   "id": "e005a802",
   "metadata": {},
   "source": [
    "## 💾 Step 8: Save Model and Vectorizer"
   ]
  },
  {
   "cell_type": "code",
   "execution_count": 11,
   "id": "41c5e10f",
   "metadata": {},
   "outputs": [
    {
     "data": {
      "text/plain": [
       "['Artefacts/tfidf_vectorizer_methodology.pkl']"
      ]
     },
     "execution_count": 11,
     "metadata": {},
     "output_type": "execute_result"
    }
   ],
   "source": [
    "# Save the trained Logistic Regression model to the Artefacts folder\n",
    "joblib.dump(model, 'Artefacts/methodology_classifier_logreg.pkl')\n",
    "\n",
    "# Save the trained TF-IDF vectorizer to the Artefacts folder\n",
    "joblib.dump(tfidf, 'Artefacts/tfidf_vectorizer_methodology.pkl')"
   ]
  },
  {
   "cell_type": "markdown",
   "id": "65fa50bc",
   "metadata": {},
   "source": [
    "## 📊 Step 9: Plot Confusion Matrix Heatmap"
   ]
  },
  {
   "cell_type": "code",
   "execution_count": 12,
   "id": "1ec1792c",
   "metadata": {},
   "outputs": [
    {
     "data": {
      "image/png": "[encoded data removed]",
      "text/plain": [
       "<Figure size 432x360 with 1 Axes>"
      ]
     },
     "metadata": {
      "needs_background": "light"
     },
     "output_type": "display_data"
    }
   ],
   "source": [
    "# Import seaborn and matplotlib for heatmap plotting\n",
    "import matplotlib.pyplot as plt\n",
    "import seaborn as sns\n",
    "from sklearn.metrics import ConfusionMatrixDisplay\n",
    "\n",
    "# Generate the confusion matrix again\n",
    "cm = confusion_matrix(y_test, y_pred)\n",
    "\n",
    "# Create a heatmap using seaborn\n",
    "plt.figure(figsize=(6, 5))\n",
    "sns.heatmap(cm, annot=True, fmt='d', cmap='Blues', cbar=False,\n",
    "            xticklabels=['M', 'QLT', 'QNT'],\n",
    "            yticklabels=['M', 'QLT', 'QNT'])\n",
    "\n",
    "plt.title('Confusion Matrix Heatmap - Methodology Classification')\n",
    "plt.xlabel('Predicted Labels')\n",
    "plt.ylabel('True Labels')\n",
    "plt.show()"
   ]
  },
  {
   "cell_type": "markdown",
   "id": "aacf46cc",
   "metadata": {},
   "source": [
    "## 🧠 Step 10: Interpretation of Confusion Matrix and Model Performance\n",
    "\n",
    "The confusion matrix shows that the model was able to predict the QLT (Qualitative) and QNT (Quantitative) classes with moderate success. However, the model completely failed to correctly predict any instances of the M (Mixed Methods) class.\n",
    "\n",
    "This outcome was anticipated due to:\n",
    "- Severe class imbalance (only 10 Mixed Methods abstracts out of 105 total)\n",
    "- Possible linguistic overlap between QLT and QNT abstracts, making Mixed Methods hard to distinguish\n",
    "- Limitations of Logistic Regression in handling very small minority classes, even with class_weight balancing\n",
    "\n",
    "**Summary of performance:**\n",
    "- **QLT** and **QNT** classes achieved reasonable precision and recall (~60–70%)\n",
    "- **M** class was entirely misclassified\n",
    "- Overall **weighted F1-score**: approximately **0.59**\n",
    "- Overall **accuracy**: approximately **0.62**\n",
    "\n",
    "**Possible improvements:**\n",
    "- Collect a larger number of M (Mixed Methods) abstracts to balance the dataset\n",
    "- Explore advanced techniques such as oversampling (e.g., SMOTE) or more complex classifiers (e.g., ensemble methods)\n",
    "\n",
    "Despite these limitations, the methodology classification pipeline is functional and consistent with the Discipline and Subfield classification phases. The pipeline is ready for documentation and integration into the final project report."
   ]
  },
  {
   "cell_type": "code",
   "execution_count": null,
   "id": "73c51b64",
   "metadata": {},
   "outputs": [],
   "source": []
  }
 ],
 "metadata": {
  "kernelspec": {
   "display_name": "Python 3 (ipykernel)",
   "language": "python",
   "name": "python3"
  },
  "language_info": {
   "codemirror_mode": {
    "name": "ipython",
    "version": 3
   },
   "file_extension": ".py",
   "mimetype": "text/x-python",
   "name": "python",
   "nbconvert_exporter": "python",
   "pygments_lexer": "ipython3",
   "version": "3.9.12"
  }
 },
 "nbformat": 4,
 "nbformat_minor": 5
}
