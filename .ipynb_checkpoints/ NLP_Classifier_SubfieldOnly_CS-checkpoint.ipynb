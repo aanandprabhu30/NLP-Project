{
 "cells": [
  {
   "cell_type": "markdown",
   "id": "1fb0a985",
   "metadata": {},
   "source": [
    "# 🧠 Subfield Classifier – Computer Science (CS)\n",
    "\n",
    "This notebook sets up subfield classification for **CS abstracts** using the full 105-abstract dataset. "
   ]
  },
  {
   "cell_type": "code",
   "execution_count": 1,
   "id": "c33a8dc6",
   "metadata": {},
   "outputs": [
    {
     "data": {
      "text/html": [
       "<div>\n",
       "<style scoped>\n",
       "    .dataframe tbody tr th:only-of-type {\n",
       "        vertical-align: middle;\n",
       "    }\n",
       "\n",
       "    .dataframe tbody tr th {\n",
       "        vertical-align: top;\n",
       "    }\n",
       "\n",
       "    .dataframe thead th {\n",
       "        text-align: right;\n",
       "    }\n",
       "</style>\n",
       "<table border=\"1\" class=\"dataframe\">\n",
       "  <thead>\n",
       "    <tr style=\"text-align: right;\">\n",
       "      <th></th>\n",
       "      <th>ID</th>\n",
       "      <th>Discipline</th>\n",
       "      <th>Subfield</th>\n",
       "      <th>Abstract</th>\n",
       "    </tr>\n",
       "  </thead>\n",
       "  <tbody>\n",
       "    <tr>\n",
       "      <th>0</th>\n",
       "      <td>1</td>\n",
       "      <td>CS</td>\n",
       "      <td>CYB</td>\n",
       "      <td>Large Language Models (LLMs), such as ChatGPT ...</td>\n",
       "    </tr>\n",
       "    <tr>\n",
       "      <th>1</th>\n",
       "      <td>2</td>\n",
       "      <td>CS</td>\n",
       "      <td>CV</td>\n",
       "      <td>Despite the success of deep learning in close-...</td>\n",
       "    </tr>\n",
       "    <tr>\n",
       "      <th>2</th>\n",
       "      <td>3</td>\n",
       "      <td>CS</td>\n",
       "      <td>ML</td>\n",
       "      <td>Data analysis plays an indispensable role for ...</td>\n",
       "    </tr>\n",
       "    <tr>\n",
       "      <th>3</th>\n",
       "      <td>4</td>\n",
       "      <td>CS</td>\n",
       "      <td>CV</td>\n",
       "      <td>We present a method to analyze daily activitie...</td>\n",
       "    </tr>\n",
       "    <tr>\n",
       "      <th>4</th>\n",
       "      <td>5</td>\n",
       "      <td>CS</td>\n",
       "      <td>CYB</td>\n",
       "      <td>Elliptic curve cryptosystems are considered an...</td>\n",
       "    </tr>\n",
       "  </tbody>\n",
       "</table>\n",
       "</div>"
      ],
      "text/plain": [
       "   ID Discipline Subfield                                           Abstract\n",
       "0   1         CS      CYB  Large Language Models (LLMs), such as ChatGPT ...\n",
       "1   2         CS       CV  Despite the success of deep learning in close-...\n",
       "2   3         CS       ML  Data analysis plays an indispensable role for ...\n",
       "3   4         CS       CV  We present a method to analyze daily activitie...\n",
       "4   5         CS      CYB  Elliptic curve cryptosystems are considered an..."
      ]
     },
     "execution_count": 1,
     "metadata": {},
     "output_type": "execute_result"
    }
   ],
   "source": [
    "import pandas as pd\n",
    "\n",
    "# Load the full dataset with subfield labels\n",
    "df = pd.read_csv(\"NLP_Abstract_Dataset (Subfield)(105).csv\")\n",
    "\n",
    "# Filter only Computer Science records\n",
    "cs_df = df[df[\"Discipline\"] == \"CS\"].copy()\n",
    "\n",
    "# Preview first few CS records\n",
    "cs_df.head()"
   ]
  },
  {
   "cell_type": "code",
   "execution_count": null,
   "id": "98c36959",
   "metadata": {},
   "outputs": [],
   "source": []
  }
 ],
 "metadata": {
  "kernelspec": {
   "display_name": "Python 3 (ipykernel)",
   "language": "python",
   "name": "python3"
  },
  "language_info": {
   "codemirror_mode": {
    "name": "ipython",
    "version": 3
   },
   "file_extension": ".py",
   "mimetype": "text/x-python",
   "name": "python",
   "nbconvert_exporter": "python",
   "pygments_lexer": "ipython3",
   "version": "3.9.12"
  }
 },
 "nbformat": 4,
 "nbformat_minor": 5
}
