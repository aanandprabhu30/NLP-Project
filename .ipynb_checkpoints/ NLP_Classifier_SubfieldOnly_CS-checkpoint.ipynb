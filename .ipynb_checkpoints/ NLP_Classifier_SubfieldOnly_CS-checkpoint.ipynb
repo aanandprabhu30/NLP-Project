{
 "cells": [
  {
   "cell_type": "markdown",
   "id": "1fb0a985",
   "metadata": {},
   "source": [
    "# 🧠 Subfield Classifier – Computer Science (CS)\n",
    "\n",
    "This notebook sets up subfield classification for **CS abstracts** using the full 105-abstract dataset. "
   ]
  },
  {
   "cell_type": "code",
   "execution_count": null,
   "id": "c33a8dc6",
   "metadata": {},
   "outputs": [],
   "source": []
  }
 ],
 "metadata": {
  "kernelspec": {
   "display_name": "Python 3 (ipykernel)",
   "language": "python",
   "name": "python3"
  },
  "language_info": {
   "codemirror_mode": {
    "name": "ipython",
    "version": 3
   },
   "file_extension": ".py",
   "mimetype": "text/x-python",
   "name": "python",
   "nbconvert_exporter": "python",
   "pygments_lexer": "ipython3",
   "version": "3.9.12"
  }
 },
 "nbformat": 4,
 "nbformat_minor": 5
}
