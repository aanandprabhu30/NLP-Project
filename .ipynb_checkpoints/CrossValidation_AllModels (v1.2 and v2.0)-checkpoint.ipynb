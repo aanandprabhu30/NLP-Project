{
 "cells": [
  {
   "cell_type": "markdown",
   "id": "42a67232",
   "metadata": {},
   "source": [
    "# 📊 Cross-Evaluation for All Final Models – v1.2 Architecture\n",
    "\n",
    "This notebook performs **5-fold cross-validation** on all finalized models using the v1.2 architecture. The goal is to evaluate model stability, generalization, and consistency across different data splits.\n",
    "\n",
    "### ✅ Models Evaluated:\n",
    "- **Discipline Classifier**  \n",
    "  Logistic Regression + Bigram TF-IDF (v1.1)\n",
    "  \n",
    "- **Subfield Classifiers**  \n",
    "  SVM + SMOTE + Bigram TF-IDF (v1.2) — evaluated separately for CS, IS, and IT\n",
    "\n",
    "- **Methodology Classifier**  \n",
    "  SVM + SMOTE + Title + Abstract TF-IDF (v2.0)\n",
    "\n",
    "---\n",
    "\n",
    "Each model is validated using **k-fold cross-validation**, allowing us to estimate how well it will perform on unseen samples **within the same dataset**. This ensures the models are not overfitting to a specific split and gives a more reliable signal of generalization — especially important for small, imbalanced academic datasets."
   ]
  },
  {
   "cell_type": "markdown",
   "id": "cc8f9774",
   "metadata": {},
   "source": [
    "## 🧹 Load Pre-Trained Models and Vectorizers\n",
    "\n",
    "In this step, we load the finalized `.joblib` artefacts trained earlier. These include:\n",
    "\n",
    "- The **Discipline Classifier** (Logistic Regression with bigram TF-IDF)\n",
    "- The **Subfield Classifiers** (SVM + SMOTE for CS, IS, and IT using discipline-specific TF-IDF)\n",
    "- The **Methodology Classifier** (SVM + SMOTE using Title + Abstract as input)\n",
    "\n",
    "These artefacts will be reused for cross-validation without retraining, ensuring consistency in pipeline architecture and preprocessing."
   ]
  },
  {
   "cell_type": "code",
   "execution_count": 1,
   "id": "70504040",
   "metadata": {},
   "outputs": [
    {
     "name": "stdout",
     "output_type": "stream",
     "text": [
      "✅ All models and vectorizers loaded using joblib.\n"
     ]
    }
   ],
   "source": [
    "import joblib\n",
    "import os\n",
    "\n",
    "path = \"Artefacts/\"\n",
    "\n",
    "# Discipline Classifier (v1.1)\n",
    "discipline_model = joblib.load(os.path.join(path, \"discipline_classifier_logreg.pkl\"))\n",
    "discipline_vectorizer = joblib.load(os.path.join(path, \"tfidf_vectorizer.pkl\"))\n",
    "\n",
    "# Subfield Classifiers (v1.2)\n",
    "cs_model = joblib.load(os.path.join(path, \"cs_subfield_classifier_svm_smote.pkl\"))\n",
    "cs_vectorizer = joblib.load(os.path.join(path, \"cs_subfield_vectorizer_smote.pkl\"))\n",
    "\n",
    "is_model = joblib.load(os.path.join(path, \"is_subfield_classifier_svm_smote.pkl\"))\n",
    "is_vectorizer = joblib.load(os.path.join(path, \"is_subfield_vectorizer_smote.pkl\"))\n",
    "\n",
    "it_model = joblib.load(os.path.join(path, \"it_subfield_classifier_svm_smote.pkl\"))\n",
    "it_vectorizer = joblib.load(os.path.join(path, \"it_subfield_vectorizer_smote.pkl\"))\n",
    "\n",
    "# Methodology Classifier (v2.0)\n",
    "methodology_model = joblib.load(os.path.join(path, \"methodology_classifier_v2_titleabstract.pkl\"))\n",
    "methodology_vectorizer = joblib.load(os.path.join(path, \"tfidf_vectorizer_methodology_v2_titleabstract.pkl\"))\n",
    "\n",
    "print(\"✅ All models and vectorizers loaded using joblib.\")"
   ]
  },
  {
   "cell_type": "markdown",
   "id": "cf5435d3",
   "metadata": {},
   "source": [
    "## 📦 Load Labeled Abstract Dataset\n",
    "\n",
    "We now load the complete dataset of 105 computing research abstracts. Each entry includes:\n",
    "\n",
    "- `Title` and `Abstract`: Combined in some models for richer representation\n",
    "- `Discipline`: CS, IS, or IT\n",
    "- `Subfield`: Discipline-specific research area (e.g., AI, ML, CLD, IOTNET)\n",
    "- `Methodology`: Qualitative, Quantitative, or Mixed\n",
    "\n",
    "This dataset will be used for all cross-validation runs."
   ]
  },
  {
   "cell_type": "code",
   "execution_count": 2,
   "id": "bb14082a",
   "metadata": {},
   "outputs": [
    {
     "name": "stdout",
     "output_type": "stream",
     "text": [
      "✅ Dataset loaded successfully.\n",
      "Shape: (105, 6)\n",
      "Columns: ['ID', 'Title', 'Abstract', 'Discipline', 'Subfield', 'Methodology']\n",
      "\n",
      "Discipline Distribution:\n",
      "CS    35\n",
      "IS    35\n",
      "IT    35\n",
      "Name: Discipline, dtype: int64\n",
      "\n",
      "Subfield Distribution:\n",
      "CLD       10\n",
      "ENT        9\n",
      "SEC        9\n",
      "CYB        8\n",
      "IOTNET     8\n",
      "AI         8\n",
      "OPS        8\n",
      "ML         7\n",
      "IMP        7\n",
      "BSP        7\n",
      "CV         6\n",
      "GOV        6\n",
      "PAST       6\n",
      "DSA        6\n",
      "Name: Subfield, dtype: int64\n",
      "\n",
      "Methodology Distribution:\n",
      "Qualitative     49\n",
      "Quantitative    46\n",
      "Mixed           10\n",
      "Name: Methodology, dtype: int64\n"
     ]
    },
    {
     "data": {
      "text/html": [
       "<div>\n",
       "<style scoped>\n",
       "    .dataframe tbody tr th:only-of-type {\n",
       "        vertical-align: middle;\n",
       "    }\n",
       "\n",
       "    .dataframe tbody tr th {\n",
       "        vertical-align: top;\n",
       "    }\n",
       "\n",
       "    .dataframe thead th {\n",
       "        text-align: right;\n",
       "    }\n",
       "</style>\n",
       "<table border=\"1\" class=\"dataframe\">\n",
       "  <thead>\n",
       "    <tr style=\"text-align: right;\">\n",
       "      <th></th>\n",
       "      <th>ID</th>\n",
       "      <th>Title</th>\n",
       "      <th>Abstract</th>\n",
       "      <th>Discipline</th>\n",
       "      <th>Subfield</th>\n",
       "      <th>Methodology</th>\n",
       "    </tr>\n",
       "  </thead>\n",
       "  <tbody>\n",
       "    <tr>\n",
       "      <th>0</th>\n",
       "      <td>1</td>\n",
       "      <td>A survey on large language model (LLM) securit...</td>\n",
       "      <td>Large Language Models (LLMs), such as ChatGPT ...</td>\n",
       "      <td>CS</td>\n",
       "      <td>CYB</td>\n",
       "      <td>Qualitative</td>\n",
       "    </tr>\n",
       "    <tr>\n",
       "      <th>1</th>\n",
       "      <td>2</td>\n",
       "      <td>Detect Anything 3D in the Wild</td>\n",
       "      <td>Despite the success of deep learning in close-...</td>\n",
       "      <td>CS</td>\n",
       "      <td>CV</td>\n",
       "      <td>Quantitative</td>\n",
       "    </tr>\n",
       "    <tr>\n",
       "      <th>2</th>\n",
       "      <td>3</td>\n",
       "      <td>Survey of clustering algorithms</td>\n",
       "      <td>Data analysis plays an indispensable role for ...</td>\n",
       "      <td>CS</td>\n",
       "      <td>ML</td>\n",
       "      <td>Qualitative</td>\n",
       "    </tr>\n",
       "    <tr>\n",
       "      <th>3</th>\n",
       "      <td>4</td>\n",
       "      <td>Understanding egocentric activities</td>\n",
       "      <td>We present a method to analyze daily activitie...</td>\n",
       "      <td>CS</td>\n",
       "      <td>CV</td>\n",
       "      <td>Quantitative</td>\n",
       "    </tr>\n",
       "    <tr>\n",
       "      <th>4</th>\n",
       "      <td>5</td>\n",
       "      <td>High-performance Implementation of Elliptic Cu...</td>\n",
       "      <td>Elliptic curve cryptosystems are considered an...</td>\n",
       "      <td>CS</td>\n",
       "      <td>CYB</td>\n",
       "      <td>Quantitative</td>\n",
       "    </tr>\n",
       "  </tbody>\n",
       "</table>\n",
       "</div>"
      ],
      "text/plain": [
       "   ID                                              Title  \\\n",
       "0   1  A survey on large language model (LLM) securit...   \n",
       "1   2                     Detect Anything 3D in the Wild   \n",
       "2   3                    Survey of clustering algorithms   \n",
       "3   4                Understanding egocentric activities   \n",
       "4   5  High-performance Implementation of Elliptic Cu...   \n",
       "\n",
       "                                            Abstract Discipline Subfield  \\\n",
       "0  Large Language Models (LLMs), such as ChatGPT ...         CS      CYB   \n",
       "1  Despite the success of deep learning in close-...         CS       CV   \n",
       "2  Data analysis plays an indispensable role for ...         CS       ML   \n",
       "3  We present a method to analyze daily activitie...         CS       CV   \n",
       "4  Elliptic curve cryptosystems are considered an...         CS      CYB   \n",
       "\n",
       "    Methodology  \n",
       "0   Qualitative  \n",
       "1  Quantitative  \n",
       "2   Qualitative  \n",
       "3  Quantitative  \n",
       "4  Quantitative  "
      ]
     },
     "execution_count": 2,
     "metadata": {},
     "output_type": "execute_result"
    }
   ],
   "source": [
    "import pandas as pd\n",
    "\n",
    "# Load the complete labeled dataset\n",
    "df = pd.read_csv(\"Data/NLP_Dataset_Title_Abstract_Discipline_Subfield_Methodology.csv\")\n",
    "\n",
    "# Basic overview\n",
    "print(\"✅ Dataset loaded successfully.\")\n",
    "print(\"Shape:\", df.shape)\n",
    "print(\"Columns:\", df.columns.tolist())\n",
    "\n",
    "# Label distributions\n",
    "print(\"\\nDiscipline Distribution:\")\n",
    "print(df['Discipline'].value_counts())\n",
    "\n",
    "print(\"\\nSubfield Distribution:\")\n",
    "print(df['Subfield'].value_counts())\n",
    "\n",
    "print(\"\\nMethodology Distribution:\")\n",
    "print(df['Methodology'].value_counts())\n",
    "\n",
    "# Preview\n",
    "df.head()"
   ]
  },
  {
   "cell_type": "markdown",
   "id": "540854ac",
   "metadata": {},
   "source": [
    "## 🔍 Cross-Validation – Discipline Classifier (LogReg + Bigram TF-IDF)\n",
    "\n",
    "We now evaluate the Discipline classifier (v1.1), which uses Logistic Regression with bigram TF-IDF features extracted from the `Abstract`.\n",
    "\n",
    "We'll perform 5-fold stratified cross-validation to measure how well the model generalizes across the entire dataset. All preprocessing steps (vectorization, transformation) are included using the final saved vectorizer."
   ]
  },
  {
   "cell_type": "code",
   "execution_count": 3,
   "id": "5064c258",
   "metadata": {},
   "outputs": [
    {
     "name": "stdout",
     "output_type": "stream",
     "text": [
      "✅ Cross-validation complete.\n",
      "Fold-wise Accuracies: [0.80952381 0.76190476 0.9047619  0.66666667 0.57142857]\n",
      "Mean Accuracy: 0.7429\n",
      "Std Deviation: 0.1151\n"
     ]
    }
   ],
   "source": [
    "from sklearn.model_selection import cross_val_score, StratifiedKFold\n",
    "from sklearn.metrics import classification_report, confusion_matrix\n",
    "import numpy as np\n",
    "\n",
    "# Define features and labels\n",
    "X_disc = df[\"Abstract\"]\n",
    "y_disc = df[\"Discipline\"]\n",
    "\n",
    "# Transform text using final vectorizer\n",
    "X_disc_tfidf = discipline_vectorizer.transform(X_disc)\n",
    "\n",
    "# Cross-validation setup\n",
    "cv = StratifiedKFold(n_splits=5, shuffle=True, random_state=42)\n",
    "\n",
    "# Cross-validate\n",
    "scores = cross_val_score(discipline_model, X_disc_tfidf, y_disc, cv=cv, scoring='accuracy')\n",
    "\n",
    "# Output\n",
    "print(\"✅ Cross-validation complete.\")\n",
    "print(\"Fold-wise Accuracies:\", scores)\n",
    "print(\"Mean Accuracy:\", round(np.mean(scores), 4))\n",
    "print(\"Std Deviation:\", round(np.std(scores), 4))"
   ]
  },
  {
   "cell_type": "markdown",
   "id": "70b3e1ab",
   "metadata": {},
   "source": [
    "## 🧠 Cross-Validation – Subfield Classifier (CS only, v1.2)\n",
    "\n",
    "We now evaluate the CS Subfield classifier (v1.2), which uses an SVM trained with SMOTE-augmented data and bigram TF-IDF features.\n",
    "\n",
    "We'll apply 5-fold stratified cross-validation **within CS abstracts only** using the CS-specific vectorizer and model. This helps verify whether the classifier generalizes well across research subfields in the CS domain."
   ]
  },
  {
   "cell_type": "code",
   "execution_count": 4,
   "id": "0d54aaf9",
   "metadata": {},
   "outputs": [
    {
     "name": "stdout",
     "output_type": "stream",
     "text": [
      "✅ Cross-validation complete (CS Subfield).\n",
      "Fold-wise Accuracies: [0.28571429 0.42857143 0.14285714 0.71428571 0.42857143]\n",
      "Mean Accuracy: 0.4\n",
      "Std Deviation: 0.1895\n"
     ]
    }
   ],
   "source": [
    "from sklearn.model_selection import StratifiedKFold, cross_val_score\n",
    "\n",
    "# Filter for CS discipline only\n",
    "df_cs = df[df['Discipline'] == 'CS']\n",
    "\n",
    "X_cs = df_cs[\"Abstract\"]\n",
    "y_cs = df_cs[\"Subfield\"]\n",
    "\n",
    "# Vectorize using CS-specific bigram TF-IDF\n",
    "X_cs_tfidf = cs_vectorizer.transform(X_cs)\n",
    "\n",
    "# Stratified 5-fold CV\n",
    "cv = StratifiedKFold(n_splits=5, shuffle=True, random_state=42)\n",
    "scores_cs = cross_val_score(cs_model, X_cs_tfidf, y_cs, cv=cv, scoring='accuracy')\n",
    "\n",
    "# Results\n",
    "print(\"✅ Cross-validation complete (CS Subfield).\")\n",
    "print(\"Fold-wise Accuracies:\", scores_cs)\n",
    "print(\"Mean Accuracy:\", round(np.mean(scores_cs), 4))\n",
    "print(\"Std Deviation:\", round(np.std(scores_cs), 4))"
   ]
  },
  {
   "cell_type": "markdown",
   "id": "f8956a4d",
   "metadata": {},
   "source": [
    "## 🧠 Cross-Validation – Subfield Classifier (IS only, v1.2)\n",
    "\n",
    "This section evaluates the IS Subfield classifier (v1.2), which uses an SVM trained with SMOTE and bigram TF-IDF features.\n",
    "\n",
    "We'll perform 5-fold stratified cross-validation on only the IS abstracts using the IS-specific vectorizer and model. This reveals how well the classifier distinguishes subfields within Information Systems."
   ]
  },
  {
   "cell_type": "code",
   "execution_count": 5,
   "id": "2d0dc848",
   "metadata": {},
   "outputs": [
    {
     "name": "stdout",
     "output_type": "stream",
     "text": [
      "✅ Cross-validation complete (IS Subfield).\n",
      "Fold-wise Accuracies: [0.57142857 0.28571429 0.42857143 0.42857143 0.57142857]\n",
      "Mean Accuracy: 0.4571\n",
      "Std Deviation: 0.1069\n"
     ]
    }
   ],
   "source": [
    "# Filter for IS discipline only\n",
    "df_is = df[df['Discipline'] == 'IS']\n",
    "\n",
    "X_is = df_is[\"Abstract\"]\n",
    "y_is = df_is[\"Subfield\"]\n",
    "\n",
    "# Vectorize using IS-specific bigram TF-IDF\n",
    "X_is_tfidf = is_vectorizer.transform(X_is)\n",
    "\n",
    "# Stratified 5-fold CV\n",
    "cv = StratifiedKFold(n_splits=5, shuffle=True, random_state=42)\n",
    "scores_is = cross_val_score(is_model, X_is_tfidf, y_is, cv=cv, scoring='accuracy')\n",
    "\n",
    "# Results\n",
    "print(\"✅ Cross-validation complete (IS Subfield).\")\n",
    "print(\"Fold-wise Accuracies:\", scores_is)\n",
    "print(\"Mean Accuracy:\", round(np.mean(scores_is), 4))\n",
    "print(\"Std Deviation:\", round(np.std(scores_is), 4))"
   ]
  },
  {
   "cell_type": "markdown",
   "id": "a9b27601",
   "metadata": {},
   "source": [
    "## 🧠 Cross-Validation – Subfield Classifier (IT only, v1.2)\n",
    "\n",
    "This section evaluates the IT Subfield classifier (v1.2), using an SVM trained with SMOTE and bigram TF-IDF features.\n",
    "\n",
    "We’ll run 5-fold stratified cross-validation **only on IT abstracts** using the discipline-specific vectorizer and model. This measures how well the model generalizes across research subfields in the IT domain."
   ]
  },
  {
   "cell_type": "code",
   "execution_count": 6,
   "id": "3dd32d33",
   "metadata": {},
   "outputs": [
    {
     "name": "stdout",
     "output_type": "stream",
     "text": [
      "✅ Cross-validation complete (IT Subfield).\n",
      "Fold-wise Accuracies: [0.42857143 0.71428571 0.57142857 0.42857143 0.42857143]\n",
      "Mean Accuracy: 0.5143\n",
      "Std Deviation: 0.1143\n"
     ]
    }
   ],
   "source": [
    "# Filter for IT discipline only\n",
    "df_it = df[df['Discipline'] == 'IT']\n",
    "\n",
    "X_it = df_it[\"Abstract\"]\n",
    "y_it = df_it[\"Subfield\"]\n",
    "\n",
    "# Vectorize using IT-specific bigram TF-IDF\n",
    "X_it_tfidf = it_vectorizer.transform(X_it)\n",
    "\n",
    "# Stratified 5-fold CV\n",
    "cv = StratifiedKFold(n_splits=5, shuffle=True, random_state=42)\n",
    "scores_it = cross_val_score(it_model, X_it_tfidf, y_it, cv=cv, scoring='accuracy')\n",
    "\n",
    "# Results\n",
    "print(\"✅ Cross-validation complete (IT Subfield).\")\n",
    "print(\"Fold-wise Accuracies:\", scores_it)\n",
    "print(\"Mean Accuracy:\", round(np.mean(scores_it), 4))\n",
    "print(\"Std Deviation:\", round(np.std(scores_it), 4))"
   ]
  },
  {
   "cell_type": "markdown",
   "id": "1d0247b9",
   "metadata": {},
   "source": [
    "## 🔬 Cross-Validation – Methodology Classifier (v2.0)\n",
    "\n",
    "This section evaluates the Methodology classifier (v2.0), which uses an SVM trained with SMOTE and bigram TF-IDF features generated from the combined `Title + Abstract` fields.\n",
    "\n",
    "We'll perform 5-fold stratified cross-validation on the full dataset to assess how well the model distinguishes between Qualitative, Quantitative, and Mixed Methods research."
   ]
  },
  {
   "cell_type": "code",
   "execution_count": 7,
   "id": "d48c1b45",
   "metadata": {},
   "outputs": [
    {
     "name": "stdout",
     "output_type": "stream",
     "text": [
      "✅ Cross-validation complete (Methodology Classifier v2.0).\n",
      "Fold-wise Accuracies: [0.52380952 0.76190476 0.61904762 0.57142857 0.71428571]\n",
      "Mean Accuracy: 0.6381\n",
      "Std Deviation: 0.0883\n"
     ]
    }
   ],
   "source": [
    "# Combine Title and Abstract for input\n",
    "X_meth = df[\"Title\"] + \" \" + df[\"Abstract\"]\n",
    "y_meth = df[\"Methodology\"]\n",
    "\n",
    "# Vectorize using the v2.0 Title+Abstract TF-IDF vectorizer\n",
    "X_meth_tfidf = methodology_vectorizer.transform(X_meth)\n",
    "\n",
    "# Stratified 5-fold CV\n",
    "cv = StratifiedKFold(n_splits=5, shuffle=True, random_state=42)\n",
    "scores_meth = cross_val_score(methodology_model, X_meth_tfidf, y_meth, cv=cv, scoring='accuracy')\n",
    "\n",
    "# Results\n",
    "print(\"✅ Cross-validation complete (Methodology Classifier v2.0).\")\n",
    "print(\"Fold-wise Accuracies:\", scores_meth)\n",
    "print(\"Mean Accuracy:\", round(np.mean(scores_meth), 4))\n",
    "print(\"Std Deviation:\", round(np.std(scores_meth), 4))"
   ]
  },
  {
   "cell_type": "markdown",
   "id": "03daed28",
   "metadata": {},
   "source": [
    "## ✅ Cross-Validation Summary – All Final Models\n",
    "\n",
    "Below is the consolidated summary of 5-fold cross-validation results for each finalized classifier.\n",
    "\n",
    "| **Model**                         | **Version** | **Classifier**             | **Input**            | **Mean Accuracy** | **Std Deviation** |\n",
    "|----------------------------------|-------------|-----------------------------|-----------------------|-------------------|-------------------|\n",
    "| Discipline                       | v1.1        | Logistic Regression         | Abstract              | **0.7429**        | 0.1151            |\n",
    "| Subfield – CS                    | v1.2        | SVM + SMOTE                 | Abstract              | **0.4000**        | 0.1895            |\n",
    "| Subfield – IS                    | v1.2        | SVM + SMOTE                 | Abstract              | **0.4571**        | 0.1069            |\n",
    "| Subfield – IT                    | v1.2        | SVM + SMOTE                 | Abstract              | **0.5143**        | 0.1143            |\n",
    "| Methodology                      | v2.0        | SVM + SMOTE                 | Title + Abstract      | **0.6381**        | 0.0883            |\n",
    "\n",
    "> All models were evaluated using stratified 5-fold cross-validation.  \n",
    "> Vectorization was consistent with each model’s architecture (bigram TF-IDF, min_df=2).  \n",
    "> SMOTE was applied during training in Subfield and Methodology models to address class imbalance.\n",
    "\n",
    "---"
   ]
  },
  {
   "cell_type": "code",
   "execution_count": null,
   "id": "dbbe4d6f",
   "metadata": {},
   "outputs": [],
   "source": []
  }
 ],
 "metadata": {
  "kernelspec": {
   "display_name": "Python 3 (ipykernel)",
   "language": "python",
   "name": "python3"
  },
  "language_info": {
   "codemirror_mode": {
    "name": "ipython",
    "version": 3
   },
   "file_extension": ".py",
   "mimetype": "text/x-python",
   "name": "python",
   "nbconvert_exporter": "python",
   "pygments_lexer": "ipython3",
   "version": "3.9.12"
  }
 },
 "nbformat": 4,
 "nbformat_minor": 5
}
