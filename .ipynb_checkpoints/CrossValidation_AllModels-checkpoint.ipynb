{
 "cells": [
  {
   "cell_type": "markdown",
   "id": "1a0b2f06",
   "metadata": {},
   "source": [
    "# 📊 **Cross-Validation for All Models**\n",
    "\n",
    "This notebook performs 5-fold cross-validation to evaluate the stability and generalization performance of multiple classification models. The models being evaluated include:\n",
    "- **Discipline Classifier** (Logistic Regression model for predicting disciplines: CS, IS, IT)\n",
    "- **Subfield Classifiers** (Logistic Regression models for predicting subfields within CS, IS, and IT)\n",
    "- **Methodology Classifier** (Logistic Regression model for predicting research methodologies)\n",
    "\n",
    "Each model is evaluated using cross-validation to ensure robust performance and to avoid overfitting to any specific data split. The goal is to compare these models' performance across different subsets of the dataset."
   ]
  },
  {
   "cell_type": "code",
   "execution_count": 12,
   "id": "01ea1572",
   "metadata": {},
   "outputs": [
    {
     "data": {
      "text/html": [
       "<div>\n",
       "<style scoped>\n",
       "    .dataframe tbody tr th:only-of-type {\n",
       "        vertical-align: middle;\n",
       "    }\n",
       "\n",
       "    .dataframe tbody tr th {\n",
       "        vertical-align: top;\n",
       "    }\n",
       "\n",
       "    .dataframe thead th {\n",
       "        text-align: right;\n",
       "    }\n",
       "</style>\n",
       "<table border=\"1\" class=\"dataframe\">\n",
       "  <thead>\n",
       "    <tr style=\"text-align: right;\">\n",
       "      <th></th>\n",
       "      <th>ID</th>\n",
       "      <th>Discipline</th>\n",
       "      <th>Subfield</th>\n",
       "      <th>Methodology</th>\n",
       "      <th>Abstract</th>\n",
       "    </tr>\n",
       "  </thead>\n",
       "  <tbody>\n",
       "    <tr>\n",
       "      <th>0</th>\n",
       "      <td>1</td>\n",
       "      <td>CS</td>\n",
       "      <td>CYB</td>\n",
       "      <td>QLT</td>\n",
       "      <td>Large Language Models (LLMs), such as ChatGPT ...</td>\n",
       "    </tr>\n",
       "    <tr>\n",
       "      <th>1</th>\n",
       "      <td>2</td>\n",
       "      <td>CS</td>\n",
       "      <td>CV</td>\n",
       "      <td>QNT</td>\n",
       "      <td>Despite the success of deep learning in close-...</td>\n",
       "    </tr>\n",
       "    <tr>\n",
       "      <th>2</th>\n",
       "      <td>3</td>\n",
       "      <td>CS</td>\n",
       "      <td>ML</td>\n",
       "      <td>QLT</td>\n",
       "      <td>Data analysis plays an indispensable role for ...</td>\n",
       "    </tr>\n",
       "    <tr>\n",
       "      <th>3</th>\n",
       "      <td>4</td>\n",
       "      <td>CS</td>\n",
       "      <td>CV</td>\n",
       "      <td>QNT</td>\n",
       "      <td>We present a method to analyze daily activitie...</td>\n",
       "    </tr>\n",
       "    <tr>\n",
       "      <th>4</th>\n",
       "      <td>5</td>\n",
       "      <td>CS</td>\n",
       "      <td>CYB</td>\n",
       "      <td>QNT</td>\n",
       "      <td>Elliptic curve cryptosystems are considered an...</td>\n",
       "    </tr>\n",
       "  </tbody>\n",
       "</table>\n",
       "</div>"
      ],
      "text/plain": [
       "   ID Discipline Subfield Methodology  \\\n",
       "0   1         CS      CYB         QLT   \n",
       "1   2         CS       CV         QNT   \n",
       "2   3         CS       ML         QLT   \n",
       "3   4         CS       CV         QNT   \n",
       "4   5         CS      CYB         QNT   \n",
       "\n",
       "                                            Abstract  \n",
       "0  Large Language Models (LLMs), such as ChatGPT ...  \n",
       "1  Despite the success of deep learning in close-...  \n",
       "2  Data analysis plays an indispensable role for ...  \n",
       "3  We present a method to analyze daily activitie...  \n",
       "4  Elliptic curve cryptosystems are considered an...  "
      ]
     },
     "execution_count": 12,
     "metadata": {},
     "output_type": "execute_result"
    }
   ],
   "source": [
    "# Load the dataset that includes Discipline, Subfield, and Methodology labels\n",
    "data = pd.read_csv('NLP_Abstract_Dataset (Method)(105).csv')\n",
    "X = data['Abstract']  # The text data\n",
    "y_discipline = data['Discipline']  # Discipline labels (CS, IS, IT)\n",
    "y_subfield = data['Subfield']  # Subfield labels (AI, ML, etc.)\n",
    "y_methodology = data['Methodology']  # Methodology labels\n",
    "data.head()  # Check if the dataset has loaded correctly"
   ]
  },
  {
   "cell_type": "markdown",
   "id": "3e07445d",
   "metadata": {},
   "source": [
    "## 2. 🧹 Load Pre-Trained TF-IDF Vectorizer and Logistic Regression Models\n",
    "\n",
    "In this section, we load the **pre-trained TF-IDF vectorizer** and the **Logistic Regression models** that were previously trained on the original dataset. These models include:\n",
    "- **Discipline Classifier**\n",
    "- **Subfield Classifiers** for CS, IS, and IT\n",
    "- **Methodology Classifier**"
   ]
  },
  {
   "cell_type": "code",
   "execution_count": 16,
   "id": "2aa698ac",
   "metadata": {},
   "outputs": [],
   "source": [
    "import joblib\n",
    "\n",
    "# Load TF-IDF vectorizer\n",
    "tfidf_vectorizer = joblib.load('Artefacts/tfidf_vectorizer.pkl')\n",
    "\n",
    "# Load Discipline classifier model\n",
    "discipline_model = joblib.load('Artefacts/discipline_classifier_logreg.pkl')\n",
    "\n",
    "# Load Subfield classifiers (CS, IS, IT)\n",
    "cs_subfield_model = joblib.load('Artefacts/subfield_classifier_logreg_cs.pkl')\n",
    "is_subfield_model = joblib.load('Artefacts/subfield_classifier_logreg_is.pkl')\n",
    "it_subfield_model = joblib.load('Artefacts/subfield_classifier_logreg_it.pkl')\n",
    "\n",
    "# Load Methodology classifier model\n",
    "methodology_model = joblib.load('Artefacts/methodology_classifier_logreg.pkl')"
   ]
  },
  {
   "cell_type": "markdown",
   "id": "bc9bf4e0",
   "metadata": {},
   "source": [
    "## 3. 🔍 Perform 5-Fold Cross-Validation for Discipline Model\n",
    "\n",
    "This section performs 5-fold cross-validation to evaluate the **Discipline Classifier** (Logistic Regression model for predicting disciplines: CS, IS, IT). The cross-validation results will provide an estimate of the model's performance and stability across different subsets of the dataset."
   ]
  },
  {
   "cell_type": "code",
   "execution_count": 19,
   "id": "78db4f65",
   "metadata": {},
   "outputs": [
    {
     "name": "stdout",
     "output_type": "stream",
     "text": [
      "Discipline Model - Cross-validation scores: [0.76190476 0.80952381 0.71428571 0.85714286 0.66666667]\n",
      "Average accuracy: 0.7619047619047619\n",
      "Standard deviation: 0.06734350297014738\n"
     ]
    }
   ],
   "source": [
    "from sklearn.model_selection import cross_val_score\n",
    "\n",
    "# Perform cross-validation for Discipline model\n",
    "discipline_cv_scores = cross_val_score(discipline_model, tfidf_vectorizer.transform(X), y_discipline, cv=5, scoring='accuracy')\n",
    "\n",
    "# Display results\n",
    "print(f\"Discipline Model - Cross-validation scores: {discipline_cv_scores}\")\n",
    "print(f\"Average accuracy: {discipline_cv_scores.mean()}\")\n",
    "print(f\"Standard deviation: {discipline_cv_scores.std()}\")"
   ]
  },
  {
   "cell_type": "markdown",
   "id": "ef012d62",
   "metadata": {},
   "source": [
    "### **4. Perform 5-Fold Cross-Validation for CS, IS, and IT Subfield Classifiers**\n",
    "\n",
    "This section performs **5-fold cross-validation** to evaluate the performance of the **CS Subfield Classifier**, **IS Subfield Classifier**, and **IT Subfield Classifier**.\n",
    "\n",
    "#### **Expected Outcome**:\n",
    "- The **CS Subfield Classifier** predicts subfields like **AI**, **ML**, **CV**, and **CYB** within **Computer Science**.\n",
    "- The **IS Subfield Classifier** predicts subfields like **BSP**, **DSA**, **ENT** within **Information Systems**.\n",
    "- The **IT Subfield Classifier** predicts subfields like **CLD**, **IOTNET**, **OPS** within **Information Technology**.\n",
    "\n",
    "#### **Cross-validation Process**:\n",
    "1. **Data Split**: The dataset is split into 5 subsets (folds).\n",
    "2. **Model Training**: For each fold, the model is trained on 4 of the subsets and tested on the remaining fold.\n",
    "3. **Performance Evaluation**: The accuracy for each fold is recorded, and the average performance is calculated.\n",
    "\n",
    "The cross-validation results will provide an estimate of the model’s stability and generalization ability across different subsets of the dataset."
   ]
  },
  {
   "cell_type": "code",
   "execution_count": null,
   "id": "34a62cc1",
   "metadata": {},
   "outputs": [],
   "source": []
  }
 ],
 "metadata": {
  "kernelspec": {
   "display_name": "Python 3 (ipykernel)",
   "language": "python",
   "name": "python3"
  },
  "language_info": {
   "codemirror_mode": {
    "name": "ipython",
    "version": 3
   },
   "file_extension": ".py",
   "mimetype": "text/x-python",
   "name": "python",
   "nbconvert_exporter": "python",
   "pygments_lexer": "ipython3",
   "version": "3.9.12"
  }
 },
 "nbformat": 4,
 "nbformat_minor": 5
}
