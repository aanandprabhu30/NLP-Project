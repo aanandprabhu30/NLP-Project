{
 "cells": [
  {
   "cell_type": "markdown",
   "id": "2d8cf0cd",
   "metadata": {},
   "source": [
    "# 📚 Cross-Validation for Discipline Classifier\n",
    "\n",
    "This notebook performs 5-fold cross-validation to evaluate the stability and generalization performance of the Discipline Classifier (Logistic Regression model trained on TF-IDF features)."
   ]
  },
  {
   "cell_type": "markdown",
   "id": "99259f24",
   "metadata": {},
   "source": [
    "## 1. 📥 Import Libraries"
   ]
  },
  {
   "cell_type": "code",
   "execution_count": 1,
   "id": "7e2889de",
   "metadata": {},
   "outputs": [],
   "source": [
    "import pandas as pd\n",
    "import joblib\n",
    "from sklearn.model_selection import cross_val_score"
   ]
  },
  {
   "cell_type": "markdown",
   "id": "16d600ea",
   "metadata": {},
   "source": [
    "## 2. 📂 Load Dataset"
   ]
  },
  {
   "cell_type": "code",
   "execution_count": 8,
   "id": "db2261c9",
   "metadata": {},
   "outputs": [
    {
     "data": {
      "text/html": [
       "<div>\n",
       "<style scoped>\n",
       "    .dataframe tbody tr th:only-of-type {\n",
       "        vertical-align: middle;\n",
       "    }\n",
       "\n",
       "    .dataframe tbody tr th {\n",
       "        vertical-align: top;\n",
       "    }\n",
       "\n",
       "    .dataframe thead th {\n",
       "        text-align: right;\n",
       "    }\n",
       "</style>\n",
       "<table border=\"1\" class=\"dataframe\">\n",
       "  <thead>\n",
       "    <tr style=\"text-align: right;\">\n",
       "      <th></th>\n",
       "      <th>ID</th>\n",
       "      <th>Discipline</th>\n",
       "      <th>Abstract</th>\n",
       "    </tr>\n",
       "  </thead>\n",
       "  <tbody>\n",
       "    <tr>\n",
       "      <th>0</th>\n",
       "      <td>1</td>\n",
       "      <td>CS</td>\n",
       "      <td>Large Language Models (LLMs), such as ChatGPT ...</td>\n",
       "    </tr>\n",
       "    <tr>\n",
       "      <th>1</th>\n",
       "      <td>2</td>\n",
       "      <td>CS</td>\n",
       "      <td>Despite the success of deep learning in close-...</td>\n",
       "    </tr>\n",
       "    <tr>\n",
       "      <th>2</th>\n",
       "      <td>3</td>\n",
       "      <td>CS</td>\n",
       "      <td>Data analysis plays an indispensable role for ...</td>\n",
       "    </tr>\n",
       "    <tr>\n",
       "      <th>3</th>\n",
       "      <td>4</td>\n",
       "      <td>CS</td>\n",
       "      <td>The goal of user experience design in industry...</td>\n",
       "    </tr>\n",
       "    <tr>\n",
       "      <th>4</th>\n",
       "      <td>5</td>\n",
       "      <td>CS</td>\n",
       "      <td>Elliptic curve cryptosystems are considered an...</td>\n",
       "    </tr>\n",
       "  </tbody>\n",
       "</table>\n",
       "</div>"
      ],
      "text/plain": [
       "   ID Discipline                                           Abstract\n",
       "0   1         CS  Large Language Models (LLMs), such as ChatGPT ...\n",
       "1   2         CS  Despite the success of deep learning in close-...\n",
       "2   3         CS  Data analysis plays an indispensable role for ...\n",
       "3   4         CS  The goal of user experience design in industry...\n",
       "4   5         CS  Elliptic curve cryptosystems are considered an..."
      ]
     },
     "execution_count": 8,
     "metadata": {},
     "output_type": "execute_result"
    }
   ],
   "source": [
    "# Load the labeled dataset\n",
    "data = pd.read_csv('NLP_Abstract_Dataset (Discipline)(105).csv')  \n",
    "X = data['Abstract']\n",
    "y = data['Discipline']\n",
    "data.head()"
   ]
  },
  {
   "cell_type": "markdown",
   "id": "9bbbeaf9",
   "metadata": {},
   "source": [
    "## 3. 🧹 Load Pre-Trained TF-IDF Vectorizer and Logistic Regression Model"
   ]
  },
  {
   "cell_type": "code",
   "execution_count": 9,
   "id": "77232526",
   "metadata": {},
   "outputs": [],
   "source": [
    "# Load TF-IDF vectorizer and trained Logistic Regression model\n",
    "import joblib\n",
    "\n",
    "tfidf_vectorizer = joblib.load('Artefacts/tfidf_vectorizer.pkl')\n",
    "discipline_model = joblib.load('Artefacts/discipline_classifier_logreg.pkl')"
   ]
  },
  {
   "cell_type": "markdown",
   "id": "1f7fa1ea",
   "metadata": {},
   "source": [
    "## 4. ✨ Transform Input Text Data"
   ]
  },
  {
   "cell_type": "code",
   "execution_count": 10,
   "id": "dbeb8bef",
   "metadata": {},
   "outputs": [],
   "source": [
    "# Transform abstracts into TF-IDF vectors\n",
    "X_tfidf = tfidf_vectorizer.transform(X)"
   ]
  },
  {
   "cell_type": "markdown",
   "id": "e7482755",
   "metadata": {},
   "source": [
    "## 5. 🔍 Perform 5-Fold Cross-Validation"
   ]
  },
  {
   "cell_type": "code",
   "execution_count": 11,
   "id": "8b6961c3",
   "metadata": {},
   "outputs": [
    {
     "name": "stdout",
     "output_type": "stream",
     "text": [
      "Cross-validation scores for each fold: [0.71428571 0.9047619  0.71428571 0.85714286 0.66666667]\n",
      "Average accuracy: 0.7714285714285715\n",
      "Standard deviation: 0.09233675918888246\n"
     ]
    }
   ],
   "source": [
    "# Perform 5-fold cross-validation\n",
    "cv_scores = cross_val_score(discipline_model, X_tfidf, y, cv=5, scoring='accuracy')\n",
    "\n",
    "# Display results\n",
    "print(\"Cross-validation scores for each fold:\", cv_scores)\n",
    "print(\"Average accuracy:\", cv_scores.mean())\n",
    "print(\"Standard deviation:\", cv_scores.std())"
   ]
  },
  {
   "cell_type": "markdown",
   "id": "35c93ce1",
   "metadata": {},
   "source": [
    "## 6. 📝 Interpretation of Results\n",
    "\n",
    "The model achieved an average accuracy of **77.1%** with a standard deviation of **9.2%** across 5 folds. This indicates that the model is stable and generalizes well across different subsets of the data. Some variation is present between the folds, but the overall performance is consistent."
   ]
  },
  {
   "cell_type": "code",
   "execution_count": null,
   "id": "f815c56b",
   "metadata": {},
   "outputs": [],
   "source": []
  }
 ],
 "metadata": {
  "kernelspec": {
   "display_name": "Python 3 (ipykernel)",
   "language": "python",
   "name": "python3"
  },
  "language_info": {
   "codemirror_mode": {
    "name": "ipython",
    "version": 3
   },
   "file_extension": ".py",
   "mimetype": "text/x-python",
   "name": "python",
   "nbconvert_exporter": "python",
   "pygments_lexer": "ipython3",
   "version": "3.9.12"
  }
 },
 "nbformat": 4,
 "nbformat_minor": 5
}
