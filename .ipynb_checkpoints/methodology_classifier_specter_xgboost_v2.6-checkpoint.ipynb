{
 "cells": [
  {
   "cell_type": "markdown",
   "id": "12a1c241-2da6-456a-9c93-bdf86ab9a346",
   "metadata": {},
   "source": [
    "# 🧠 Methodology Classifier – Two-Stage XGBoost (v2.6)\n",
    "\n",
    "### SPECTER embeddings + XGBoost\n",
    "- Stage 1: Binary classification (Mixed vs Non-Mixed)\n",
    "- Stage 2: Qual vs Quant (on Non-Mixed only)\n",
    "\n",
    "`Objective:` Improve F1 for “Mixed” class by decomposing the problem."
   ]
  },
  {
   "cell_type": "markdown",
   "id": "c94d8889-590d-4ba0-ad5e-292c44d5ca4a",
   "metadata": {},
   "source": [
    "### 📥 1. Load Dataset & Generate SPECTER Embeddings\n",
    "\n",
    "We begin by loading the full methodology dataset (2028 samples).  \n",
    "We then extract the title + abstract and generate SPECTER embeddings using the pretrained `allenai/specter` model (768-dim).  \n",
    "These embeddings will be reused for both Stage 1 and Stage 2 classifiers."
   ]
  },
  {
   "cell_type": "code",
   "execution_count": 2,
   "id": "736d0b2c-8b39-4cb3-b48e-1d82f0037e91",
   "metadata": {},
   "outputs": [
    {
     "name": "stdout",
     "output_type": "stream",
     "text": [
      "Dataset shape: (2028, 5)\n"
     ]
    },
    {
     "data": {
      "application/vnd.jupyter.widget-view+json": {
       "model_id": "dbecbd6a6d4747e99bdd90dff7a76e2a",
       "version_major": 2,
       "version_minor": 0
      },
      "text/plain": [
       "Batches:   0%|          | 0/64 [00:00<?, ?it/s]"
      ]
     },
     "metadata": {},
     "output_type": "display_data"
    },
    {
     "name": "stdout",
     "output_type": "stream",
     "text": [
      "Embeddings shape: (2028, 768)\n",
      "Sample vector (first abstract):\n",
      " [-1.14805758e-01  8.51130724e-01 -1.20089293e-01 -1.63972080e-01\n",
      "  3.54924500e-01  2.40525514e-01  5.17849088e-01  1.04432058e+00\n",
      "  1.08649468e+00  3.10504436e-01 -9.74301338e-01  1.20855045e+00\n",
      " -3.87243181e-03 -2.79676348e-01 -1.05731523e+00 -5.70281208e-01\n",
      " -6.12696111e-02 -8.59152853e-01 -2.57898152e-01 -4.28647220e-01\n",
      " -6.33376420e-01 -1.00486565e+00  6.60180211e-01  2.39879549e-01\n",
      "  1.98078662e-01  7.84051269e-02 -1.92397088e-01 -1.04158354e+00\n",
      " -1.76967144e-01  1.32370865e+00  1.02275503e+00  8.20146859e-01\n",
      " -1.86453712e+00  7.38979757e-01 -1.15199411e+00 -7.55960882e-01\n",
      "  4.73479182e-02  3.40023667e-01 -4.78077024e-01 -2.11381465e-01\n",
      " -3.47385466e-01  5.10201275e-01  7.60149479e-01 -8.86295289e-02\n",
      "  1.15361333e+00 -2.89257973e-01 -2.76398033e-01 -4.43103343e-01\n",
      "  6.30684793e-01  3.51873010e-01 -3.53338182e-01  1.03395689e+00\n",
      "  9.52570140e-01  5.56877971e-01  3.96855921e-01  1.17334299e-01\n",
      "  1.66597903e-01 -2.25641742e-01  8.25099573e-02 -5.09588480e-01\n",
      "  4.13161784e-01  7.89266884e-01 -3.78268272e-01  5.71053661e-02\n",
      "  3.05702597e-01 -2.33460382e-01  6.60897732e-01  9.11545515e-01\n",
      " -1.24126792e-01  3.65565598e-01 -2.27691323e-01 -9.46287453e-01\n",
      "  6.66082859e-01 -1.50037006e-01 -1.00343540e-01  2.73602843e-01\n",
      " -5.93922734e-02 -1.06445432e+00  7.88421810e-01 -3.39880347e-01\n",
      " -5.80380671e-02  8.26036572e-01  4.45527196e-01 -2.94764310e-01\n",
      " -4.78607327e-01 -1.00591242e+00  3.81080717e-01 -1.24146438e+00\n",
      " -1.47878990e-01 -7.54632533e-01  7.35438049e-01 -4.71796989e-01\n",
      "  4.12192017e-01  2.93561816e-02 -8.18535864e-01  2.09221601e-01\n",
      " -5.84161103e-01  9.40115303e-02 -8.82928848e-01  5.91983974e-01\n",
      "  4.94108796e-01  2.42664412e-01  1.00952220e+00 -1.24114287e+00\n",
      "  5.82647026e-01  1.15162003e+00 -9.58987415e-01 -6.13844514e-01\n",
      " -5.78404248e-01 -2.74342895e-01  3.21784556e-01 -9.52815264e-02\n",
      " -8.97872865e-01  1.26915717e+00 -5.65951109e-01  1.10494010e-01\n",
      "  4.09379900e-01  5.42115331e-01 -3.57733846e-01  2.92551100e-01\n",
      " -1.13491289e-01 -1.01631427e+00 -2.24088103e-01  4.81220961e-01\n",
      "  7.20913947e-01 -2.71621674e-01  3.67212355e-01  2.05867469e-01\n",
      "  1.83659345e-01 -9.72535908e-01  9.73679662e-01  6.94231331e-01\n",
      " -4.85972986e-02 -5.03381789e-01  2.98750854e+00 -1.30201435e+00\n",
      "  4.60072815e-01  1.96448579e-01  1.61458284e-01  4.17109489e-01\n",
      " -1.07071614e+00  7.18145907e-01  6.76394820e-01 -4.83732969e-01\n",
      " -1.37383318e+00  7.14409590e-01 -6.71535194e-01  4.02147442e-01\n",
      " -1.63158131e+00  2.59550482e-01 -3.36378425e-01  1.24902391e+00\n",
      " -8.29784870e-01 -1.18626642e+00 -7.15513006e-02  5.23073077e-01\n",
      " -3.15153539e-01 -1.07286520e-01 -1.18972015e+00 -2.68633425e-01\n",
      "  4.25783128e-01  3.75878155e-01 -9.54386294e-02  1.09817481e+00\n",
      " -7.06167161e-01  4.20624435e-01  1.32956696e+00 -5.89972913e-01\n",
      " -7.77809143e-01  1.09812491e-01  4.84758854e-01 -5.91154695e-01\n",
      " -2.84601182e-01 -5.85277617e-01  3.50205481e-01  6.98618352e-01\n",
      "  1.07294858e+00 -5.66494048e-01  7.02999175e-01 -8.24778974e-01\n",
      " -1.39628649e+00 -2.44840346e-02 -1.00668168e+00  1.33031487e+00\n",
      " -6.24772549e-01  6.85843825e-02 -2.39603519e+00  4.55417395e-01\n",
      " -1.61323249e-01 -4.87082183e-01 -1.10610165e-01 -9.09426630e-01\n",
      "  1.48856401e-01  9.17495191e-01  3.73762786e-01 -3.22239518e-01\n",
      "  2.99052708e-02 -1.62148237e+00  6.84829235e-01  8.59661758e-01\n",
      " -6.60723150e-01  9.31920826e-01 -6.64064348e-01  2.16999993e-01\n",
      "  1.01308703e+00 -2.25606531e-01 -3.92752260e-01 -2.48133135e+00\n",
      "  8.89215618e-02  1.21368647e+00  6.82530224e-01 -2.03268677e-01\n",
      " -6.55723274e-01 -7.82781124e-01 -2.69038558e-01 -3.15188259e-01\n",
      "  1.86311662e-01 -7.79609144e-01  2.38689989e-01 -1.37643290e+00\n",
      "  5.11894882e-01  5.39794087e-01  5.77948987e-01  3.88038784e-01\n",
      "  1.15492821e+00 -1.34556711e-01  3.63962948e-02  3.97757322e-01\n",
      " -9.29384768e-01  5.63986063e-01  1.09883118e+00 -5.91896772e-01\n",
      "  9.52335596e-01  2.40146235e-01 -6.72180057e-02  8.91291201e-01\n",
      "  1.00445020e+00 -2.41106689e-01 -6.06167197e-01  3.85188520e-01\n",
      "  5.26776165e-02 -1.93568006e-01 -6.85481131e-02 -9.98301089e-01\n",
      " -2.20334440e-01  2.09054679e-01 -4.85203564e-01 -5.38013160e-01\n",
      " -8.30125436e-02 -3.39547276e-01  8.22446942e-01  5.96459091e-01\n",
      " -8.87835324e-02  2.45318681e-01 -8.33252132e-01  1.06986493e-01\n",
      " -1.58714309e-01 -3.86949852e-02 -8.41887951e-01  4.46345747e-01\n",
      "  4.64595348e-01 -5.91908813e-01 -7.50136793e-01 -6.09341934e-02\n",
      " -4.61761206e-01 -6.36501491e-01 -1.29878759e+00 -2.29021728e-01\n",
      " -7.74665713e-01 -3.51229340e-01 -5.63044250e-01 -3.36175382e-01\n",
      " -1.01436222e+00 -4.19619530e-01  6.64160848e-01  1.45181522e-01\n",
      " -5.71465969e-01  4.13901359e-02  1.55487180e+00  4.64250267e-01\n",
      "  4.46821958e-01  4.97014999e-01  8.13859820e-01 -1.90030947e-01\n",
      "  9.17638898e-01 -5.35133123e-01 -6.60628557e-01 -1.13526618e+00\n",
      " -4.05462503e-01 -1.12373817e+00 -1.09078988e-01  3.65421385e-01\n",
      " -1.17328441e+00 -8.12235057e-01  1.81530505e-01  4.08995569e-01\n",
      "  5.75567901e-01  1.06238395e-01 -2.91148663e-01 -5.88050187e-01\n",
      "  1.61198139e+00  2.89140105e-01 -1.42859161e+00  9.24163237e-02\n",
      " -1.01993155e+00 -3.87896121e-01  5.34805477e-01 -2.41011962e-01\n",
      "  6.82647705e-01  1.07029036e-01 -2.31298462e-01  9.14829016e-01\n",
      "  3.14398855e-01 -2.53064966e+00  6.64573669e-01  2.57303208e-01\n",
      "  5.31037867e-01 -4.09589887e-01  3.08365107e-01  1.11914143e-01\n",
      " -7.07763016e-01 -6.07391372e-02 -1.13280497e-01  8.96772519e-02\n",
      "  5.83749712e-01  8.78527224e-01  1.14390492e+00 -8.59640658e-01\n",
      " -1.22652948e+00  4.77182865e-03  1.10262036e+00 -1.21876173e-01\n",
      " -1.54466242e-01  5.27025044e-01  1.08464181e+00  2.03870699e-01\n",
      "  5.58750510e-01 -2.76441038e-01  9.10281718e-01  1.58559158e-01\n",
      " -4.25160646e-01  5.78440607e-01  8.45337868e-01  7.78324723e-01\n",
      " -2.27334917e-01 -3.19830701e-03 -7.87433684e-02 -1.68281615e-01\n",
      "  4.39538240e-01  1.14617455e+00  5.86017847e-01 -5.90074956e-01\n",
      " -4.95889157e-01 -6.29548192e-01 -1.22834420e+00 -9.87991691e-01\n",
      "  1.24121451e+00  1.71989679e+00  1.24638522e+00  2.96735223e-02\n",
      "  7.32764781e-01 -1.79039240e-01  8.80380720e-02  2.41390869e-01\n",
      "  5.06403983e-01  1.34557331e+00 -9.99324918e-01  6.83363557e-01\n",
      "  5.49083948e-01  8.90520811e-02  5.41419923e-01 -9.10552442e-01\n",
      " -4.29502219e-01  8.88123095e-01 -8.96940053e-01  2.86753237e-01\n",
      " -5.51990449e-01  4.41216826e-01  2.36261201e+00 -6.82160378e-01\n",
      " -7.02095106e-02 -4.52181578e-01 -8.40978503e-01 -5.14550023e-02\n",
      "  1.18876003e-01  5.57263851e-01  1.50893092e-01 -1.10408261e-01\n",
      "  7.89583206e-01  8.65505338e-02  1.15213549e+00  7.29684234e-01\n",
      " -6.97993487e-03 -1.99966753e+00 -5.79373315e-02 -9.21655178e-01\n",
      "  5.30945420e-01 -5.06401479e-01 -1.83902942e-02 -9.51903164e-02\n",
      "  1.14165939e-01 -3.58475477e-01 -3.92447472e-01  7.09224939e-02\n",
      " -1.06977396e-01 -1.26525834e-01  4.21382666e-01  1.37879574e+00\n",
      " -1.37061000e-01 -1.40699887e+00 -6.20884895e-01 -9.37192023e-01\n",
      " -5.15556395e-01 -4.90756094e-01 -6.98753417e-01  4.05054390e-01\n",
      "  5.34693658e-01  6.04990840e-01  1.04112566e+00  6.84620500e-01\n",
      " -4.13420379e-01  1.39568627e+00  1.39854455e+00 -7.18623936e-01\n",
      " -8.85609090e-02 -1.32691658e+00  1.30805933e+00  4.97650027e-01\n",
      " -9.45053101e-01 -6.07749343e-01  6.31671995e-02 -6.91118956e-01\n",
      "  7.38939792e-02 -3.36104155e-01 -3.76460522e-01 -1.16770959e+00\n",
      "  8.43112707e-01 -2.12723613e-01 -1.01061121e-01 -1.17906943e-01\n",
      " -6.92911744e-01  2.58534346e-02  1.77648592e+00 -6.35681450e-01\n",
      " -7.63796806e-01  7.81691492e-01 -1.29609048e-01  8.13878894e-01\n",
      " -1.53166249e-01 -2.84015507e-01  9.00993884e-01  1.23485255e+00\n",
      " -7.05120683e-01 -5.48241317e-01 -1.07639217e+01  1.19946003e+00\n",
      " -3.43677908e-01  1.17592180e+00  8.06499273e-02  2.59477288e-01\n",
      "  3.09009045e-01 -6.94226474e-02 -5.09533733e-02 -5.35201728e-01\n",
      "  2.64924139e-01  1.95140088e+00  3.32286984e-01 -8.37727338e-02\n",
      " -3.16902816e-01 -1.50297081e+00 -1.46951020e-01 -7.35936999e-01\n",
      "  3.29041839e-01  3.70396316e-01  5.97776651e-01 -1.47997582e+00\n",
      "  3.34786892e-01 -4.69805241e-01  4.60720152e-01 -1.53631158e-02\n",
      "  3.94928716e-02 -2.11521178e-01 -3.07239175e-01  9.55815464e-02\n",
      "  6.08402729e-01  3.07983130e-01  3.61541271e-01  1.64454460e-01\n",
      "  1.42591581e-01  6.11755013e-01 -5.49551606e-01  2.91782022e-01\n",
      "  5.16353786e-01 -3.53071123e-01 -5.95417500e-01  5.15249074e-01\n",
      "  5.19455373e-01 -1.40949562e-01 -2.00460464e-01  2.27718800e-02\n",
      "  1.26729626e-02 -6.37628257e-01  4.40109640e-01 -8.89153183e-01\n",
      "  2.90389657e-01 -9.62909400e-01  1.14530534e-01 -9.26395893e-01\n",
      "  8.35586846e-01  3.71287405e-01 -1.21109450e+00 -9.59338486e-01\n",
      " -5.17016113e-01 -1.74529874e+00  8.40111673e-01  4.73794699e-01\n",
      "  5.94521701e-01  1.26997554e+00  7.00852513e-01 -1.81270868e-01\n",
      "  6.87208295e-01  5.15859604e-01 -2.55200326e-01  1.04411161e+00\n",
      " -1.19311547e+00  1.22967923e+00  2.20946074e-01 -3.38719636e-01\n",
      " -1.80761695e-01 -3.04402828e-01  1.84793264e-01 -4.21521142e-02\n",
      "  1.36887237e-01 -2.78443217e-01 -5.10224700e-01  9.13021564e-01\n",
      " -3.57818842e-01 -1.02513683e+00 -8.22585166e-01 -8.03121775e-02\n",
      " -1.26571345e+00 -2.94337869e-01  1.46539426e+00 -2.03426152e-01\n",
      "  1.10324371e+00 -4.01938587e-01 -4.07609165e-01 -1.00017726e-01\n",
      " -1.30234778e+00  5.07781565e-01 -6.25372529e-01  6.85736179e-01\n",
      " -1.13646105e-01 -3.16358924e-01 -7.36349106e-01 -2.47074872e-01\n",
      " -1.02212346e+00 -6.48175552e-02  6.45886302e-01  2.04329997e-01\n",
      "  5.26903212e-01 -1.94355339e-01  6.36840403e-01 -4.40955870e-02\n",
      "  5.57574153e-01  2.44357705e-01  5.37094437e-02  1.94667768e+00\n",
      " -5.74988484e-01  9.75632012e-01 -6.06765859e-02 -4.79287580e-02\n",
      "  9.04689431e-01  2.18685329e-01  2.85721064e-01  5.26024282e-01\n",
      "  4.06076252e-01  7.08028793e-01 -1.09525681e+00  1.58226514e+00\n",
      "  9.33111727e-01 -2.07934856e-01 -9.67269659e-01 -9.21580613e-01\n",
      " -4.10261542e-01 -6.14091098e-01  4.65309173e-01 -7.41781890e-01\n",
      " -2.37947777e-01 -1.14462756e-01 -8.34844768e-01  7.22081184e-01\n",
      " -6.80891216e-01  3.46317619e-01 -6.52786791e-01 -8.00602883e-02\n",
      " -1.16984367e+00 -7.48213589e-01 -1.15252161e+00  1.26399541e+00\n",
      " -8.83188605e-01 -3.51756692e-01 -2.14178458e-01 -1.15574884e+00\n",
      " -3.99473161e-01 -1.30024660e+00  6.37284338e-01 -3.73769403e-01\n",
      " -3.69898587e-01 -4.94014591e-01  1.41604388e+00 -3.00949216e-01\n",
      " -1.15971291e+00 -1.12241936e+00  9.84071255e-01  1.97658467e+00\n",
      "  1.08181305e-01 -1.55683100e-01 -1.17375195e-01 -5.00528552e-02\n",
      " -3.38553309e-01 -3.53797317e-01  4.38202113e-01 -5.91066957e-01\n",
      "  5.54300904e-01 -7.96904266e-01  2.58329418e-02  1.43378705e-01\n",
      "  5.75328350e-01  2.40746468e-01  4.69177604e-01  5.98869681e-01\n",
      " -1.04230821e+00  7.46210873e-01 -5.35886645e-01  8.08435321e-01\n",
      "  1.20562685e+00 -1.25200725e+00  1.66341364e-01 -4.24354821e-01\n",
      "  8.28735352e-01  5.75308025e-01 -2.38561720e-01  1.60310715e-01\n",
      " -4.14993227e-01 -1.16618872e+00 -1.03525567e+00  8.49819601e-01\n",
      "  3.75870764e-01  6.73025250e-01 -2.49452606e-01  3.66597444e-01\n",
      " -3.31355631e-01  5.03831029e-01 -4.90845859e-01  1.02972341e+00\n",
      "  8.73557687e-01 -8.38679254e-01  6.64498806e-01 -1.56286538e-01\n",
      " -7.44879961e-01  1.26949787e-01  1.41892600e+00  3.93432230e-01\n",
      " -1.56727087e+00  6.06775403e-01 -3.20456386e-01 -7.37575591e-01\n",
      " -3.58444184e-01 -9.63864446e-01  3.57891992e-02  1.02040246e-01\n",
      " -3.19054514e-01 -5.24083257e-01  1.45714790e-01 -1.33095711e-01\n",
      " -3.16747755e-01  6.37338281e-01  1.45587444e-01  1.94830939e-01\n",
      "  1.19774118e-01  1.85041040e-01  7.46626556e-01 -3.25501055e-01\n",
      " -9.77215350e-01  8.09642494e-01 -1.15483952e+00 -3.33198160e-01\n",
      " -5.91498911e-01  2.93504715e-01 -8.28658402e-01  3.90902162e-01\n",
      " -5.38029194e-01 -2.44019851e-02 -7.93377936e-01  8.82465094e-02\n",
      "  1.66774467e-02  7.09173799e-01 -7.52726197e-02 -1.08097768e+00\n",
      " -6.58831239e-01  5.47650456e-03 -7.07822561e-01  8.45070302e-01\n",
      "  4.84174699e-01  3.60224605e-01  6.61000013e-01 -1.87834814e-01\n",
      "  1.16818714e+00  7.19097555e-01  9.66102034e-02 -2.01011837e-01\n",
      "  3.60361695e-01  1.97446012e+00  4.33780402e-01 -4.28117186e-01\n",
      "  4.52057898e-01 -5.19162044e-02  1.33036733e-01 -3.12218636e-01\n",
      " -8.79682839e-01  5.30195892e-01  4.55956161e-01 -5.01832664e-01\n",
      "  9.18652356e-01  9.17792022e-02  8.66713524e-01 -7.92634964e-01\n",
      "  4.27259266e-01 -5.32288194e-01 -7.71726310e-01 -5.01796961e-01\n",
      " -2.37383023e-01  1.93225488e-01  4.82253283e-01 -7.53318071e-01\n",
      " -3.83347929e-01  5.38844824e-01  3.62278700e-01  4.88382250e-01\n",
      "  7.31010064e-02 -2.69956350e-01  5.89728355e-01 -3.90434146e-01\n",
      "  5.97537220e-01  4.75652009e-01 -3.48090649e-01 -1.15261130e-01\n",
      "  4.28953022e-01 -2.40988582e-01  4.82576191e-01 -6.63503289e-01\n",
      " -3.02406520e-01 -2.47888360e-02  7.63486147e-01 -6.24008656e-01\n",
      "  1.85574591e-01  5.47638416e-01 -6.68513924e-02 -9.37450230e-01\n",
      "  1.90517116e+00  7.33391762e-01  1.84792187e-02 -2.33940840e-01\n",
      " -1.25545859e-01  4.28909659e-01  1.54446661e+00  7.45115459e-01]\n"
     ]
    }
   ],
   "source": [
    "import pandas as pd\n",
    "import numpy as np\n",
    "from sentence_transformers import SentenceTransformer\n",
    "\n",
    "# Load dataset\n",
    "df = pd.read_csv(\"Data/methodology.csv\")\n",
    "print(\"Dataset shape:\", df.shape)\n",
    "\n",
    "# Combine Title + Abstract\n",
    "df[\"full_text\"] = df[\"Title\"].fillna('') + \". \" + df[\"Abstract\"].fillna('')\n",
    "\n",
    "# Generate SPECTER embeddings\n",
    "specter = SentenceTransformer('allenai-specter')\n",
    "embeddings = specter.encode(df[\"full_text\"].tolist(), show_progress_bar=True)\n",
    "\n",
    "# Check shape and preview a row\n",
    "print(\"Embeddings shape:\", embeddings.shape)\n",
    "print(\"Sample vector (first abstract):\\n\", embeddings[0])"
   ]
  },
  {
   "cell_type": "code",
   "execution_count": 3,
   "id": "21f81eed-8257-4508-ab6e-0d8b035b45c5",
   "metadata": {},
   "outputs": [
    {
     "name": "stdout",
     "output_type": "stream",
     "text": [
      "✅ Embeddings saved to Artefacts/methodology_specter_embeddings_v2.6.pkl\n"
     ]
    }
   ],
   "source": [
    "import joblib\n",
    "\n",
    "# Save embeddings as .pkl\n",
    "joblib.dump(embeddings, \"Artefacts/methodology_specter_embeddings_v2.6.pkl\")\n",
    "print(\"✅ Embeddings saved to Artefacts/methodology_specter_embeddings_v2.6.pkl\")"
   ]
  },
  {
   "cell_type": "markdown",
   "id": "25134f3f-9efc-427e-81f1-c6b1993d34d6",
   "metadata": {},
   "source": [
    "### 🔎 2. Stage 1 – Train Binary Classifier (Mixed vs Non-Mixed)\n",
    "\n",
    "We relabel the Methodology dataset into a binary classification task:  \n",
    "- **Mixed** → `1`  \n",
    "- **Qualitative** or **Quantitative** → `0`\n",
    "\n",
    "We then split the data, train an XGBoost classifier using the SPECTER embeddings, and evaluate its ability to distinguish Mixed-method abstracts from the rest."
   ]
  },
  {
   "cell_type": "code",
   "execution_count": 4,
   "id": "5bd503fe-9f4f-420a-8050-70429c7eedbb",
   "metadata": {},
   "outputs": [
    {
     "name": "stderr",
     "output_type": "stream",
     "text": [
      "/opt/anaconda3/envs/nlp-bert/lib/python3.10/site-packages/xgboost/training.py:183: UserWarning: [16:12:43] WARNING: /Users/runner/work/xgboost/xgboost/src/learner.cc:738: \n",
      "Parameters: { \"use_label_encoder\" } are not used.\n",
      "\n",
      "  bst.update(dtrain, iteration=i, fobj=obj)\n"
     ]
    },
    {
     "name": "stdout",
     "output_type": "stream",
     "text": [
      "🔍 Binary Mixed vs Non-Mixed Classification Report:\n",
      "\n",
      "              precision    recall  f1-score   support\n",
      "\n",
      "   Non-Mixed       0.84      0.97      0.90       338\n",
      "       Mixed       0.25      0.04      0.07        68\n",
      "\n",
      "    accuracy                           0.82       406\n",
      "   macro avg       0.54      0.51      0.49       406\n",
      "weighted avg       0.74      0.82      0.76       406\n",
      "\n",
      "Confusion Matrix:\n",
      " [[329   9]\n",
      " [ 65   3]]\n"
     ]
    }
   ],
   "source": [
    "from sklearn.model_selection import train_test_split\n",
    "from sklearn.metrics import classification_report, confusion_matrix\n",
    "from xgboost import XGBClassifier\n",
    "\n",
    "# Binary label: 1 if Mixed, else 0\n",
    "df[\"binary_mixed\"] = df[\"Methodology\"].apply(lambda x: 1 if x == \"Mixed\" else 0)\n",
    "y_binary = df[\"binary_mixed\"].values\n",
    "\n",
    "# Train/test split\n",
    "X_train, X_test, y_train, y_test = train_test_split(embeddings, y_binary, test_size=0.2, random_state=42, stratify=y_binary)\n",
    "\n",
    "# Train binary classifier\n",
    "clf_binary = XGBClassifier(use_label_encoder=False, eval_metric='logloss', random_state=42)\n",
    "clf_binary.fit(X_train, y_train)\n",
    "\n",
    "# Predict and evaluate\n",
    "y_pred = clf_binary.predict(X_test)\n",
    "print(\"🔍 Binary Mixed vs Non-Mixed Classification Report:\\n\")\n",
    "print(classification_report(y_test, y_pred, target_names=[\"Non-Mixed\", \"Mixed\"]))\n",
    "print(\"Confusion Matrix:\\n\", confusion_matrix(y_test, y_pred))"
   ]
  },
  {
   "cell_type": "markdown",
   "id": "38f699d4-a072-47eb-8a92-680def7df174",
   "metadata": {},
   "source": [
    "### 🔧 2B – Threshold Tuning for Mixed Recall\n",
    "\n",
    "My trained classifier shows very low recall for the `Mixed` class, likely because most Mixed-class probabilities fall below the default threshold of 0.5.  \n",
    "Here, we apply custom threshold tuning to optimize recall and F1 for the Mixed class.\n",
    "\n",
    "I loop through various probability thresholds (e.g., 0.1 to 0.5) and observe the effect on classification performance."
   ]
  },
  {
   "cell_type": "code",
   "execution_count": 5,
   "id": "45208430-e9d1-4cff-b5e3-6c1cfdc366ad",
   "metadata": {},
   "outputs": [
    {
     "name": "stdout",
     "output_type": "stream",
     "text": [
      "   Threshold  Precision    Recall        F1\n",
      "0       0.10   0.285714  0.264706  0.274809\n",
      "1       0.15   0.311111  0.205882  0.247788\n",
      "2       0.20   0.333333  0.161765  0.217822\n",
      "3       0.25   0.357143  0.147059  0.208333\n",
      "4       0.30   0.333333  0.117647  0.173913\n",
      "5       0.35   0.250000  0.073529  0.113636\n",
      "6       0.40   0.200000  0.044118  0.072289\n",
      "7       0.45   0.250000  0.044118  0.075000\n",
      "8       0.50   0.250000  0.044118  0.075000\n",
      "9       0.55   0.222222  0.029412  0.051948\n"
     ]
    }
   ],
   "source": [
    "from sklearn.metrics import f1_score, classification_report\n",
    "\n",
    "# Get predicted probabilities for the test set\n",
    "y_proba = clf_binary.predict_proba(X_test)[:, 1]  # Probability for class 1 = \"Mixed\"\n",
    "\n",
    "thresholds = np.arange(0.1, 0.6, 0.05)\n",
    "results = []\n",
    "\n",
    "for threshold in thresholds:\n",
    "    y_pred_thresh = (y_proba >= threshold).astype(int)\n",
    "    f1 = f1_score(y_test, y_pred_thresh, pos_label=1)\n",
    "    recall = sum((y_test == 1) & (y_pred_thresh == 1)) / sum(y_test == 1)\n",
    "    precision = sum((y_test == 1) & (y_pred_thresh == 1)) / max(1, sum(y_pred_thresh == 1))\n",
    "    results.append((threshold, precision, recall, f1))\n",
    "\n",
    "# Display results\n",
    "results_df = pd.DataFrame(results, columns=[\"Threshold\", \"Precision\", \"Recall\", \"F1\"])\n",
    "print(results_df)"
   ]
  },
  {
   "cell_type": "code",
   "execution_count": 6,
   "id": "59947455-9786-42e5-be36-87557b2eb5b2",
   "metadata": {},
   "outputs": [
    {
     "name": "stdout",
     "output_type": "stream",
     "text": [
      "✅ Saved to Artefacts/methodology_binary_mixed_model_v2.6.pkl\n"
     ]
    }
   ],
   "source": [
    "# Save binary classifier model\n",
    "joblib.dump(clf_binary, \"Artefacts/methodology_binary_mixed_model_v2.6.pkl\")\n",
    "print(\"✅ Saved to Artefacts/methodology_binary_mixed_model_v2.6.pkl\")"
   ]
  },
  {
   "cell_type": "markdown",
   "id": "8b9dc3d0-68e4-417f-b371-9be59fd7c29e",
   "metadata": {},
   "source": [
    "### 🔄 3. Stage 2 – Train Qual vs Quant Classifier (on Non-Mixed Samples)\n",
    "\n",
    "Now that we have a binary classifier to detect `Mixed` papers,  \n",
    "we build a second XGBoost model to distinguish between `Qualitative` and `Quantitative` among the remaining papers.\n",
    "\n",
    "We filter out all `Mixed` samples from the dataset, train the classifier on SPECTER embeddings + methodology labels,  \n",
    "and evaluate its performance."
   ]
  },
  {
   "cell_type": "code",
   "execution_count": 7,
   "id": "e228261d-03ce-4cc3-aeb5-84bb4829f896",
   "metadata": {},
   "outputs": [
    {
     "name": "stdout",
     "output_type": "stream",
     "text": [
      "Label mapping: {'Qualitative': np.int64(0), 'Quantitative': np.int64(1)}\n"
     ]
    },
    {
     "name": "stderr",
     "output_type": "stream",
     "text": [
      "/opt/anaconda3/envs/nlp-bert/lib/python3.10/site-packages/xgboost/training.py:183: UserWarning: [16:13:06] WARNING: /Users/runner/work/xgboost/xgboost/src/learner.cc:738: \n",
      "Parameters: { \"use_label_encoder\" } are not used.\n",
      "\n",
      "  bst.update(dtrain, iteration=i, fobj=obj)\n"
     ]
    },
    {
     "name": "stdout",
     "output_type": "stream",
     "text": [
      "🔍 Qual vs Quant Classification Report:\n",
      "\n",
      "              precision    recall  f1-score   support\n",
      "\n",
      " Qualitative       0.89      0.83      0.86       153\n",
      "Quantitative       0.87      0.92      0.89       185\n",
      "\n",
      "    accuracy                           0.88       338\n",
      "   macro avg       0.88      0.87      0.88       338\n",
      "weighted avg       0.88      0.88      0.88       338\n",
      "\n",
      "Confusion Matrix:\n",
      " [[127  26]\n",
      " [ 15 170]]\n"
     ]
    }
   ],
   "source": [
    "# Filter Non-Mixed samples\n",
    "df_non_mixed = df[df[\"Methodology\"].isin([\"Qualitative\", \"Quantitative\"])].copy()\n",
    "y_qualquant = df_non_mixed[\"Methodology\"].values\n",
    "\n",
    "# Extract corresponding embeddings\n",
    "non_mixed_indices = df_non_mixed.index.tolist()\n",
    "X_non_mixed = embeddings[non_mixed_indices]\n",
    "\n",
    "# Encode labels\n",
    "from sklearn.preprocessing import LabelEncoder\n",
    "le = LabelEncoder()\n",
    "y_encoded = le.fit_transform(y_qualquant)  # 0 = Qualitative, 1 = Quantitative\n",
    "print(\"Label mapping:\", dict(zip(le.classes_, le.transform(le.classes_))))\n",
    "\n",
    "# Split and train\n",
    "from sklearn.model_selection import train_test_split\n",
    "X_train2, X_test2, y_train2, y_test2 = train_test_split(X_non_mixed, y_encoded, test_size=0.2, random_state=42, stratify=y_encoded)\n",
    "\n",
    "clf_qualquant = XGBClassifier(use_label_encoder=False, eval_metric='logloss', random_state=42)\n",
    "clf_qualquant.fit(X_train2, y_train2)\n",
    "\n",
    "# Evaluate\n",
    "from sklearn.metrics import classification_report, confusion_matrix\n",
    "y_pred2 = clf_qualquant.predict(X_test2)\n",
    "print(\"🔍 Qual vs Quant Classification Report:\\n\")\n",
    "print(classification_report(y_test2, y_pred2, target_names=le.classes_))\n",
    "print(\"Confusion Matrix:\\n\", confusion_matrix(y_test2, y_pred2))"
   ]
  },
  {
   "cell_type": "code",
   "execution_count": 8,
   "id": "37f0506a-d537-4855-8c7b-c01dda6ea9e0",
   "metadata": {},
   "outputs": [
    {
     "name": "stdout",
     "output_type": "stream",
     "text": [
      "✅ Saved to Artefacts/methodology_qual_quant_model_v2.6.pkl\n"
     ]
    }
   ],
   "source": [
    "joblib.dump(clf_qualquant, \"Artefacts/methodology_qual_quant_model_v2.6.pkl\")\n",
    "print(\"✅ Saved to Artefacts/methodology_qual_quant_model_v2.6.pkl\")"
   ]
  },
  {
   "cell_type": "markdown",
   "id": "2dffd523-e4b4-4e9a-ac04-2e651b3002c5",
   "metadata": {},
   "source": [
    "### 🧠 4. Two-Stage Inference Function\n",
    "\n",
    "We now combine both trained models into a two-stage inference pipeline:\n",
    "\n",
    "1. First, the binary classifier (`clf_binary`) checks if a sample is `Mixed`.\n",
    "2. If not, the second classifier (`clf_qualquant`) predicts either `Qualitative` or `Quantitative`.\n",
    "\n",
    "We apply this logic to the full test set and evaluate the final 3-class classification performance."
   ]
  },
  {
   "cell_type": "code",
   "execution_count": 9,
   "id": "f6b600a8-ca4e-4511-be2c-7eae61cc0fb3",
   "metadata": {},
   "outputs": [
    {
     "name": "stdout",
     "output_type": "stream",
     "text": [
      "🎯 Final Two-Stage Methodology Classification Report:\n",
      "\n",
      "              precision    recall  f1-score   support\n",
      "\n",
      " Qualitative       0.92      0.89      0.90       163\n",
      "Quantitative       0.76      0.81      0.78       175\n",
      "       Mixed       0.29      0.26      0.27        68\n",
      "\n",
      "    accuracy                           0.75       406\n",
      "   macro avg       0.66      0.65      0.65       406\n",
      "weighted avg       0.74      0.75      0.75       406\n",
      "\n",
      "Confusion Matrix:\n",
      " [[145   5  13]\n",
      " [  2 141  32]\n",
      " [ 11  39  18]]\n"
     ]
    }
   ],
   "source": [
    "# Threshold to detect \"Mixed\"\n",
    "MIXED_THRESHOLD = 0.10  # from tuning results\n",
    "\n",
    "# Predict probabilities for test set\n",
    "proba_stage1 = clf_binary.predict_proba(X_test)[:, 1]  # probability of Mixed\n",
    "\n",
    "final_preds = []\n",
    "\n",
    "for i, p in enumerate(proba_stage1):\n",
    "    if p >= MIXED_THRESHOLD:\n",
    "        final_preds.append(\"Mixed\")\n",
    "    else:\n",
    "        x_vec = X_test[i].reshape(1, -1)\n",
    "        pred_q = clf_qualquant.predict(x_vec)[0]\n",
    "        final_preds.append(le.inverse_transform([pred_q])[0])\n",
    "\n",
    "# Recreate the split to recover test indices\n",
    "_, test_indices = train_test_split(\n",
    "    np.arange(len(df)), test_size=0.2, random_state=42, stratify=y_binary\n",
    ")\n",
    "\n",
    "# Ground truth 3-class labels for test set\n",
    "true_labels = df.iloc[test_indices][\"Methodology\"].values\n",
    "\n",
    "# Evaluation\n",
    "from sklearn.metrics import classification_report, confusion_matrix\n",
    "label_order = [\"Qualitative\", \"Quantitative\", \"Mixed\"]\n",
    "print(\"🎯 Final Two-Stage Methodology Classification Report:\\n\")\n",
    "print(classification_report(true_labels, final_preds, labels=label_order, target_names=label_order))\n",
    "print(\"Confusion Matrix:\\n\", confusion_matrix(true_labels, final_preds, labels=label_order))"
   ]
  },
  {
   "cell_type": "markdown",
   "id": "89c22b31-541b-4adc-9956-50d4b363ff87",
   "metadata": {},
   "source": [
    "### 🔁 4B – Re-run Two-Stage Inference with Threshold = 0.15\n",
    "\n",
    "We increase the threshold for detecting 'Mixed' to 0.15.  \n",
    "This makes the classifier more cautious, which may reduce false positives and improve Qualitative accuracy."
   ]
  },
  {
   "cell_type": "code",
   "execution_count": 10,
   "id": "e95d632a-b5ad-40a8-ba5b-51a0ae8d33fd",
   "metadata": {},
   "outputs": [
    {
     "name": "stdout",
     "output_type": "stream",
     "text": [
      "🔁 Final Two-Stage Methodology Report (Threshold = 0.15):\n",
      "\n",
      "              precision    recall  f1-score   support\n",
      "\n",
      "       Mixed       0.31      0.21      0.25        68\n",
      " Qualitative       0.91      0.91      0.91       163\n",
      "Quantitative       0.76      0.86      0.81       175\n",
      "\n",
      "    accuracy                           0.77       406\n",
      "   macro avg       0.66      0.66      0.66       406\n",
      "weighted avg       0.75      0.77      0.75       406\n",
      "\n",
      "Confusion Matrix:\n",
      " [[ 14  13  41]\n",
      " [  8 149   6]\n",
      " [ 23   2 150]]\n"
     ]
    }
   ],
   "source": [
    "from sklearn.metrics import classification_report, confusion_matrix\n",
    "\n",
    "MIXED_THRESHOLD = 0.15  # updated from 0.10\n",
    "\n",
    "# Predict probabilities for test set\n",
    "proba_stage1 = clf_binary.predict_proba(X_test)[:, 1]  # probability of Mixed\n",
    "\n",
    "final_preds = []\n",
    "\n",
    "for i, p in enumerate(proba_stage1):\n",
    "    if p >= MIXED_THRESHOLD:\n",
    "        final_preds.append(\"Mixed\")\n",
    "    else:\n",
    "        x_vec = X_test[i].reshape(1, -1)\n",
    "        pred_q = clf_qualquant.predict(x_vec)[0]\n",
    "        final_preds.append(le.inverse_transform([pred_q])[0])\n",
    "\n",
    "# Reuse existing test indices\n",
    "true_labels = df.iloc[test_indices][\"Methodology\"].values\n",
    "\n",
    "# Final evaluation\n",
    "print(\"🔁 Final Two-Stage Methodology Report (Threshold = 0.15):\\n\")\n",
    "\n",
    "# Dynamically get label order based on sorted actual classes\n",
    "label_order = sorted(list(set(true_labels)))\n",
    "\n",
    "print(classification_report(true_labels, final_preds, labels=label_order, target_names=label_order))\n",
    "print(\"Confusion Matrix:\\n\", confusion_matrix(true_labels, final_preds, labels=label_order))"
   ]
  },
  {
   "cell_type": "code",
   "execution_count": 11,
   "id": "cf46c4aa-50af-49f6-88a1-8b4282f903d1",
   "metadata": {},
   "outputs": [
    {
     "name": "stdout",
     "output_type": "stream",
     "text": [
      "✅ Saved to Artefacts/methodology_mixed_threshold_v2.6.pkl\n"
     ]
    }
   ],
   "source": [
    "# Save threshold value using joblib\n",
    "joblib.dump(0.15, \"Artefacts/methodology_mixed_threshold_v2.6.pkl\")\n",
    "print(\"✅ Saved to Artefacts/methodology_mixed_threshold_v2.6.pkl\")"
   ]
  },
  {
   "cell_type": "markdown",
   "id": "1b660ccd-9d00-4727-97db-6303c29d7bc3",
   "metadata": {},
   "source": [
    "### 📊 Confusion Matrix Heatmap for Methodology Classifier v2.6\n",
    "\n",
    "This heatmap shows the classification results across all three methodology types  \n",
    "(Qualitative, Quantitative, Mixed) using the final two-stage model with threshold = 0.15."
   ]
  },
  {
   "cell_type": "code",
   "execution_count": 12,
   "id": "c6ad6b8b-10b1-4779-b514-ebdcfc962239",
   "metadata": {},
   "outputs": [
    {
     "data": {
      "image/png": "[encoded data removed]",
      "text/plain": [
       "<Figure size 600x500 with 2 Axes>"
      ]
     },
     "metadata": {},
     "output_type": "display_data"
    }
   ],
   "source": [
    "import seaborn as sns\n",
    "import matplotlib.pyplot as plt\n",
    "from sklearn.metrics import confusion_matrix\n",
    "\n",
    "# Define label order\n",
    "labels = [\"Qualitative\", \"Quantitative\", \"Mixed\"]\n",
    "\n",
    "# Compute confusion matrix\n",
    "cm = confusion_matrix(true_labels, final_preds, labels=labels)\n",
    "\n",
    "# Plot heatmap\n",
    "plt.figure(figsize=(6, 5))\n",
    "sns.heatmap(cm, annot=True, fmt=\"d\", cmap=\"Blues\", xticklabels=labels, yticklabels=labels)\n",
    "plt.title(\"Confusion Matrix – Methodology Classifier v2.6 (Threshold = 0.15)\")\n",
    "plt.xlabel(\"Predicted Label\")\n",
    "plt.ylabel(\"True Label\")\n",
    "plt.tight_layout()\n",
    "plt.show()"
   ]
  },
  {
   "cell_type": "markdown",
   "id": "6a29bcf7-8a22-4960-a3c5-a9d86fcde557",
   "metadata": {},
   "source": [
    "## 🧾 Final Summary – Methodology Classifier v2.6 (Two-Stage with Threshold Tuning)\n",
    "\n",
    "---\n",
    "\n",
    "### ⚙️ What Was Implemented in This Notebook:\n",
    "- Built a **two-stage classification pipeline**:\n",
    "  - **Stage 1**: Binary classifier using XGBoost to detect `Mixed` vs `Non-Mixed`\n",
    "  - **Stage 2**: XGBoost classifier to predict `Qualitative` or `Quantitative` (only on Non-Mixed samples)\n",
    "- Generated **SPECTER embeddings** for 2028 abstracts\n",
    "- Conducted **threshold tuning** on Stage 1 from 0.10 to 0.55\n",
    "- Identified **threshold = 0.10** as optimal for maximizing Mixed F1  \n",
    "- Selected **threshold = 0.15** for a better balance between Mixed and Macro F1- Saved both trained models and threshold value using `joblib`\n",
    "- Used **dynamic label sorting** to ensure correct classification report alignment\n",
    "- Visualized results using a **confusion matrix heatmap**\n",
    "\n",
    "---\n",
    "\n",
    "### 📊 Final Evaluation (Threshold = 0.15):\n",
    "\n",
    "| Class        | Precision | Recall | F1     | Support |\n",
    "|--------------|-----------|--------|--------|---------|\n",
    "| Mixed        | 0.31      | 0.21   | 0.25   | 68  \n",
    "| Qualitative  | 0.91      | 0.91   | 0.91   | 163  \n",
    "| Quantitative | 0.76      | 0.86   | 0.81   | 175  \n",
    "\n",
    "| Metric       | Value |\n",
    "|--------------|--------|\n",
    "| **Accuracy** | 0.77  \n",
    "| **Macro F1** | **0.66** ✅  \n",
    "| **Weighted F1** | 0.75  \n",
    "\n",
    "---\n",
    "\n",
    "### 🔁 Comparison with v2.3 (Single XGBoost Classifier):\n",
    "\n",
    "| Metric         | v2.3       | v2.6 (Two-Stage) |\n",
    "|----------------|------------|------------------|\n",
    "| Qualitative F1 | 0.83       | **0.91** ✅  \n",
    "| Quantitative F1| 0.81       | 0.81  \n",
    "| Mixed F1       | **0.35** ✅| 0.25 ❌  \n",
    "| Macro F1       | 0.66       | 0.66  \n",
    "| Accuracy       | 0.75       | **0.77** ✅  \n",
    "\n",
    "- v2.3 still performs better on Mixed class (F1 = 0.35),  \n",
    "- v2.6 significantly improves Qualitative F1, maintains Quantitative, and introduces modular interpretability.\n",
    "\n",
    "---\n",
    "\n",
    "### 💾 Saved Artefacts:\n",
    "- `methodology_binary_mixed_model_v2.6.pkl`\n",
    "- `methodology_qual_quant_model_v2.6.pkl`\n",
    "- `methodology_mixed_threshold_v2.6.pkl`\n",
    "\n",
    "---\n",
    "\n",
    "### ✅ Key Improvements:\n",
    "- Mixed-class performance is **still limited**, but the new pipeline is tunable and modular\n",
    "- Threshold = **0.10 gave best Mixed F1**, but 0.15 chosen to balance all classes\n",
    "- This setup is ready for deeper improvements in v2.7:\n",
    "  - Focal loss\n",
    "  - Multi-label learning\n",
    "  - Data augmentation on Mixed class"
   ]
  },
  {
   "cell_type": "code",
   "execution_count": null,
   "id": "e25e1898-7217-4ab3-9df5-a9ea5f081d31",
   "metadata": {},
   "outputs": [],
   "source": []
  }
 ],
 "metadata": {
  "kernelspec": {
   "display_name": "Python 3 (ipykernel)",
   "language": "python",
   "name": "python3"
  },
  "language_info": {
   "codemirror_mode": {
    "name": "ipython",
    "version": 3
   },
   "file_extension": ".py",
   "mimetype": "text/x-python",
   "name": "python",
   "nbconvert_exporter": "python",
   "pygments_lexer": "ipython3",
   "version": "3.10.16"
  }
 },
 "nbformat": 4,
 "nbformat_minor": 5
}
