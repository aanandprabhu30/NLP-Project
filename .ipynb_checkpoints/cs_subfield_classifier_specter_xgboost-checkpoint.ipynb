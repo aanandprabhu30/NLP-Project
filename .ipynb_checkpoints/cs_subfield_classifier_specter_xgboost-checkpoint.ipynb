{
 "cells": [
  {
   "cell_type": "markdown",
   "id": "a6e5a08d-be87-4746-825c-64ea00ddf5b3",
   "metadata": {},
   "source": [
    "# CS Subfield Classifier using SPECTER + XGBoost\n",
    "\n",
    "This notebook builds a subfield classifier for Computer Science research papers using:\n",
    "- SPECTER embeddings (from Title + Abstract)\n",
    "- XGBoost for classification\n",
    "- LabelEncoder for encoding subfields\n",
    "\n",
    "Target: Achieve ≥90% classification accuracy across subfields like AI, CV, etc."
   ]
  },
  {
   "cell_type": "code",
   "execution_count": 1,
   "id": "8f72c649-66bf-4d86-ae30-590ca7456862",
   "metadata": {},
   "outputs": [
    {
     "name": "stdout",
     "output_type": "stream",
     "text": [
      "All packages are already installed and ready ✅\n"
     ]
    }
   ],
   "source": [
    "import sentence_transformers\n",
    "import xgboost\n",
    "import sklearn\n",
    "import joblib\n",
    "\n",
    "print(\"All packages are already installed and ready ✅\")"
   ]
  },
  {
   "cell_type": "code",
   "execution_count": null,
   "id": "8654555e-e39f-4f20-a86c-9eff37c656f8",
   "metadata": {},
   "outputs": [],
   "source": []
  }
 ],
 "metadata": {
  "kernelspec": {
   "display_name": "Python 3 (ipykernel)",
   "language": "python",
   "name": "python3"
  },
  "language_info": {
   "codemirror_mode": {
    "name": "ipython",
    "version": 3
   },
   "file_extension": ".py",
   "mimetype": "text/x-python",
   "name": "python",
   "nbconvert_exporter": "python",
   "pygments_lexer": "ipython3",
   "version": "3.10.16"
  }
 },
 "nbformat": 4,
 "nbformat_minor": 5
}
