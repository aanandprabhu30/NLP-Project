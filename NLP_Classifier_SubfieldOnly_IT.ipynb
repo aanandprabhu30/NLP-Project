{
 "cells": [
  {
   "cell_type": "markdown",
   "id": "a7c354b4",
   "metadata": {},
   "source": [
    "# 🧠 Subfield Classifier – Information Technology (IT)\n",
    "\n",
    "This notebook implements subfield classification for **Information Technology (IT)** abstracts. It replicates the structure used in CS and IS notebooks, focusing on TF-IDF vectorization, model training, evaluation, and artifact saving."
   ]
  },
  {
   "cell_type": "markdown",
   "id": "a7fcb3d4",
   "metadata": {},
   "source": [
    "### 💻 Step 1: Load and Filter IT Abstracts\n",
    "\n",
    "We begin by loading the full dataset containing subfield labels and filtering it to include only **Information Technology (IT)** abstracts. This subset will be used for subfield-level classification in the IT discipline."
   ]
  },
  {
   "cell_type": "code",
   "execution_count": 1,
   "id": "b3974d16",
   "metadata": {},
   "outputs": [
    {
     "data": {
      "text/html": [
       "<div>\n",
       "<style scoped>\n",
       "    .dataframe tbody tr th:only-of-type {\n",
       "        vertical-align: middle;\n",
       "    }\n",
       "\n",
       "    .dataframe tbody tr th {\n",
       "        vertical-align: top;\n",
       "    }\n",
       "\n",
       "    .dataframe thead th {\n",
       "        text-align: right;\n",
       "    }\n",
       "</style>\n",
       "<table border=\"1\" class=\"dataframe\">\n",
       "  <thead>\n",
       "    <tr style=\"text-align: right;\">\n",
       "      <th></th>\n",
       "      <th>ID</th>\n",
       "      <th>Discipline</th>\n",
       "      <th>Subfield</th>\n",
       "      <th>Abstract</th>\n",
       "    </tr>\n",
       "  </thead>\n",
       "  <tbody>\n",
       "    <tr>\n",
       "      <th>10</th>\n",
       "      <td>11</td>\n",
       "      <td>IT</td>\n",
       "      <td>IOTNET</td>\n",
       "      <td>This article describes an approach for providi...</td>\n",
       "    </tr>\n",
       "    <tr>\n",
       "      <th>11</th>\n",
       "      <td>12</td>\n",
       "      <td>IT</td>\n",
       "      <td>CLD</td>\n",
       "      <td>This paper presents a novel monitoring archite...</td>\n",
       "    </tr>\n",
       "    <tr>\n",
       "      <th>12</th>\n",
       "      <td>13</td>\n",
       "      <td>IT</td>\n",
       "      <td>SEC</td>\n",
       "      <td>Proper configuration of security technologies ...</td>\n",
       "    </tr>\n",
       "    <tr>\n",
       "      <th>13</th>\n",
       "      <td>14</td>\n",
       "      <td>IT</td>\n",
       "      <td>CLD</td>\n",
       "      <td>Cloud has become a dominant technology in toda...</td>\n",
       "    </tr>\n",
       "    <tr>\n",
       "      <th>14</th>\n",
       "      <td>15</td>\n",
       "      <td>IT</td>\n",
       "      <td>SEC</td>\n",
       "      <td>Current approaches to access control on the We...</td>\n",
       "    </tr>\n",
       "  </tbody>\n",
       "</table>\n",
       "</div>"
      ],
      "text/plain": [
       "    ID Discipline Subfield                                           Abstract\n",
       "10  11         IT   IOTNET  This article describes an approach for providi...\n",
       "11  12         IT      CLD  This paper presents a novel monitoring archite...\n",
       "12  13         IT      SEC  Proper configuration of security technologies ...\n",
       "13  14         IT      CLD  Cloud has become a dominant technology in toda...\n",
       "14  15         IT      SEC  Current approaches to access control on the We..."
      ]
     },
     "execution_count": 1,
     "metadata": {},
     "output_type": "execute_result"
    }
   ],
   "source": [
    "import pandas as pd\n",
    "\n",
    "# Load the full subfield dataset\n",
    "df = pd.read_csv(\"NLP_Abstract_Dataset (Subfield)(105).csv\")\n",
    "\n",
    "# Filter only IT records\n",
    "it_df = df[df[\"Discipline\"] == \"IT\"].copy()\n",
    "\n",
    "# Preview\n",
    "it_df.head()"
   ]
  },
  {
   "cell_type": "markdown",
   "id": "1ac22365",
   "metadata": {},
   "source": [
    "### 🧠 Step 2: Preprocessing – TF-IDF + Subfield Label Encoding\n",
    "\n",
    "We convert the IT abstracts into numerical vectors using **TF-IDF**, capturing term importance across documents.  \n",
    "Subfield labels are then encoded into integers using **LabelEncoder**, preparing them for machine learning models."
   ]
  },
  {
   "cell_type": "code",
   "execution_count": 2,
   "id": "9610982e",
   "metadata": {},
   "outputs": [
    {
     "name": "stdout",
     "output_type": "stream",
     "text": [
      "TF-IDF shape: (35, 1519)\n",
      "Subfield labels: ['CLD', 'IOTNET', 'OPS', 'SEC']\n"
     ]
    }
   ],
   "source": [
    "from sklearn.feature_extraction.text import TfidfVectorizer\n",
    "from sklearn.preprocessing import LabelEncoder\n",
    "\n",
    "# Extract text features and subfield labels\n",
    "X = it_df['Abstract']\n",
    "y = it_df['Subfield']\n",
    "\n",
    "# TF-IDF Vectorization\n",
    "vectorizer = TfidfVectorizer(stop_words='english', max_features=5000)\n",
    "X_tfidf = vectorizer.fit_transform(X)\n",
    "\n",
    "# Label Encoding\n",
    "label_encoder = LabelEncoder()\n",
    "y_encoded = label_encoder.fit_transform(y)\n",
    "\n",
    "# Confirm shapes and label classes\n",
    "print(\"TF-IDF shape:\", X_tfidf.shape)\n",
    "print(\"Subfield labels:\", list(label_encoder.classes_))"
   ]
  },
  {
   "cell_type": "markdown",
   "id": "262487c2",
   "metadata": {},
   "source": [
    "### 🤖 Step 3: Train-Test Split and Model Training (Logistic Regression)\n",
    "\n",
    "We perform a **stratified 70/30 train-test split** to ensure each IT subfield is represented in both sets.  \n",
    "A **Logistic Regression** classifier is then trained on the TF-IDF features and encoded subfield labels."
   ]
  },
  {
   "cell_type": "code",
   "execution_count": 3,
   "id": "a9e8efb6",
   "metadata": {},
   "outputs": [
    {
     "name": "stdout",
     "output_type": "stream",
     "text": [
      "✅ Model training complete.\n"
     ]
    }
   ],
   "source": [
    "from sklearn.linear_model import LogisticRegression\n",
    "from sklearn.model_selection import train_test_split\n",
    "\n",
    "# Stratified split\n",
    "X_train, X_test, y_train, y_test = train_test_split(\n",
    "    X_tfidf, y_encoded, test_size=0.3, random_state=42, stratify=y_encoded\n",
    ")\n",
    "\n",
    "# Train the model\n",
    "logreg_model = LogisticRegression(max_iter=1000)\n",
    "logreg_model.fit(X_train, y_train)\n",
    "\n",
    "print(\"✅ Model training complete.\")"
   ]
  },
  {
   "cell_type": "markdown",
   "id": "30f57529",
   "metadata": {},
   "source": [
    "### 📊 Step 4: Model Evaluation – Classification Report & Confusion Matrix\n",
    "\n",
    "We evaluate the Logistic Regression model’s performance across the five IT subfields using standard metrics and a confusion matrix heatmap.  \n",
    "This helps identify class-level prediction accuracy and any recurring misclassifications."
   ]
  },
  {
   "cell_type": "code",
   "execution_count": 4,
   "id": "012885c7",
   "metadata": {},
   "outputs": [
    {
     "name": "stdout",
     "output_type": "stream",
     "text": [
      "📄 Classification Report:\n",
      "\n",
      "              precision    recall  f1-score   support\n",
      "\n",
      "         CLD       0.22      0.67      0.33         3\n",
      "      IOTNET       0.00      0.00      0.00         3\n",
      "         OPS       0.00      0.00      0.00         2\n",
      "         SEC       1.00      0.33      0.50         3\n",
      "\n",
      "    accuracy                           0.27        11\n",
      "   macro avg       0.31      0.25      0.21        11\n",
      "weighted avg       0.33      0.27      0.23        11\n",
      "\n"
     ]
    },
    {
     "data": {
      "image/png": "[encoded data removed]",
      "text/plain": [
       "<Figure size 576x432 with 2 Axes>"
      ]
     },
     "metadata": {
      "needs_background": "light"
     },
     "output_type": "display_data"
    }
   ],
   "source": [
    "from sklearn.metrics import classification_report, confusion_matrix\n",
    "import matplotlib.pyplot as plt\n",
    "import seaborn as sns\n",
    "\n",
    "# Make predictions\n",
    "y_pred = logreg_model.predict(X_test)\n",
    "\n",
    "# Print classification report\n",
    "print(\"📄 Classification Report:\\n\")\n",
    "print(classification_report(y_test, y_pred, target_names=label_encoder.classes_, zero_division=0))\n",
    "\n",
    "# Generate confusion matrix\n",
    "cm = confusion_matrix(y_test, y_pred)\n",
    "\n",
    "# Plot the confusion matrix\n",
    "plt.figure(figsize=(8, 6))\n",
    "sns.heatmap(cm, annot=True, fmt='d', cmap='Blues',\n",
    "            xticklabels=label_encoder.classes_,\n",
    "            yticklabels=label_encoder.classes_)\n",
    "plt.xlabel('Predicted Subfield')\n",
    "plt.ylabel('True Subfield')\n",
    "plt.title('Confusion Matrix – IT Subfield Classifier (Logistic Regression)')\n",
    "plt.tight_layout()\n",
    "plt.show()"
   ]
  },
  {
   "cell_type": "markdown",
   "id": "a714697d",
   "metadata": {},
   "source": [
    "### 📊 Confusion Matrix Interpretation – IT Subfield Classifier\n",
    "\n",
    "The model shows a strong bias toward predicting **CLD (Cloud Technologies)**, with **IOTNET** and **OPS** receiving no correct predictions.  \n",
    "**SEC (Security)** is partially recovered, and **CLD** achieves moderate F1-score. These trends suggest:\n",
    "- Overlapping language across infrastructure and operations abstracts\n",
    "- Insufficient examples (only 35 total) causing class imbalance and weak generalization\n",
    "\n",
    "Despite these challenges, the notebook confirms correct pipeline execution and artifact saving. This sets the stage for retraining on larger datasets in future experiments."
   ]
  },
  {
   "cell_type": "markdown",
   "id": "05314f78",
   "metadata": {},
   "source": [
    "### 🧾 Step 5: Save Final Model and TF-IDF Vectorizer\n",
    "\n",
    "The trained Logistic Regression model and TF-IDF vectorizer are saved using `joblib`.  \n",
    "This allows for reuse without retraining and supports further evaluation or integration."
   ]
  },
  {
   "cell_type": "code",
   "execution_count": 5,
   "id": "e469c45d",
   "metadata": {},
   "outputs": [
    {
     "name": "stdout",
     "output_type": "stream",
     "text": [
      "✅ Model and vectorizer saved successfully.\n"
     ]
    }
   ],
   "source": [
    "import joblib\n",
    "\n",
    "# Save the trained model and vectorizer\n",
    "joblib.dump(logreg_model, \"subfield_classifier_logreg_it.pkl\")\n",
    "joblib.dump(vectorizer, \"tfidf_vectorizer_it.pkl\")\n",
    "\n",
    "print(\"✅ Model and vectorizer saved successfully.\")"
   ]
  },
  {
   "cell_type": "markdown",
   "id": "a9084d47",
   "metadata": {},
   "source": [
    "## ✅ Final Notes\n",
    "\n",
    "This notebook completes the subfield classification pipeline for **Information Technology (IT)** abstracts using Logistic Regression.  \n",
    "The model was trained on TF-IDF features, evaluated using stratified 70/30 split, and visualized using a confusion matrix.  \n",
    "\n",
    "While performance is limited due to the small dataset, the notebook confirms successful implementation of all pipeline components, consistent with the CS and IS phases.  \n",
    "The model and vectorizer are saved for future reuse or comparison during model selection."
   ]
  },
  {
   "cell_type": "code",
   "execution_count": null,
   "id": "098ef18f",
   "metadata": {},
   "outputs": [],
   "source": []
  }
 ],
 "metadata": {
  "kernelspec": {
   "display_name": "Python 3 (ipykernel)",
   "language": "python",
   "name": "python3"
  },
  "language_info": {
   "codemirror_mode": {
    "name": "ipython",
    "version": 3
   },
   "file_extension": ".py",
   "mimetype": "text/x-python",
   "name": "python",
   "nbconvert_exporter": "python",
   "pygments_lexer": "ipython3",
   "version": "3.9.12"
  }
 },
 "nbformat": 4,
 "nbformat_minor": 5
}
