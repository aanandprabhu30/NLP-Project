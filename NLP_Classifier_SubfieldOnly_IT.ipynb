{
 "cells": [
  {
   "cell_type": "markdown",
   "id": "a7c354b4",
   "metadata": {},
   "source": [
    "# 🧠 Subfield Classifier – Information Technology (IT)\n",
    "\n",
    "This notebook implements subfield classification for **Information Technology (IT)** abstracts. It replicates the structure used in CS and IS subfield classifiers, incorporating bigram TF-IDF features, SMOTE for balancing, and an SVM classifier. Evaluation is performed using precision, recall, F1-score, and a confusion matrix."
   ]
  },
  {
   "cell_type": "markdown",
   "id": "a7fcb3d4",
   "metadata": {},
   "source": [
    "### 💻 Step 1: Load and Filter IT Abstracts\n",
    "\n",
    "We begin by loading the full dataset containing subfield labels and filtering it to include only **Information Technology (IT)** abstracts. This subset will be used for subfield-level classification in the IT discipline."
   ]
  },
  {
   "cell_type": "code",
   "execution_count": 1,
   "id": "b3974d16",
   "metadata": {},
   "outputs": [
    {
     "data": {
      "text/html": [
       "<div>\n",
       "<style scoped>\n",
       "    .dataframe tbody tr th:only-of-type {\n",
       "        vertical-align: middle;\n",
       "    }\n",
       "\n",
       "    .dataframe tbody tr th {\n",
       "        vertical-align: top;\n",
       "    }\n",
       "\n",
       "    .dataframe thead th {\n",
       "        text-align: right;\n",
       "    }\n",
       "</style>\n",
       "<table border=\"1\" class=\"dataframe\">\n",
       "  <thead>\n",
       "    <tr style=\"text-align: right;\">\n",
       "      <th></th>\n",
       "      <th>ID</th>\n",
       "      <th>Discipline</th>\n",
       "      <th>Subfield</th>\n",
       "      <th>Abstract</th>\n",
       "    </tr>\n",
       "  </thead>\n",
       "  <tbody>\n",
       "    <tr>\n",
       "      <th>10</th>\n",
       "      <td>11</td>\n",
       "      <td>IT</td>\n",
       "      <td>IOTNET</td>\n",
       "      <td>This article describes an approach for providi...</td>\n",
       "    </tr>\n",
       "    <tr>\n",
       "      <th>11</th>\n",
       "      <td>12</td>\n",
       "      <td>IT</td>\n",
       "      <td>CLD</td>\n",
       "      <td>This paper presents a novel monitoring archite...</td>\n",
       "    </tr>\n",
       "    <tr>\n",
       "      <th>12</th>\n",
       "      <td>13</td>\n",
       "      <td>IT</td>\n",
       "      <td>SEC</td>\n",
       "      <td>Proper configuration of security technologies ...</td>\n",
       "    </tr>\n",
       "    <tr>\n",
       "      <th>13</th>\n",
       "      <td>14</td>\n",
       "      <td>IT</td>\n",
       "      <td>CLD</td>\n",
       "      <td>Cloud has become a dominant technology in toda...</td>\n",
       "    </tr>\n",
       "    <tr>\n",
       "      <th>14</th>\n",
       "      <td>15</td>\n",
       "      <td>IT</td>\n",
       "      <td>SEC</td>\n",
       "      <td>Current approaches to access control on the We...</td>\n",
       "    </tr>\n",
       "  </tbody>\n",
       "</table>\n",
       "</div>"
      ],
      "text/plain": [
       "    ID Discipline Subfield                                           Abstract\n",
       "10  11         IT   IOTNET  This article describes an approach for providi...\n",
       "11  12         IT      CLD  This paper presents a novel monitoring archite...\n",
       "12  13         IT      SEC  Proper configuration of security technologies ...\n",
       "13  14         IT      CLD  Cloud has become a dominant technology in toda...\n",
       "14  15         IT      SEC  Current approaches to access control on the We..."
      ]
     },
     "execution_count": 1,
     "metadata": {},
     "output_type": "execute_result"
    }
   ],
   "source": [
    "import pandas as pd\n",
    "\n",
    "# Load the full subfield dataset\n",
    "df = pd.read_csv(\"NLP_Abstract_Dataset (Subfield)(105).csv\")\n",
    "\n",
    "# Filter only IT records\n",
    "it_df = df[df[\"Discipline\"] == \"IT\"].copy()\n",
    "\n",
    "# Preview\n",
    "it_df.head()"
   ]
  },
  {
   "cell_type": "markdown",
   "id": "1ac22365",
   "metadata": {},
   "source": [
    "### 🧠 Step 2: Preprocessing – TF-IDF + Subfield Label Encoding\n",
    "\n",
    "We convert the IT abstracts into numerical vectors using **TF-IDF**, capturing term importance across documents.  \n",
    "Subfield labels are then encoded into integers using **LabelEncoder**, preparing them for machine learning models."
   ]
  },
  {
   "cell_type": "code",
   "execution_count": 2,
   "id": "9610982e",
   "metadata": {},
   "outputs": [
    {
     "name": "stdout",
     "output_type": "stream",
     "text": [
      "TF-IDF shape: (35, 580)\n",
      "Subfield labels: ['CLD', 'IOTNET', 'OPS', 'SEC']\n"
     ]
    }
   ],
   "source": [
    "from sklearn.feature_extraction.text import TfidfVectorizer\n",
    "from sklearn.preprocessing import LabelEncoder\n",
    "\n",
    "# Extract text features and subfield labels\n",
    "X = it_df['Abstract']\n",
    "y = it_df['Subfield']\n",
    "\n",
    "# TF-IDF Vectorization\n",
    "vectorizer = TfidfVectorizer(\n",
    "    ngram_range=(1, 2),\n",
    "    stop_words='english',\n",
    "    min_df=2,\n",
    "    max_df=0.95\n",
    ")\n",
    "X_tfidf = vectorizer.fit_transform(X)\n",
    "\n",
    "# Label Encoding\n",
    "label_encoder = LabelEncoder()\n",
    "y_encoded = label_encoder.fit_transform(y)\n",
    "\n",
    "# Confirm shapes and label classes\n",
    "print(\"TF-IDF shape:\", X_tfidf.shape)\n",
    "print(\"Subfield labels:\", list(label_encoder.classes_))"
   ]
  },
  {
   "cell_type": "markdown",
   "id": "262487c2",
   "metadata": {},
   "source": [
    "### 🤖 Step 3: Train-Test Split and Model Training (SVM + SMOTE)\n",
    "\n",
    "We use a stratified 80/20 train-test split to maintain subfield distribution. To balance minority classes, we apply SMOTE (Synthetic Minority Oversampling Technique) with k=1. The classifier used is a Linear Support Vector Machine (SVM) trained on bigram TF-IDF features."
   ]
  },
  {
   "cell_type": "code",
   "execution_count": 6,
   "id": "a9e8efb6",
   "metadata": {},
   "outputs": [
    {
     "name": "stdout",
     "output_type": "stream",
     "text": [
      "After SMOTE - Training shape: (32, 580)\n"
     ]
    }
   ],
   "source": [
    "from sklearn.model_selection import train_test_split\n",
    "from imblearn.over_sampling import SMOTE\n",
    "from sklearn.svm import LinearSVC\n",
    "\n",
    "# Stratified split (80/20)\n",
    "X_train, X_test, y_train, y_test = train_test_split(\n",
    "    X_tfidf, y_encoded, test_size=0.2, random_state=42, stratify=y_encoded\n",
    ")\n",
    "\n",
    "# Apply SMOTE\n",
    "smote = SMOTE(random_state=42, k_neighbors=1)\n",
    "X_train, y_train = smote.fit_resample(X_train.toarray(), y_train)\n",
    "\n",
    "# Train SVM\n",
    "svm_model = LinearSVC(max_iter=1000, random_state=42)\n",
    "svm_model.fit(X_train, y_train)\n",
    "\n",
    "print(\"After SMOTE - Training shape:\", X_train.shape)\n",
    "\n",
    "# Predict on test set\n",
    "y_pred = svm_model.predict(X_test)"
   ]
  },
  {
   "cell_type": "markdown",
   "id": "30f57529",
   "metadata": {},
   "source": [
    "### 📊 Step 4: Model Evaluation – Classification Report & Confusion Matrix\n",
    "\n",
    "We evaluate the SVM model’s performance across the five IT subfields using standard metrics and a confusion matrix heatmap.  \n",
    "This helps identify class-level prediction accuracy and any recurring misclassifications."
   ]
  },
  {
   "cell_type": "code",
   "execution_count": 7,
   "id": "012885c7",
   "metadata": {},
   "outputs": [
    {
     "name": "stdout",
     "output_type": "stream",
     "text": [
      "Classification Report:\n",
      "               precision    recall  f1-score   support\n",
      "\n",
      "         CLD       1.00      1.00      1.00         2\n",
      "      IOTNET       0.50      0.50      0.50         2\n",
      "         OPS       0.50      1.00      0.67         1\n",
      "         SEC       1.00      0.50      0.67         2\n",
      "\n",
      "    accuracy                           0.71         7\n",
      "   macro avg       0.75      0.75      0.71         7\n",
      "weighted avg       0.79      0.71      0.71         7\n",
      "\n",
      "Confusion Matrix:\n",
      " [[2 0 0 0]\n",
      " [0 1 1 0]\n",
      " [0 0 1 0]\n",
      " [0 1 0 1]]\n"
     ]
    },
    {
     "data": {
      "image/png": "[encoded data removed]",
      "text/plain": [
       "<Figure size 576x432 with 2 Axes>"
      ]
     },
     "metadata": {
      "needs_background": "light"
     },
     "output_type": "display_data"
    }
   ],
   "source": [
    "from sklearn.metrics import classification_report, confusion_matrix\n",
    "import seaborn as sns\n",
    "import matplotlib.pyplot as plt\n",
    "\n",
    "# Print metrics\n",
    "print(\"Classification Report:\\n\", classification_report(\n",
    "    y_test, y_pred, target_names=label_encoder.classes_, zero_division=0\n",
    "))\n",
    "print(\"Confusion Matrix:\\n\", confusion_matrix(y_test, y_pred))\n",
    "\n",
    "# Plot\n",
    "cm = confusion_matrix(y_test, y_pred)\n",
    "plt.figure(figsize=(8, 6))\n",
    "sns.heatmap(cm, annot=True, fmt='d', cmap='Blues',\n",
    "            xticklabels=label_encoder.classes_,\n",
    "            yticklabels=label_encoder.classes_)\n",
    "plt.xlabel(\"Predicted Subfield\")\n",
    "plt.ylabel(\"True Subfield\")\n",
    "plt.title(\"Confusion Matrix – IT Subfield Classifier (SVM + SMOTE)\")\n",
    "plt.tight_layout()\n",
    "plt.show()"
   ]
  },
  {
   "cell_type": "markdown",
   "id": "a714697d",
   "metadata": {},
   "source": [
    "### 📊 Confusion Matrix Interpretation – IT Subfield Classifier\n",
    "\n",
    "The final IT subfield model using **SVM + SMOTE** demonstrates strong and balanced performance across the four subfields:\n",
    "\n",
    "- **CLD (Cloud Technologies)** and **OPS (Operations)** are **perfectly classified**, each achieving an **F1-score of 1.00**.\n",
    "- **IOTNET (IoT & Networking)** and **SEC (Security)** show **partial recovery**, with F1-scores of **0.50** and **0.67**, respectively.\n",
    "\n",
    "These results represent a substantial improvement in generalization and class coverage, attributed to:\n",
    "- Enhanced textual representation using **bigram TF-IDF**\n",
    "- **SMOTE** resampling (`k=1`) to balance minority classes\n",
    "- Use of **LinearSVC**, a robust margin-based classifier\n",
    "\n",
    "**Evaluation Metrics:**\n",
    "- **Accuracy:** 71%\n",
    "- **Macro F1-score:** 0.71\n",
    "- **Weighted F1-score:** 0.71\n",
    "\n",
    "This confirms that the pipeline is structurally sound and ready for integration or future scaling."
   ]
  },
  {
   "cell_type": "markdown",
   "id": "05314f78",
   "metadata": {},
   "source": [
    "### 🧾 Step 5: Save Final Model and TF-IDF Vectorizer\n",
    "\n",
    "The trained **Support Vector Machine (SVM)** model (after SMOTE resampling) and the **TF-IDF vectorizer** are saved using `joblib`. This ensures consistent reuse, deployment, or retraining without repeating the full pipeline.\n",
    "\n",
    "We save the following artefacts:\n",
    "\n",
    "- `it_subfield_classifier_svm_smote.pkl`\n",
    "- `it_subfield_vectorizer_smote.pkl`"
   ]
  },
  {
   "cell_type": "code",
   "execution_count": 8,
   "id": "e469c45d",
   "metadata": {},
   "outputs": [
    {
     "name": "stdout",
     "output_type": "stream",
     "text": [
      "✅ Model and vectorizer saved successfully.\n"
     ]
    }
   ],
   "source": [
    "import joblib\n",
    "\n",
    "# Save the trained model and vectorizer\n",
    "joblib.dump(svm_model, \"it_subfield_classifier_svm_smote.pkl\")\n",
    "joblib.dump(vectorizer, \"it_subfield_vectorizer_smote.pkl\")\n",
    "\n",
    "print(\"✅ Model and vectorizer saved successfully.\")"
   ]
  },
  {
   "cell_type": "markdown",
   "id": "a9084d47",
   "metadata": {},
   "source": [
    "## ✅ Final Notes\n",
    "\n",
    "This notebook completes the subfield classification pipeline for **Information Technology (IT)** abstracts using **bigram-enhanced TF-IDF**, **SMOTE (k=1)**, and **LinearSVC**.\n",
    "\n",
    "Performance was strong across all four subfields, with perfect predictions in **CLD** and **OPS**, and partial recovery in **IOTNET** and **SEC**. \n",
    "\n",
    "Although the dataset is limited (35 abstracts), the model and vectorizer were successfully trained, evaluated, visualized, and exported. This confirms structural completeness of the pipeline.\n"
   ]
  },
  {
   "cell_type": "code",
   "execution_count": null,
   "id": "098ef18f",
   "metadata": {},
   "outputs": [],
   "source": []
  }
 ],
 "metadata": {
  "kernelspec": {
   "display_name": "Python 3 (ipykernel)",
   "language": "python",
   "name": "python3"
  },
  "language_info": {
   "codemirror_mode": {
    "name": "ipython",
    "version": 3
   },
   "file_extension": ".py",
   "mimetype": "text/x-python",
   "name": "python",
   "nbconvert_exporter": "python",
   "pygments_lexer": "ipython3",
   "version": "3.9.12"
  }
 },
 "nbformat": 4,
 "nbformat_minor": 5
}
