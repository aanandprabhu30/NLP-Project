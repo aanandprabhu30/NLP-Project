{
 "cells": [
  {
   "cell_type": "markdown",
   "id": "a6e5a08d-be87-4746-825c-64ea00ddf5b3",
   "metadata": {},
   "source": [
    "# CS Subfield Classifier using SPECTER + XGBoost\n",
    "\n",
    "This notebook builds a subfield classifier for Computer Science research papers using:\n",
    "- SPECTER embeddings (from Title + Abstract)\n",
    "- XGBoost for classification\n",
    "- LabelEncoder for encoding subfields\n",
    "\n",
    "Target: Achieve ≥90% classification accuracy across subfields like AI, CV, etc."
   ]
  },
  {
   "cell_type": "code",
   "execution_count": 1,
   "id": "8f72c649-66bf-4d86-ae30-590ca7456862",
   "metadata": {},
   "outputs": [
    {
     "name": "stdout",
     "output_type": "stream",
     "text": [
      "All packages are already installed and ready ✅\n"
     ]
    }
   ],
   "source": [
    "import sentence_transformers\n",
    "import xgboost\n",
    "import sklearn\n",
    "import joblib\n",
    "\n",
    "print(\"All packages are already installed and ready ✅\")"
   ]
  },
  {
   "cell_type": "markdown",
   "id": "be0f3278-e6f8-4c1f-bbc1-3a7f4b842b89",
   "metadata": {},
   "source": [
    "## 1. Load and Prepare CS Subfield Dataset\n",
    "\n",
    "We load the `CS_subfields.csv` file from the `Data/` directory. Each row contains:\n",
    "\n",
    "- **Title**: Research paper title\n",
    "- **Abstract**: Paper abstract\n",
    "- **Subfield**: CS subfield label (e.g., AI, CV, NLP, CV, SE, etc.)\n",
    "- **Link**: Source URL for the paper\n",
    "\n",
    "We also concatenate the Title and Abstract into a new `input_text` column, which will be used for generating SPECTER embeddings."
   ]
  },
  {
   "cell_type": "code",
   "execution_count": 4,
   "id": "81160085-6ba7-4904-a493-2b24a7e6aab1",
   "metadata": {},
   "outputs": [
    {
     "name": "stdout",
     "output_type": "stream",
     "text": [
      "(1498, 5)\n"
     ]
    },
    {
     "data": {
      "text/html": [
       "<div>\n",
       "<style scoped>\n",
       "    .dataframe tbody tr th:only-of-type {\n",
       "        vertical-align: middle;\n",
       "    }\n",
       "\n",
       "    .dataframe tbody tr th {\n",
       "        vertical-align: top;\n",
       "    }\n",
       "\n",
       "    .dataframe thead th {\n",
       "        text-align: right;\n",
       "    }\n",
       "</style>\n",
       "<table border=\"1\" class=\"dataframe\">\n",
       "  <thead>\n",
       "    <tr style=\"text-align: right;\">\n",
       "      <th></th>\n",
       "      <th>Title</th>\n",
       "      <th>Abstract</th>\n",
       "      <th>Subfield</th>\n",
       "      <th>Link</th>\n",
       "    </tr>\n",
       "  </thead>\n",
       "  <tbody>\n",
       "    <tr>\n",
       "      <th>0</th>\n",
       "      <td>Beyond Frameworks: Unpacking Collaboration Str...</td>\n",
       "      <td>Multi-agent collaboration has emerged as a piv...</td>\n",
       "      <td>AI</td>\n",
       "      <td>http://arxiv.org/abs/2505.12467v1</td>\n",
       "    </tr>\n",
       "    <tr>\n",
       "      <th>1</th>\n",
       "      <td>Any-to-Any Learning in Computational Pathology...</td>\n",
       "      <td>Recent advances in computational pathology and...</td>\n",
       "      <td>AI</td>\n",
       "      <td>http://arxiv.org/abs/2505.12711v1</td>\n",
       "    </tr>\n",
       "    <tr>\n",
       "      <th>2</th>\n",
       "      <td>AutoMat: Enabling Automated Crystal Structure ...</td>\n",
       "      <td>Machine learning-based interatomic potentials ...</td>\n",
       "      <td>AI</td>\n",
       "      <td>http://arxiv.org/abs/2505.12650v1</td>\n",
       "    </tr>\n",
       "    <tr>\n",
       "      <th>3</th>\n",
       "      <td>ACU: Analytic Continual Unlearning for Efficie...</td>\n",
       "      <td>The development of artificial intelligence dem...</td>\n",
       "      <td>AI</td>\n",
       "      <td>http://arxiv.org/abs/2505.12239v1</td>\n",
       "    </tr>\n",
       "    <tr>\n",
       "      <th>4</th>\n",
       "      <td>Empowering Sustainable Finance with Artificial...</td>\n",
       "      <td>This chapter explores the convergence of two m...</td>\n",
       "      <td>AI</td>\n",
       "      <td>http://arxiv.org/abs/2505.12012v1</td>\n",
       "    </tr>\n",
       "  </tbody>\n",
       "</table>\n",
       "</div>"
      ],
      "text/plain": [
       "                                               Title  \\\n",
       "0  Beyond Frameworks: Unpacking Collaboration Str...   \n",
       "1  Any-to-Any Learning in Computational Pathology...   \n",
       "2  AutoMat: Enabling Automated Crystal Structure ...   \n",
       "3  ACU: Analytic Continual Unlearning for Efficie...   \n",
       "4  Empowering Sustainable Finance with Artificial...   \n",
       "\n",
       "                                            Abstract Subfield  \\\n",
       "0  Multi-agent collaboration has emerged as a piv...       AI   \n",
       "1  Recent advances in computational pathology and...       AI   \n",
       "2  Machine learning-based interatomic potentials ...       AI   \n",
       "3  The development of artificial intelligence dem...       AI   \n",
       "4  This chapter explores the convergence of two m...       AI   \n",
       "\n",
       "                                Link  \n",
       "0  http://arxiv.org/abs/2505.12467v1  \n",
       "1  http://arxiv.org/abs/2505.12711v1  \n",
       "2  http://arxiv.org/abs/2505.12650v1  \n",
       "3  http://arxiv.org/abs/2505.12239v1  \n",
       "4  http://arxiv.org/abs/2505.12012v1  "
      ]
     },
     "execution_count": 4,
     "metadata": {},
     "output_type": "execute_result"
    }
   ],
   "source": [
    "import pandas as pd\n",
    "\n",
    "# Step 1: Load dataset\n",
    "df = pd.read_csv(\"Data/CS_subfields.csv\")\n",
    "\n",
    "# Create input_text for embedding\n",
    "df[\"input_text\"] = df[\"Title\"].astype(str).str.strip() + \" \" + df[\"Abstract\"].astype(str).str.strip()\n",
    "\n",
    "# Show shape and preview only the 4 relevant columns\n",
    "print(df.shape)\n",
    "df[[\"Title\", \"Abstract\", \"Subfield\", \"Link\"]].head()"
   ]
  },
  {
   "cell_type": "code",
   "execution_count": 5,
   "id": "f7207c52-1247-43c7-9dfc-40b67da41b35",
   "metadata": {},
   "outputs": [
    {
     "data": {
      "text/plain": [
       "0    Beyond Frameworks: Unpacking Collaboration Str...\n",
       "1    Any-to-Any Learning in Computational Pathology...\n",
       "2    AutoMat: Enabling Automated Crystal Structure ...\n",
       "3    ACU: Analytic Continual Unlearning for Efficie...\n",
       "4    Empowering Sustainable Finance with Artificial...\n",
       "Name: input_text, dtype: object"
      ]
     },
     "execution_count": 5,
     "metadata": {},
     "output_type": "execute_result"
    }
   ],
   "source": [
    "# Preview the constructed input_text\n",
    "df[\"input_text\"].head()"
   ]
  },
  {
   "cell_type": "code",
   "execution_count": null,
   "id": "540a976c-d079-48e9-b81d-cd871d6eb831",
   "metadata": {},
   "outputs": [],
   "source": []
  }
 ],
 "metadata": {
  "kernelspec": {
   "display_name": "Python 3 (ipykernel)",
   "language": "python",
   "name": "python3"
  },
  "language_info": {
   "codemirror_mode": {
    "name": "ipython",
    "version": 3
   },
   "file_extension": ".py",
   "mimetype": "text/x-python",
   "name": "python",
   "nbconvert_exporter": "python",
   "pygments_lexer": "ipython3",
   "version": "3.10.16"
  }
 },
 "nbformat": 4,
 "nbformat_minor": 5
}
