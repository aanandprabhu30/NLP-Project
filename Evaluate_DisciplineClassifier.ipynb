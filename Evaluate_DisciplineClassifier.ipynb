{
 "cells": [
  {
   "cell_type": "code",
   "execution_count": 1,
   "id": "9daae36c",
   "metadata": {},
   "outputs": [],
   "source": [
    "import joblib\n",
    "import pandas as pd\n",
    "from sklearn.metrics import classification_report, confusion_matrix\n",
    "import matplotlib.pyplot as plt\n",
    "import seaborn as sns"
   ]
  },
  {
   "cell_type": "code",
   "execution_count": 2,
   "id": "c1d8e351",
   "metadata": {},
   "outputs": [],
   "source": [
    "%matplotlib inline  "
   ]
  },
  {
   "cell_type": "code",
   "execution_count": 3,
   "id": "8312350a",
   "metadata": {},
   "outputs": [
    {
     "name": "stdout",
     "output_type": "stream",
     "text": [
      "Model and vectorizer loaded successfully.\n"
     ]
    }
   ],
   "source": [
    "# Load saved model and vectorizer\n",
    "logreg_model = joblib.load(\"discipline_classifier_logreg.pkl\")\n",
    "tfidf_vectorizer = joblib.load(\"tfidf_vectorizer.pkl\")\n",
    "\n",
    "print(\"Model and vectorizer loaded successfully.\")"
   ]
  },
  {
   "cell_type": "code",
   "execution_count": 5,
   "id": "2e1f9711",
   "metadata": {},
   "outputs": [
    {
     "data": {
      "text/html": [
       "<div>\n",
       "<style scoped>\n",
       "    .dataframe tbody tr th:only-of-type {\n",
       "        vertical-align: middle;\n",
       "    }\n",
       "\n",
       "    .dataframe tbody tr th {\n",
       "        vertical-align: top;\n",
       "    }\n",
       "\n",
       "    .dataframe thead th {\n",
       "        text-align: right;\n",
       "    }\n",
       "</style>\n",
       "<table border=\"1\" class=\"dataframe\">\n",
       "  <thead>\n",
       "    <tr style=\"text-align: right;\">\n",
       "      <th></th>\n",
       "      <th>ID</th>\n",
       "      <th>Discipline</th>\n",
       "      <th>Abstract</th>\n",
       "    </tr>\n",
       "  </thead>\n",
       "  <tbody>\n",
       "    <tr>\n",
       "      <th>0</th>\n",
       "      <td>1</td>\n",
       "      <td>CS</td>\n",
       "      <td>Proteins are the fundamental biological macrom...</td>\n",
       "    </tr>\n",
       "    <tr>\n",
       "      <th>1</th>\n",
       "      <td>2</td>\n",
       "      <td>CS</td>\n",
       "      <td>CompCert is the first commercially available o...</td>\n",
       "    </tr>\n",
       "    <tr>\n",
       "      <th>2</th>\n",
       "      <td>3</td>\n",
       "      <td>CS</td>\n",
       "      <td>Virtual and augmented reality (VR/AR) are expe...</td>\n",
       "    </tr>\n",
       "    <tr>\n",
       "      <th>3</th>\n",
       "      <td>4</td>\n",
       "      <td>IS</td>\n",
       "      <td>The implementation of eHealth systems with a t...</td>\n",
       "    </tr>\n",
       "    <tr>\n",
       "      <th>4</th>\n",
       "      <td>5</td>\n",
       "      <td>IS</td>\n",
       "      <td>The evolution of Enterprise Resource Planning ...</td>\n",
       "    </tr>\n",
       "    <tr>\n",
       "      <th>5</th>\n",
       "      <td>6</td>\n",
       "      <td>IS</td>\n",
       "      <td>In any business network for record transaction...</td>\n",
       "    </tr>\n",
       "    <tr>\n",
       "      <th>6</th>\n",
       "      <td>7</td>\n",
       "      <td>IT</td>\n",
       "      <td>In the last decade, novel software architectur...</td>\n",
       "    </tr>\n",
       "    <tr>\n",
       "      <th>7</th>\n",
       "      <td>8</td>\n",
       "      <td>IT</td>\n",
       "      <td>The latest wireless technology is developing s...</td>\n",
       "    </tr>\n",
       "    <tr>\n",
       "      <th>8</th>\n",
       "      <td>9</td>\n",
       "      <td>IT</td>\n",
       "      <td>In the emerging environment of high performanc...</td>\n",
       "    </tr>\n",
       "  </tbody>\n",
       "</table>\n",
       "</div>"
      ],
      "text/plain": [
       "   ID Discipline                                           Abstract\n",
       "0   1         CS  Proteins are the fundamental biological macrom...\n",
       "1   2         CS  CompCert is the first commercially available o...\n",
       "2   3         CS  Virtual and augmented reality (VR/AR) are expe...\n",
       "3   4         IS  The implementation of eHealth systems with a t...\n",
       "4   5         IS  The evolution of Enterprise Resource Planning ...\n",
       "5   6         IS  In any business network for record transaction...\n",
       "6   7         IT  In the last decade, novel software architectur...\n",
       "7   8         IT  The latest wireless technology is developing s...\n",
       "8   9         IT  In the emerging environment of high performanc..."
      ]
     },
     "execution_count": 5,
     "metadata": {},
     "output_type": "execute_result"
    }
   ],
   "source": [
    "import pandas as pd\n",
    "\n",
    "# Load your new evaluation CSV\n",
    "eval_data = pd.read_csv(\"Evaluation Dataset - 9 entries.csv\")\n",
    "\n",
    "# Preview\n",
    "eval_data"
   ]
  },
  {
   "cell_type": "code",
   "execution_count": 7,
   "id": "6c7775d2",
   "metadata": {},
   "outputs": [
    {
     "data": {
      "text/html": [
       "<div>\n",
       "<style scoped>\n",
       "    .dataframe tbody tr th:only-of-type {\n",
       "        vertical-align: middle;\n",
       "    }\n",
       "\n",
       "    .dataframe tbody tr th {\n",
       "        vertical-align: top;\n",
       "    }\n",
       "\n",
       "    .dataframe thead th {\n",
       "        text-align: right;\n",
       "    }\n",
       "</style>\n",
       "<table border=\"1\" class=\"dataframe\">\n",
       "  <thead>\n",
       "    <tr style=\"text-align: right;\">\n",
       "      <th></th>\n",
       "      <th>Discipline</th>\n",
       "      <th>True_Label</th>\n",
       "    </tr>\n",
       "  </thead>\n",
       "  <tbody>\n",
       "    <tr>\n",
       "      <th>0</th>\n",
       "      <td>CS</td>\n",
       "      <td>0</td>\n",
       "    </tr>\n",
       "    <tr>\n",
       "      <th>1</th>\n",
       "      <td>CS</td>\n",
       "      <td>0</td>\n",
       "    </tr>\n",
       "    <tr>\n",
       "      <th>2</th>\n",
       "      <td>CS</td>\n",
       "      <td>0</td>\n",
       "    </tr>\n",
       "    <tr>\n",
       "      <th>3</th>\n",
       "      <td>IS</td>\n",
       "      <td>1</td>\n",
       "    </tr>\n",
       "    <tr>\n",
       "      <th>4</th>\n",
       "      <td>IS</td>\n",
       "      <td>1</td>\n",
       "    </tr>\n",
       "  </tbody>\n",
       "</table>\n",
       "</div>"
      ],
      "text/plain": [
       "  Discipline  True_Label\n",
       "0         CS           0\n",
       "1         CS           0\n",
       "2         CS           0\n",
       "3         IS           1\n",
       "4         IS           1"
      ]
     },
     "execution_count": 7,
     "metadata": {},
     "output_type": "execute_result"
    }
   ],
   "source": [
    "label_map = {'CS': 0, 'IS': 1, 'IT': 2}\n",
    "eval_data['True_Label'] = eval_data['Discipline'].map(label_map)\n",
    "eval_data[['Discipline', 'True_Label']].head()"
   ]
  },
  {
   "cell_type": "code",
   "execution_count": 8,
   "id": "c2bc2637",
   "metadata": {},
   "outputs": [
    {
     "name": "stdout",
     "output_type": "stream",
     "text": [
      "TF-IDF matrix shape: (9, 2000)\n"
     ]
    }
   ],
   "source": [
    "# Use the saved TF-IDF vectorizer to transform the abstract texts into feature vectors\n",
    "X_eval = tfidf_vectorizer.transform(eval_data['Abstract'])\n",
    "\n",
    "# Optional: Check the shape of the resulting feature matrix\n",
    "print(\"TF-IDF matrix shape:\", X_eval.shape)"
   ]
  },
  {
   "cell_type": "code",
   "execution_count": 9,
   "id": "6cdb44f9",
   "metadata": {},
   "outputs": [
    {
     "data": {
      "text/html": [
       "<div>\n",
       "<style scoped>\n",
       "    .dataframe tbody tr th:only-of-type {\n",
       "        vertical-align: middle;\n",
       "    }\n",
       "\n",
       "    .dataframe tbody tr th {\n",
       "        vertical-align: top;\n",
       "    }\n",
       "\n",
       "    .dataframe thead th {\n",
       "        text-align: right;\n",
       "    }\n",
       "</style>\n",
       "<table border=\"1\" class=\"dataframe\">\n",
       "  <thead>\n",
       "    <tr style=\"text-align: right;\">\n",
       "      <th></th>\n",
       "      <th>Discipline</th>\n",
       "      <th>True_Label</th>\n",
       "      <th>Predicted_Label</th>\n",
       "    </tr>\n",
       "  </thead>\n",
       "  <tbody>\n",
       "    <tr>\n",
       "      <th>0</th>\n",
       "      <td>CS</td>\n",
       "      <td>0</td>\n",
       "      <td>0</td>\n",
       "    </tr>\n",
       "    <tr>\n",
       "      <th>1</th>\n",
       "      <td>CS</td>\n",
       "      <td>0</td>\n",
       "      <td>0</td>\n",
       "    </tr>\n",
       "    <tr>\n",
       "      <th>2</th>\n",
       "      <td>CS</td>\n",
       "      <td>0</td>\n",
       "      <td>0</td>\n",
       "    </tr>\n",
       "    <tr>\n",
       "      <th>3</th>\n",
       "      <td>IS</td>\n",
       "      <td>1</td>\n",
       "      <td>1</td>\n",
       "    </tr>\n",
       "    <tr>\n",
       "      <th>4</th>\n",
       "      <td>IS</td>\n",
       "      <td>1</td>\n",
       "      <td>1</td>\n",
       "    </tr>\n",
       "    <tr>\n",
       "      <th>5</th>\n",
       "      <td>IS</td>\n",
       "      <td>1</td>\n",
       "      <td>0</td>\n",
       "    </tr>\n",
       "    <tr>\n",
       "      <th>6</th>\n",
       "      <td>IT</td>\n",
       "      <td>2</td>\n",
       "      <td>2</td>\n",
       "    </tr>\n",
       "    <tr>\n",
       "      <th>7</th>\n",
       "      <td>IT</td>\n",
       "      <td>2</td>\n",
       "      <td>2</td>\n",
       "    </tr>\n",
       "    <tr>\n",
       "      <th>8</th>\n",
       "      <td>IT</td>\n",
       "      <td>2</td>\n",
       "      <td>2</td>\n",
       "    </tr>\n",
       "  </tbody>\n",
       "</table>\n",
       "</div>"
      ],
      "text/plain": [
       "  Discipline  True_Label  Predicted_Label\n",
       "0         CS           0                0\n",
       "1         CS           0                0\n",
       "2         CS           0                0\n",
       "3         IS           1                1\n",
       "4         IS           1                1\n",
       "5         IS           1                0\n",
       "6         IT           2                2\n",
       "7         IT           2                2\n",
       "8         IT           2                2"
      ]
     },
     "execution_count": 9,
     "metadata": {},
     "output_type": "execute_result"
    }
   ],
   "source": [
    "# Predict the discipline labels using the trained Logistic Regression model\n",
    "y_pred = logreg_model.predict(X_eval)\n",
    "\n",
    "# Add predictions to your DataFrame\n",
    "eval_data['Predicted_Label'] = y_pred\n",
    "\n",
    "# View the actual vs predicted labels\n",
    "eval_data[['Discipline', 'True_Label', 'Predicted_Label']]"
   ]
  },
  {
   "cell_type": "code",
   "execution_count": 10,
   "id": "d1461ff8",
   "metadata": {},
   "outputs": [
    {
     "name": "stdout",
     "output_type": "stream",
     "text": [
      "Classification Report:\n",
      "\n",
      "              precision    recall  f1-score   support\n",
      "\n",
      "          CS       0.75      1.00      0.86         3\n",
      "          IS       1.00      0.67      0.80         3\n",
      "          IT       1.00      1.00      1.00         3\n",
      "\n",
      "    accuracy                           0.89         9\n",
      "   macro avg       0.92      0.89      0.89         9\n",
      "weighted avg       0.92      0.89      0.89         9\n",
      "\n"
     ]
    },
    {
     "data": {
      "image/png": "[encoded data removed]",
      "text/plain": [
       "<Figure size 432x288 with 2 Axes>"
      ]
     },
     "metadata": {
      "needs_background": "light"
     },
     "output_type": "display_data"
    }
   ],
   "source": [
    "from sklearn.metrics import classification_report, confusion_matrix\n",
    "import seaborn as sns\n",
    "import matplotlib.pyplot as plt\n",
    "\n",
    "# Classification report: detailed precision, recall, F1\n",
    "print(\"Classification Report:\\n\")\n",
    "print(classification_report(eval_data['True_Label'], y_pred, target_names=['CS', 'IS', 'IT']))\n",
    "\n",
    "# Confusion matrix: 3x3 visual layout\n",
    "cm = confusion_matrix(eval_data['True_Label'], y_pred)\n",
    "\n",
    "# Plot confusion matrix\n",
    "plt.figure(figsize=(6, 4))\n",
    "sns.heatmap(cm, annot=True, fmt='d', cmap='Blues',\n",
    "            xticklabels=['CS', 'IS', 'IT'],\n",
    "            yticklabels=['CS', 'IS', 'IT'])\n",
    "plt.xlabel(\"Predicted Label\")\n",
    "plt.ylabel(\"True Label\")\n",
    "plt.title(\"Confusion Matrix - Evaluation Dataset\")\n",
    "plt.tight_layout()\n",
    "plt.show()"
   ]
  },
  {
   "cell_type": "markdown",
   "id": "486352fa",
   "metadata": {},
   "source": [
    "### 📊 Final Evaluation Summary – Discipline Classifier (Logistic Regression)\n",
    "\n",
    "#### 🗂 Evaluation Dataset\n",
    "- **Total entries**: 9 abstracts (3 CS, 3 IS, 3 IT)\n",
    "- **Source**: `Evaluation Dataset - 9 entries.csv`\n",
    "- Each abstract was selected from a unique subfield and methodology for generalization testing\n",
    "\n",
    "#### 🧠 Model Evaluated\n",
    "- **Model**: Logistic Regression (`discipline_classifier_logreg.pkl`)\n",
    "- **Vectorizer**: TF-IDF (`tfidf_vectorizer.pkl`)\n",
    "- **Training set**: 105 abstracts (35 per class)\n",
    "- **Input features**: 2000-dimensional TF-IDF vectors\n",
    "\n",
    "#### ✅ Insights\n",
    "- Strong generalization on an unseen dataset with discipline, subfield, and methodology diversity\n",
    "- Slight confusion between IS and CS—realistic in interdisciplinary research\n",
    "- Confirms model readiness for next phase: **subfield + methodology classification**"
   ]
  },
  {
   "cell_type": "code",
   "execution_count": null,
   "id": "724d53fc",
   "metadata": {},
   "outputs": [],
   "source": []
  }
 ],
 "metadata": {
  "kernelspec": {
   "display_name": "Python 3 (ipykernel)",
   "language": "python",
   "name": "python3"
  },
  "language_info": {
   "codemirror_mode": {
    "name": "ipython",
    "version": 3
   },
   "file_extension": ".py",
   "mimetype": "text/x-python",
   "name": "python",
   "nbconvert_exporter": "python",
   "pygments_lexer": "ipython3",
   "version": "3.9.12"
  }
 },
 "nbformat": 4,
 "nbformat_minor": 5
}
